{
  "nbformat": 4,
  "nbformat_minor": 0,
  "metadata": {
    "colab": {
      "name": "spacy_first_steps.ipynb",
      "provenance": [],
      "collapsed_sections": [],
      "authorship_tag": "ABX9TyOnbIdqtkgYMo8WY07oSj1K",
      "include_colab_link": true
    },
    "kernelspec": {
      "name": "python3",
      "display_name": "Python 3"
    }
  },
  "cells": [
    {
      "cell_type": "markdown",
      "metadata": {
        "id": "view-in-github",
        "colab_type": "text"
      },
      "source": [
        "<a href=\"https://colab.research.google.com/github/ravi-kiran-iiml/my_git/blob/master/spacy_first_steps.ipynb\" target=\"_parent\"><img src=\"https://colab.research.google.com/assets/colab-badge.svg\" alt=\"Open In Colab\"/></a>"
      ]
    },
    {
      "cell_type": "markdown",
      "metadata": {
        "id": "heyp6luSd_g7",
        "colab_type": "text"
      },
      "source": [
        "https://towardsdatascience.com/a-short-introduction-to-nlp-in-python-with-spacy-d0aa819af3ad"
      ]
    },
    {
      "cell_type": "code",
      "metadata": {
        "id": "37Adpfv1RlMW",
        "colab_type": "code",
        "colab": {
          "base_uri": "https://localhost:8080/",
          "height": 373
        },
        "outputId": "5d856474-4d6b-4e7a-c1b2-2abfd70620b4"
      },
      "source": [
        "!pip install spacy"
      ],
      "execution_count": 1,
      "outputs": [
        {
          "output_type": "stream",
          "text": [
            "Requirement already satisfied: spacy in /usr/local/lib/python3.6/dist-packages (2.2.4)\n",
            "Requirement already satisfied: setuptools in /usr/local/lib/python3.6/dist-packages (from spacy) (46.1.3)\n",
            "Requirement already satisfied: requests<3.0.0,>=2.13.0 in /usr/local/lib/python3.6/dist-packages (from spacy) (2.21.0)\n",
            "Requirement already satisfied: blis<0.5.0,>=0.4.0 in /usr/local/lib/python3.6/dist-packages (from spacy) (0.4.1)\n",
            "Requirement already satisfied: tqdm<5.0.0,>=4.38.0 in /usr/local/lib/python3.6/dist-packages (from spacy) (4.38.0)\n",
            "Requirement already satisfied: srsly<1.1.0,>=1.0.2 in /usr/local/lib/python3.6/dist-packages (from spacy) (1.0.2)\n",
            "Requirement already satisfied: preshed<3.1.0,>=3.0.2 in /usr/local/lib/python3.6/dist-packages (from spacy) (3.0.2)\n",
            "Requirement already satisfied: cymem<2.1.0,>=2.0.2 in /usr/local/lib/python3.6/dist-packages (from spacy) (2.0.3)\n",
            "Requirement already satisfied: catalogue<1.1.0,>=0.0.7 in /usr/local/lib/python3.6/dist-packages (from spacy) (1.0.0)\n",
            "Requirement already satisfied: numpy>=1.15.0 in /usr/local/lib/python3.6/dist-packages (from spacy) (1.18.3)\n",
            "Requirement already satisfied: wasabi<1.1.0,>=0.4.0 in /usr/local/lib/python3.6/dist-packages (from spacy) (0.6.0)\n",
            "Requirement already satisfied: plac<1.2.0,>=0.9.6 in /usr/local/lib/python3.6/dist-packages (from spacy) (1.1.3)\n",
            "Requirement already satisfied: murmurhash<1.1.0,>=0.28.0 in /usr/local/lib/python3.6/dist-packages (from spacy) (1.0.2)\n",
            "Requirement already satisfied: thinc==7.4.0 in /usr/local/lib/python3.6/dist-packages (from spacy) (7.4.0)\n",
            "Requirement already satisfied: idna<2.9,>=2.5 in /usr/local/lib/python3.6/dist-packages (from requests<3.0.0,>=2.13.0->spacy) (2.8)\n",
            "Requirement already satisfied: urllib3<1.25,>=1.21.1 in /usr/local/lib/python3.6/dist-packages (from requests<3.0.0,>=2.13.0->spacy) (1.24.3)\n",
            "Requirement already satisfied: certifi>=2017.4.17 in /usr/local/lib/python3.6/dist-packages (from requests<3.0.0,>=2.13.0->spacy) (2020.4.5.1)\n",
            "Requirement already satisfied: chardet<3.1.0,>=3.0.2 in /usr/local/lib/python3.6/dist-packages (from requests<3.0.0,>=2.13.0->spacy) (3.0.4)\n",
            "Requirement already satisfied: importlib-metadata>=0.20; python_version < \"3.8\" in /usr/local/lib/python3.6/dist-packages (from catalogue<1.1.0,>=0.0.7->spacy) (1.6.0)\n",
            "Requirement already satisfied: zipp>=0.5 in /usr/local/lib/python3.6/dist-packages (from importlib-metadata>=0.20; python_version < \"3.8\"->catalogue<1.1.0,>=0.0.7->spacy) (3.1.0)\n"
          ],
          "name": "stdout"
        }
      ]
    },
    {
      "cell_type": "code",
      "metadata": {
        "id": "hlnyMqKWYiLu",
        "colab_type": "code",
        "colab": {
          "base_uri": "https://localhost:8080/",
          "height": 34
        },
        "outputId": "bfe2cc95-51bc-4ab6-d629-71e11abfc557"
      },
      "source": [
        "import spacy\n",
        "nlp = spacy.load(\"en\") \n",
        "doc = nlp(\"The big grey dog ate all of the chocolate, but fortunately he wasn't sick!\")\n",
        "\n",
        "print(doc)\n"
      ],
      "execution_count": 5,
      "outputs": [
        {
          "output_type": "stream",
          "text": [
            "The big grey dog ate all of the chocolate, but fortunately he wasn't sick!\n"
          ],
          "name": "stdout"
        }
      ]
    },
    {
      "cell_type": "markdown",
      "metadata": {
        "id": "B0sOp4Amaljz",
        "colab_type": "text"
      },
      "source": [
        "# Tokenization"
      ]
    },
    {
      "cell_type": "code",
      "metadata": {
        "id": "pphY2_RaZxTU",
        "colab_type": "code",
        "colab": {
          "base_uri": "https://localhost:8080/",
          "height": 252
        },
        "outputId": "daf66225-e044-426e-f1a7-5d688059d5ca"
      },
      "source": [
        "doc.text.split() "
      ],
      "execution_count": 6,
      "outputs": [
        {
          "output_type": "execute_result",
          "data": {
            "text/plain": [
              "['The',\n",
              " 'big',\n",
              " 'grey',\n",
              " 'dog',\n",
              " 'ate',\n",
              " 'all',\n",
              " 'of',\n",
              " 'the',\n",
              " 'chocolate,',\n",
              " 'but',\n",
              " 'fortunately',\n",
              " 'he',\n",
              " \"wasn't\",\n",
              " 'sick!']"
            ]
          },
          "metadata": {
            "tags": []
          },
          "execution_count": 6
        }
      ]
    },
    {
      "cell_type": "code",
      "metadata": {
        "id": "02slRPxlZ0AP",
        "colab_type": "code",
        "colab": {
          "base_uri": "https://localhost:8080/",
          "height": 302
        },
        "outputId": "bcf471df-5835-438e-99f8-f64ad3ca0990"
      },
      "source": [
        "[token.orth_ for token in doc]"
      ],
      "execution_count": 7,
      "outputs": [
        {
          "output_type": "execute_result",
          "data": {
            "text/plain": [
              "['The',\n",
              " 'big',\n",
              " 'grey',\n",
              " 'dog',\n",
              " 'ate',\n",
              " 'all',\n",
              " 'of',\n",
              " 'the',\n",
              " 'chocolate',\n",
              " ',',\n",
              " 'but',\n",
              " 'fortunately',\n",
              " 'he',\n",
              " 'was',\n",
              " \"n't\",\n",
              " 'sick',\n",
              " '!']"
            ]
          },
          "metadata": {
            "tags": []
          },
          "execution_count": 7
        }
      ]
    },
    {
      "cell_type": "code",
      "metadata": {
        "id": "UvNSJ0iwZ8C5",
        "colab_type": "code",
        "colab": {
          "base_uri": "https://localhost:8080/",
          "height": 302
        },
        "outputId": "988f2a2d-9ddb-4dad-b48f-abcba989d6b7"
      },
      "source": [
        "[(token, token.orth_, token.orth) for token in doc]"
      ],
      "execution_count": 8,
      "outputs": [
        {
          "output_type": "execute_result",
          "data": {
            "text/plain": [
              "[(The, 'The', 5059648917813135842),\n",
              " (big, 'big', 15511632813958231649),\n",
              " (grey, 'grey', 10475807793332549289),\n",
              " (dog, 'dog', 7562983679033046312),\n",
              " (ate, 'ate', 10806788082624814911),\n",
              " (all, 'all', 13409319323822384369),\n",
              " (of, 'of', 886050111519832510),\n",
              " (the, 'the', 7425985699627899538),\n",
              " (chocolate, 'chocolate', 10946593968795032542),\n",
              " (,, ',', 2593208677638477497),\n",
              " (but, 'but', 14560795576765492085),\n",
              " (fortunately, 'fortunately', 13851269277375979931),\n",
              " (he, 'he', 1655312771067108281),\n",
              " (was, 'was', 9921686513378912864),\n",
              " (n't, \"n't\", 2043519015752540944),\n",
              " (sick, 'sick', 14841597609857081305),\n",
              " (!, '!', 17494803046312582752)]"
            ]
          },
          "metadata": {
            "tags": []
          },
          "execution_count": 8
        }
      ]
    },
    {
      "cell_type": "code",
      "metadata": {
        "id": "plytT8QmaRuf",
        "colab_type": "code",
        "colab": {
          "base_uri": "https://localhost:8080/",
          "height": 269
        },
        "outputId": "655394a7-5f5a-4eea-feee-bcb0bbfff6b3"
      },
      "source": [
        "[token.orth_ for token in doc if not token.is_punct | token.is_space]"
      ],
      "execution_count": 9,
      "outputs": [
        {
          "output_type": "execute_result",
          "data": {
            "text/plain": [
              "['The',\n",
              " 'big',\n",
              " 'grey',\n",
              " 'dog',\n",
              " 'ate',\n",
              " 'all',\n",
              " 'of',\n",
              " 'the',\n",
              " 'chocolate',\n",
              " 'but',\n",
              " 'fortunately',\n",
              " 'he',\n",
              " 'was',\n",
              " \"n't\",\n",
              " 'sick']"
            ]
          },
          "metadata": {
            "tags": []
          },
          "execution_count": 9
        }
      ]
    },
    {
      "cell_type": "markdown",
      "metadata": {
        "id": "Ro7A-lIPat_9",
        "colab_type": "text"
      },
      "source": [
        "# Lemmatization\n"
      ]
    },
    {
      "cell_type": "code",
      "metadata": {
        "id": "ToKb2wJvahQ0",
        "colab_type": "code",
        "colab": {
          "base_uri": "https://localhost:8080/",
          "height": 50
        },
        "outputId": "ba114ea1-9f21-4a3f-dc60-498d6522f634"
      },
      "source": [
        "practice = \"practice practiced practicing\" \n",
        "nlp_practice = nlp(practice) \n",
        "print(nlp_practice)\n",
        "[word.lemma_ for word in nlp_practice] "
      ],
      "execution_count": 11,
      "outputs": [
        {
          "output_type": "stream",
          "text": [
            "practice practiced practicing\n"
          ],
          "name": "stdout"
        },
        {
          "output_type": "execute_result",
          "data": {
            "text/plain": [
              "['practice', 'practice', 'practice']"
            ]
          },
          "metadata": {
            "tags": []
          },
          "execution_count": 11
        }
      ]
    },
    {
      "cell_type": "markdown",
      "metadata": {
        "id": "Yjq_Op9IbFwg",
        "colab_type": "text"
      },
      "source": [
        "# POS Tagging"
      ]
    },
    {
      "cell_type": "code",
      "metadata": {
        "id": "HG4HSZM3bBjA",
        "colab_type": "code",
        "colab": {
          "base_uri": "https://localhost:8080/",
          "height": 302
        },
        "outputId": "893e1eb3-3f99-4891-a9e2-9830cf155fe8"
      },
      "source": [
        "doc2 = nlp(\"Conor's dog's toy was hidden under the man's sofa in the woman's house\")\n",
        "\n",
        "pos_tags = [(i, i.tag_) for i in doc2]\n",
        "pos_tags"
      ],
      "execution_count": 13,
      "outputs": [
        {
          "output_type": "execute_result",
          "data": {
            "text/plain": [
              "[(Conor, 'NNP'),\n",
              " ('s, 'POS'),\n",
              " (dog, 'NN'),\n",
              " ('s, 'POS'),\n",
              " (toy, 'NN'),\n",
              " (was, 'VBD'),\n",
              " (hidden, 'VBN'),\n",
              " (under, 'IN'),\n",
              " (the, 'DT'),\n",
              " (man, 'NN'),\n",
              " ('s, 'POS'),\n",
              " (sofa, 'NN'),\n",
              " (in, 'IN'),\n",
              " (the, 'DT'),\n",
              " (woman, 'NN'),\n",
              " ('s, 'POS'),\n",
              " (house, 'NN')]"
            ]
          },
          "metadata": {
            "tags": []
          },
          "execution_count": 13
        }
      ]
    },
    {
      "cell_type": "code",
      "metadata": {
        "id": "tPNlZO3ZcnMK",
        "colab_type": "code",
        "colab": {
          "base_uri": "https://localhost:8080/",
          "height": 34
        },
        "outputId": "0ed631f9-cbc1-40bb-bbe8-0a405058ba6e"
      },
      "source": [
        "owners_possessions = []\n",
        "for i in pos_tags:\n",
        "  if i[1] == \"POS\":\n",
        "    owner = i[0].nbor(-1)\n",
        "    possession = i[0].nbor(1)\n",
        "    owners_possessions.append((owner, possession))\n",
        "\n",
        "owners_possessions"
      ],
      "execution_count": 14,
      "outputs": [
        {
          "output_type": "execute_result",
          "data": {
            "text/plain": [
              "[(Conor, dog), (dog, toy), (man, sofa), (woman, house)]"
            ]
          },
          "metadata": {
            "tags": []
          },
          "execution_count": 14
        }
      ]
    },
    {
      "cell_type": "code",
      "metadata": {
        "id": "Km9790VDc5Vy",
        "colab_type": "code",
        "colab": {
          "base_uri": "https://localhost:8080/",
          "height": 34
        },
        "outputId": "6dbf530d-8ad1-4afe-f89c-8486475534a2"
      },
      "source": [
        "[(i[0].nbor(-1), i[0].nbor(+1)) for i in pos_tags if i[1] == \"POS\"]"
      ],
      "execution_count": 15,
      "outputs": [
        {
          "output_type": "execute_result",
          "data": {
            "text/plain": [
              "[(Conor, dog), (dog, toy), (man, sofa), (woman, house)]"
            ]
          },
          "metadata": {
            "tags": []
          },
          "execution_count": 15
        }
      ]
    },
    {
      "cell_type": "markdown",
      "metadata": {
        "id": "Q42ViIa6c95V",
        "colab_type": "text"
      },
      "source": [
        "# Entity recognition"
      ]
    },
    {
      "cell_type": "code",
      "metadata": {
        "id": "-HiErkoIc80O",
        "colab_type": "code",
        "colab": {
          "base_uri": "https://localhost:8080/",
          "height": 151
        },
        "outputId": "84b16e8e-1a30-4b5c-e19b-bec80ffc34f1"
      },
      "source": [
        "wiki_obama = \"\"\"Barack Obama is an American politician who served as the 44th President of the United States from 2009 to 2017. He is the first African American to have served as president, as well as the first born outside the contiguous United States.\"\"\"\n",
        "\n",
        "nlp_obama = nlp(wiki_obama)\n",
        "\n",
        "[(i, i.label_, i.label) for i in nlp_obama.ents]"
      ],
      "execution_count": 16,
      "outputs": [
        {
          "output_type": "execute_result",
          "data": {
            "text/plain": [
              "[(American, 'NORP', 381),\n",
              " (44th, 'ORDINAL', 396),\n",
              " (the United States, 'GPE', 384),\n",
              " (2009 to 2017, 'DATE', 391),\n",
              " (first, 'ORDINAL', 396),\n",
              " (African American, 'NORP', 381),\n",
              " (first, 'ORDINAL', 396),\n",
              " (United States, 'GPE', 384)]"
            ]
          },
          "metadata": {
            "tags": []
          },
          "execution_count": 16
        }
      ]
    },
    {
      "cell_type": "code",
      "metadata": {
        "id": "uhGPmTW9dqGd",
        "colab_type": "code",
        "colab": {
          "base_uri": "https://localhost:8080/",
          "height": 70
        },
        "outputId": "e7c957bd-1d0b-47a7-99d8-b0291793ffa7"
      },
      "source": [
        "for ix, sent in enumerate(nlp_obama.sents, 1):\n",
        "  print(\"Sentence number {}: {}\".format(ix, sent))"
      ],
      "execution_count": 17,
      "outputs": [
        {
          "output_type": "stream",
          "text": [
            "Sentence number 1: Barack Obama is an American politician who served as the 44th President of the United States from 2009 to 2017.\n",
            "Sentence number 2: He is the first African American to have served as president, as well as the first born outside the contiguous United States.\n"
          ],
          "name": "stdout"
        }
      ]
    },
    {
      "cell_type": "code",
      "metadata": {
        "id": "WKPefuJTdz0n",
        "colab_type": "code",
        "colab": {}
      },
      "source": [
        ""
      ],
      "execution_count": 0,
      "outputs": []
    }
  ]
}