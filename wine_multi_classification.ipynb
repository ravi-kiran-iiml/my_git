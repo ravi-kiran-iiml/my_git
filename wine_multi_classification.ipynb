{
  "nbformat": 4,
  "nbformat_minor": 0,
  "metadata": {
    "colab": {
      "name": "wine_multi_classification.ipynb",
      "provenance": [],
      "authorship_tag": "ABX9TyMPESbQFkFjLlXDf7z3YWDU",
      "include_colab_link": true
    },
    "kernelspec": {
      "name": "python3",
      "display_name": "Python 3"
    }
  },
  "cells": [
    {
      "cell_type": "markdown",
      "metadata": {
        "id": "view-in-github",
        "colab_type": "text"
      },
      "source": [
        "<a href=\"https://colab.research.google.com/github/ravikiraniitm17/my_git/blob/master/wine_multi_classification.ipynb\" target=\"_parent\"><img src=\"https://colab.research.google.com/assets/colab-badge.svg\" alt=\"Open In Colab\"/></a>"
      ]
    },
    {
      "cell_type": "code",
      "metadata": {
        "id": "IlWJwiGpf-6h",
        "colab_type": "code",
        "colab": {}
      },
      "source": [
        "import pandas as pd\n",
        "import numpy as np\n",
        "import sklearn"
      ],
      "execution_count": 0,
      "outputs": []
    },
    {
      "cell_type": "code",
      "metadata": {
        "id": "mibsQ_WYgw_d",
        "colab_type": "code",
        "outputId": "dd452f44-84cc-4eea-c152-6f0e4dcdaff1",
        "colab": {
          "base_uri": "https://localhost:8080/",
          "height": 52
        }
      },
      "source": [
        "from sklearn.datasets import load_wine\n",
        "\n",
        "dataset = load_wine()\n",
        "X = dataset.data\n",
        "y = dataset.target\n",
        "\n",
        "print(X.shape)\n",
        "print(y.shape)"
      ],
      "execution_count": 0,
      "outputs": [
        {
          "output_type": "stream",
          "text": [
            "(178, 13)\n",
            "(178,)\n"
          ],
          "name": "stdout"
        }
      ]
    },
    {
      "cell_type": "code",
      "metadata": {
        "id": "Pxrv7vHOhYOI",
        "colab_type": "code",
        "colab": {}
      },
      "source": [
        "from sklearn.preprocessing import StandardScaler\n",
        "scaler = StandardScaler()\n",
        "x = scaler.fit_transform(X)"
      ],
      "execution_count": 0,
      "outputs": []
    },
    {
      "cell_type": "code",
      "metadata": {
        "id": "hLjyF5d8hh0W",
        "colab_type": "code",
        "colab": {}
      },
      "source": [
        "from keras.utils.np_utils import to_categorical\n",
        "\n",
        "y_categorical = to_categorical(y)"
      ],
      "execution_count": 0,
      "outputs": []
    },
    {
      "cell_type": "code",
      "metadata": {
        "id": "vTPEROtOhvK0",
        "colab_type": "code",
        "colab": {}
      },
      "source": [
        "from sklearn.model_selection import train_test_split\n",
        "\n",
        "x_train, x_test, y_train, y_test = train_test_split(x, y_categorical, test_size = 0.3)"
      ],
      "execution_count": 0,
      "outputs": []
    },
    {
      "cell_type": "code",
      "metadata": {
        "id": "yOT-lAQsh6F0",
        "colab_type": "code",
        "colab": {}
      },
      "source": [
        "from keras import models\n",
        "from keras import layers\n",
        "\n",
        "model = models.Sequential()\n",
        "model.add(layers.Dense(24, activation='relu'))\n",
        "model.add(layers.Dense(16, activation='relu'))\n",
        "model.add(layers.Dense(3, activation='softmax'))\n",
        "\n",
        "model.compile(optimizer='rmsprop',loss='categorical_crossentropy',metrics=['accuracy'])"
      ],
      "execution_count": 0,
      "outputs": []
    },
    {
      "cell_type": "code",
      "metadata": {
        "id": "sPtf1y1TiLet",
        "colab_type": "code",
        "outputId": "1a082040-f079-400e-c6f4-5275e8ef86e5",
        "colab": {
          "base_uri": "https://localhost:8080/",
          "height": 1000
        }
      },
      "source": [
        "h = model.fit(x_train, y_train, epochs = 100, batch_size = 30, validation_data = (x_test, y_test))\n"
      ],
      "execution_count": 0,
      "outputs": [
        {
          "output_type": "stream",
          "text": [
            "Train on 124 samples, validate on 54 samples\n",
            "Epoch 1/100\n",
            "124/124 [==============================] - 0s 2ms/step - loss: 1.2502 - accuracy: 0.3468 - val_loss: 0.8959 - val_accuracy: 0.5741\n",
            "Epoch 2/100\n",
            "124/124 [==============================] - 0s 81us/step - loss: 1.1021 - accuracy: 0.4758 - val_loss: 0.8157 - val_accuracy: 0.7037\n",
            "Epoch 3/100\n",
            "124/124 [==============================] - 0s 103us/step - loss: 1.0139 - accuracy: 0.5403 - val_loss: 0.7466 - val_accuracy: 0.7037\n",
            "Epoch 4/100\n",
            "124/124 [==============================] - 0s 86us/step - loss: 0.9310 - accuracy: 0.5726 - val_loss: 0.6983 - val_accuracy: 0.7593\n",
            "Epoch 5/100\n",
            "124/124 [==============================] - 0s 84us/step - loss: 0.8697 - accuracy: 0.6048 - val_loss: 0.6514 - val_accuracy: 0.7593\n",
            "Epoch 6/100\n",
            "124/124 [==============================] - 0s 82us/step - loss: 0.8120 - accuracy: 0.6371 - val_loss: 0.6117 - val_accuracy: 0.7963\n",
            "Epoch 7/100\n",
            "124/124 [==============================] - 0s 83us/step - loss: 0.7569 - accuracy: 0.6532 - val_loss: 0.5719 - val_accuracy: 0.8519\n",
            "Epoch 8/100\n",
            "124/124 [==============================] - 0s 86us/step - loss: 0.7055 - accuracy: 0.7500 - val_loss: 0.5328 - val_accuracy: 0.8704\n",
            "Epoch 9/100\n",
            "124/124 [==============================] - 0s 85us/step - loss: 0.6591 - accuracy: 0.8065 - val_loss: 0.4952 - val_accuracy: 0.8704\n",
            "Epoch 10/100\n",
            "124/124 [==============================] - 0s 82us/step - loss: 0.6164 - accuracy: 0.8145 - val_loss: 0.4625 - val_accuracy: 0.8889\n",
            "Epoch 11/100\n",
            "124/124 [==============================] - 0s 85us/step - loss: 0.5756 - accuracy: 0.8306 - val_loss: 0.4285 - val_accuracy: 0.8889\n",
            "Epoch 12/100\n",
            "124/124 [==============================] - 0s 81us/step - loss: 0.5370 - accuracy: 0.8468 - val_loss: 0.4004 - val_accuracy: 0.9074\n",
            "Epoch 13/100\n",
            "124/124 [==============================] - 0s 87us/step - loss: 0.5013 - accuracy: 0.8710 - val_loss: 0.3725 - val_accuracy: 0.9444\n",
            "Epoch 14/100\n",
            "124/124 [==============================] - 0s 79us/step - loss: 0.4646 - accuracy: 0.8952 - val_loss: 0.3472 - val_accuracy: 0.9444\n",
            "Epoch 15/100\n",
            "124/124 [==============================] - 0s 76us/step - loss: 0.4345 - accuracy: 0.9113 - val_loss: 0.3240 - val_accuracy: 0.9630\n",
            "Epoch 16/100\n",
            "124/124 [==============================] - 0s 97us/step - loss: 0.4027 - accuracy: 0.9274 - val_loss: 0.3009 - val_accuracy: 0.9630\n",
            "Epoch 17/100\n",
            "124/124 [==============================] - 0s 90us/step - loss: 0.3736 - accuracy: 0.9516 - val_loss: 0.2831 - val_accuracy: 0.9630\n",
            "Epoch 18/100\n",
            "124/124 [==============================] - 0s 86us/step - loss: 0.3461 - accuracy: 0.9758 - val_loss: 0.2629 - val_accuracy: 0.9630\n",
            "Epoch 19/100\n",
            "124/124 [==============================] - 0s 78us/step - loss: 0.3187 - accuracy: 0.9758 - val_loss: 0.2455 - val_accuracy: 0.9630\n",
            "Epoch 20/100\n",
            "124/124 [==============================] - 0s 90us/step - loss: 0.2933 - accuracy: 0.9758 - val_loss: 0.2293 - val_accuracy: 0.9630\n",
            "Epoch 21/100\n",
            "124/124 [==============================] - 0s 136us/step - loss: 0.2685 - accuracy: 0.9758 - val_loss: 0.2144 - val_accuracy: 0.9630\n",
            "Epoch 22/100\n",
            "124/124 [==============================] - 0s 92us/step - loss: 0.2442 - accuracy: 0.9839 - val_loss: 0.2024 - val_accuracy: 0.9815\n",
            "Epoch 23/100\n",
            "124/124 [==============================] - 0s 88us/step - loss: 0.2259 - accuracy: 0.9839 - val_loss: 0.1887 - val_accuracy: 0.9815\n",
            "Epoch 24/100\n",
            "124/124 [==============================] - 0s 98us/step - loss: 0.2063 - accuracy: 0.9839 - val_loss: 0.1795 - val_accuracy: 0.9815\n",
            "Epoch 25/100\n",
            "124/124 [==============================] - 0s 81us/step - loss: 0.1894 - accuracy: 0.9758 - val_loss: 0.1677 - val_accuracy: 0.9815\n",
            "Epoch 26/100\n",
            "124/124 [==============================] - 0s 87us/step - loss: 0.1712 - accuracy: 0.9758 - val_loss: 0.1562 - val_accuracy: 0.9815\n",
            "Epoch 27/100\n",
            "124/124 [==============================] - 0s 83us/step - loss: 0.1574 - accuracy: 0.9839 - val_loss: 0.1484 - val_accuracy: 0.9815\n",
            "Epoch 28/100\n",
            "124/124 [==============================] - 0s 86us/step - loss: 0.1444 - accuracy: 0.9758 - val_loss: 0.1394 - val_accuracy: 0.9815\n",
            "Epoch 29/100\n",
            "124/124 [==============================] - 0s 88us/step - loss: 0.1335 - accuracy: 0.9839 - val_loss: 0.1330 - val_accuracy: 0.9815\n",
            "Epoch 30/100\n",
            "124/124 [==============================] - 0s 104us/step - loss: 0.1239 - accuracy: 0.9839 - val_loss: 0.1247 - val_accuracy: 0.9815\n",
            "Epoch 31/100\n",
            "124/124 [==============================] - 0s 91us/step - loss: 0.1146 - accuracy: 0.9839 - val_loss: 0.1207 - val_accuracy: 0.9815\n",
            "Epoch 32/100\n",
            "124/124 [==============================] - 0s 101us/step - loss: 0.1056 - accuracy: 0.9839 - val_loss: 0.1152 - val_accuracy: 0.9815\n",
            "Epoch 33/100\n",
            "124/124 [==============================] - 0s 101us/step - loss: 0.0974 - accuracy: 0.9839 - val_loss: 0.1089 - val_accuracy: 0.9815\n",
            "Epoch 34/100\n",
            "124/124 [==============================] - 0s 96us/step - loss: 0.0895 - accuracy: 0.9839 - val_loss: 0.1030 - val_accuracy: 0.9815\n",
            "Epoch 35/100\n",
            "124/124 [==============================] - 0s 86us/step - loss: 0.0817 - accuracy: 0.9839 - val_loss: 0.0981 - val_accuracy: 0.9815\n",
            "Epoch 36/100\n",
            "124/124 [==============================] - 0s 77us/step - loss: 0.0764 - accuracy: 0.9839 - val_loss: 0.0942 - val_accuracy: 0.9815\n",
            "Epoch 37/100\n",
            "124/124 [==============================] - 0s 87us/step - loss: 0.0710 - accuracy: 0.9839 - val_loss: 0.0915 - val_accuracy: 0.9815\n",
            "Epoch 38/100\n",
            "124/124 [==============================] - 0s 92us/step - loss: 0.0653 - accuracy: 0.9839 - val_loss: 0.0878 - val_accuracy: 0.9815\n",
            "Epoch 39/100\n",
            "124/124 [==============================] - 0s 96us/step - loss: 0.0601 - accuracy: 0.9839 - val_loss: 0.0838 - val_accuracy: 0.9815\n",
            "Epoch 40/100\n",
            "124/124 [==============================] - 0s 82us/step - loss: 0.0563 - accuracy: 0.9839 - val_loss: 0.0790 - val_accuracy: 0.9815\n",
            "Epoch 41/100\n",
            "124/124 [==============================] - 0s 83us/step - loss: 0.0512 - accuracy: 0.9839 - val_loss: 0.0764 - val_accuracy: 0.9815\n",
            "Epoch 42/100\n",
            "124/124 [==============================] - 0s 82us/step - loss: 0.0469 - accuracy: 0.9919 - val_loss: 0.0756 - val_accuracy: 0.9815\n",
            "Epoch 43/100\n",
            "124/124 [==============================] - 0s 83us/step - loss: 0.0431 - accuracy: 0.9919 - val_loss: 0.0743 - val_accuracy: 0.9815\n",
            "Epoch 44/100\n",
            "124/124 [==============================] - 0s 91us/step - loss: 0.0393 - accuracy: 0.9919 - val_loss: 0.0722 - val_accuracy: 0.9815\n",
            "Epoch 45/100\n",
            "124/124 [==============================] - 0s 88us/step - loss: 0.0371 - accuracy: 0.9919 - val_loss: 0.0718 - val_accuracy: 0.9815\n",
            "Epoch 46/100\n",
            "124/124 [==============================] - 0s 103us/step - loss: 0.0336 - accuracy: 1.0000 - val_loss: 0.0702 - val_accuracy: 0.9815\n",
            "Epoch 47/100\n",
            "124/124 [==============================] - 0s 87us/step - loss: 0.0313 - accuracy: 1.0000 - val_loss: 0.0689 - val_accuracy: 0.9815\n",
            "Epoch 48/100\n",
            "124/124 [==============================] - 0s 91us/step - loss: 0.0285 - accuracy: 1.0000 - val_loss: 0.0670 - val_accuracy: 0.9815\n",
            "Epoch 49/100\n",
            "124/124 [==============================] - 0s 93us/step - loss: 0.0259 - accuracy: 1.0000 - val_loss: 0.0662 - val_accuracy: 0.9815\n",
            "Epoch 50/100\n",
            "124/124 [==============================] - 0s 93us/step - loss: 0.0244 - accuracy: 1.0000 - val_loss: 0.0654 - val_accuracy: 0.9815\n",
            "Epoch 51/100\n",
            "124/124 [==============================] - 0s 86us/step - loss: 0.0228 - accuracy: 1.0000 - val_loss: 0.0646 - val_accuracy: 0.9815\n",
            "Epoch 52/100\n",
            "124/124 [==============================] - 0s 81us/step - loss: 0.0216 - accuracy: 1.0000 - val_loss: 0.0647 - val_accuracy: 0.9815\n",
            "Epoch 53/100\n",
            "124/124 [==============================] - 0s 90us/step - loss: 0.0203 - accuracy: 1.0000 - val_loss: 0.0639 - val_accuracy: 0.9815\n",
            "Epoch 54/100\n",
            "124/124 [==============================] - 0s 83us/step - loss: 0.0187 - accuracy: 1.0000 - val_loss: 0.0628 - val_accuracy: 0.9815\n",
            "Epoch 55/100\n",
            "124/124 [==============================] - 0s 87us/step - loss: 0.0177 - accuracy: 1.0000 - val_loss: 0.0623 - val_accuracy: 0.9815\n",
            "Epoch 56/100\n",
            "124/124 [==============================] - 0s 84us/step - loss: 0.0166 - accuracy: 1.0000 - val_loss: 0.0617 - val_accuracy: 0.9815\n",
            "Epoch 57/100\n",
            "124/124 [==============================] - 0s 86us/step - loss: 0.0150 - accuracy: 1.0000 - val_loss: 0.0611 - val_accuracy: 0.9815\n",
            "Epoch 58/100\n",
            "124/124 [==============================] - 0s 101us/step - loss: 0.0142 - accuracy: 1.0000 - val_loss: 0.0595 - val_accuracy: 0.9815\n",
            "Epoch 59/100\n",
            "124/124 [==============================] - 0s 83us/step - loss: 0.0130 - accuracy: 1.0000 - val_loss: 0.0591 - val_accuracy: 0.9815\n",
            "Epoch 60/100\n",
            "124/124 [==============================] - 0s 87us/step - loss: 0.0121 - accuracy: 1.0000 - val_loss: 0.0588 - val_accuracy: 0.9815\n",
            "Epoch 61/100\n",
            "124/124 [==============================] - 0s 91us/step - loss: 0.0109 - accuracy: 1.0000 - val_loss: 0.0626 - val_accuracy: 0.9815\n",
            "Epoch 62/100\n",
            "124/124 [==============================] - 0s 105us/step - loss: 0.0097 - accuracy: 1.0000 - val_loss: 0.0604 - val_accuracy: 0.9815\n",
            "Epoch 63/100\n",
            "124/124 [==============================] - 0s 90us/step - loss: 0.0093 - accuracy: 1.0000 - val_loss: 0.0588 - val_accuracy: 0.9815\n",
            "Epoch 64/100\n",
            "124/124 [==============================] - 0s 102us/step - loss: 0.0084 - accuracy: 1.0000 - val_loss: 0.0562 - val_accuracy: 0.9815\n",
            "Epoch 65/100\n",
            "124/124 [==============================] - 0s 93us/step - loss: 0.0078 - accuracy: 1.0000 - val_loss: 0.0580 - val_accuracy: 0.9815\n",
            "Epoch 66/100\n",
            "124/124 [==============================] - 0s 93us/step - loss: 0.0068 - accuracy: 1.0000 - val_loss: 0.0577 - val_accuracy: 0.9815\n",
            "Epoch 67/100\n",
            "124/124 [==============================] - 0s 88us/step - loss: 0.0063 - accuracy: 1.0000 - val_loss: 0.0573 - val_accuracy: 0.9815\n",
            "Epoch 68/100\n",
            "124/124 [==============================] - 0s 92us/step - loss: 0.0061 - accuracy: 1.0000 - val_loss: 0.0564 - val_accuracy: 0.9815\n",
            "Epoch 69/100\n",
            "124/124 [==============================] - 0s 95us/step - loss: 0.0056 - accuracy: 1.0000 - val_loss: 0.0558 - val_accuracy: 0.9815\n",
            "Epoch 70/100\n",
            "124/124 [==============================] - 0s 93us/step - loss: 0.0052 - accuracy: 1.0000 - val_loss: 0.0547 - val_accuracy: 0.9815\n",
            "Epoch 71/100\n",
            "124/124 [==============================] - 0s 89us/step - loss: 0.0046 - accuracy: 1.0000 - val_loss: 0.0539 - val_accuracy: 0.9815\n",
            "Epoch 72/100\n",
            "124/124 [==============================] - 0s 88us/step - loss: 0.0044 - accuracy: 1.0000 - val_loss: 0.0549 - val_accuracy: 0.9815\n",
            "Epoch 73/100\n",
            "124/124 [==============================] - 0s 82us/step - loss: 0.0039 - accuracy: 1.0000 - val_loss: 0.0546 - val_accuracy: 0.9815\n",
            "Epoch 74/100\n",
            "124/124 [==============================] - 0s 94us/step - loss: 0.0037 - accuracy: 1.0000 - val_loss: 0.0534 - val_accuracy: 0.9815\n",
            "Epoch 75/100\n",
            "124/124 [==============================] - 0s 112us/step - loss: 0.0033 - accuracy: 1.0000 - val_loss: 0.0557 - val_accuracy: 0.9815\n",
            "Epoch 76/100\n",
            "124/124 [==============================] - 0s 93us/step - loss: 0.0030 - accuracy: 1.0000 - val_loss: 0.0530 - val_accuracy: 0.9815\n",
            "Epoch 77/100\n",
            "124/124 [==============================] - 0s 85us/step - loss: 0.0028 - accuracy: 1.0000 - val_loss: 0.0544 - val_accuracy: 0.9815\n",
            "Epoch 78/100\n",
            "124/124 [==============================] - 0s 87us/step - loss: 0.0026 - accuracy: 1.0000 - val_loss: 0.0545 - val_accuracy: 0.9815\n",
            "Epoch 79/100\n",
            "124/124 [==============================] - 0s 100us/step - loss: 0.0023 - accuracy: 1.0000 - val_loss: 0.0551 - val_accuracy: 0.9815\n",
            "Epoch 80/100\n",
            "124/124 [==============================] - 0s 92us/step - loss: 0.0022 - accuracy: 1.0000 - val_loss: 0.0552 - val_accuracy: 0.9815\n",
            "Epoch 81/100\n",
            "124/124 [==============================] - 0s 120us/step - loss: 0.0020 - accuracy: 1.0000 - val_loss: 0.0564 - val_accuracy: 0.9815\n",
            "Epoch 82/100\n",
            "124/124 [==============================] - 0s 87us/step - loss: 0.0018 - accuracy: 1.0000 - val_loss: 0.0567 - val_accuracy: 0.9815\n",
            "Epoch 83/100\n",
            "124/124 [==============================] - 0s 104us/step - loss: 0.0017 - accuracy: 1.0000 - val_loss: 0.0572 - val_accuracy: 0.9815\n",
            "Epoch 84/100\n",
            "124/124 [==============================] - 0s 79us/step - loss: 0.0016 - accuracy: 1.0000 - val_loss: 0.0565 - val_accuracy: 0.9630\n",
            "Epoch 85/100\n",
            "124/124 [==============================] - 0s 86us/step - loss: 0.0014 - accuracy: 1.0000 - val_loss: 0.0572 - val_accuracy: 0.9815\n",
            "Epoch 86/100\n",
            "124/124 [==============================] - 0s 93us/step - loss: 0.0012 - accuracy: 1.0000 - val_loss: 0.0577 - val_accuracy: 0.9815\n",
            "Epoch 87/100\n",
            "124/124 [==============================] - 0s 85us/step - loss: 0.0012 - accuracy: 1.0000 - val_loss: 0.0570 - val_accuracy: 0.9630\n",
            "Epoch 88/100\n",
            "124/124 [==============================] - 0s 79us/step - loss: 0.0011 - accuracy: 1.0000 - val_loss: 0.0572 - val_accuracy: 0.9630\n",
            "Epoch 89/100\n",
            "124/124 [==============================] - 0s 97us/step - loss: 8.8774e-04 - accuracy: 1.0000 - val_loss: 0.0565 - val_accuracy: 0.9630\n",
            "Epoch 90/100\n",
            "124/124 [==============================] - 0s 107us/step - loss: 8.0131e-04 - accuracy: 1.0000 - val_loss: 0.0572 - val_accuracy: 0.9630\n",
            "Epoch 91/100\n",
            "124/124 [==============================] - 0s 88us/step - loss: 7.0820e-04 - accuracy: 1.0000 - val_loss: 0.0574 - val_accuracy: 0.9630\n",
            "Epoch 92/100\n",
            "124/124 [==============================] - 0s 81us/step - loss: 6.3401e-04 - accuracy: 1.0000 - val_loss: 0.0589 - val_accuracy: 0.9630\n",
            "Epoch 93/100\n",
            "124/124 [==============================] - 0s 83us/step - loss: 5.9420e-04 - accuracy: 1.0000 - val_loss: 0.0570 - val_accuracy: 0.9630\n",
            "Epoch 94/100\n",
            "124/124 [==============================] - 0s 85us/step - loss: 5.0298e-04 - accuracy: 1.0000 - val_loss: 0.0587 - val_accuracy: 0.9630\n",
            "Epoch 95/100\n",
            "124/124 [==============================] - 0s 90us/step - loss: 4.5239e-04 - accuracy: 1.0000 - val_loss: 0.0590 - val_accuracy: 0.9630\n",
            "Epoch 96/100\n",
            "124/124 [==============================] - 0s 98us/step - loss: 4.1157e-04 - accuracy: 1.0000 - val_loss: 0.0610 - val_accuracy: 0.9630\n",
            "Epoch 97/100\n",
            "124/124 [==============================] - 0s 98us/step - loss: 3.5122e-04 - accuracy: 1.0000 - val_loss: 0.0621 - val_accuracy: 0.9630\n",
            "Epoch 98/100\n",
            "124/124 [==============================] - 0s 89us/step - loss: 3.0969e-04 - accuracy: 1.0000 - val_loss: 0.0613 - val_accuracy: 0.9630\n",
            "Epoch 99/100\n",
            "124/124 [==============================] - 0s 105us/step - loss: 2.7477e-04 - accuracy: 1.0000 - val_loss: 0.0637 - val_accuracy: 0.9630\n",
            "Epoch 100/100\n",
            "124/124 [==============================] - 0s 104us/step - loss: 2.5475e-04 - accuracy: 1.0000 - val_loss: 0.0610 - val_accuracy: 0.9630\n"
          ],
          "name": "stdout"
        }
      ]
    },
    {
      "cell_type": "code",
      "metadata": {
        "id": "t1-Swn02iayo",
        "colab_type": "code",
        "colab": {}
      },
      "source": [
        "predictionss = model.predict(x_test)"
      ],
      "execution_count": 0,
      "outputs": []
    },
    {
      "cell_type": "code",
      "metadata": {
        "id": "JoDS5JTLwDGp",
        "colab_type": "code",
        "outputId": "cb3c040c-ad90-4fd8-ddea-12b0afc65bb3",
        "colab": {
          "base_uri": "https://localhost:8080/",
          "height": 295
        }
      },
      "source": [
        "# plotting loss\n",
        "\n",
        "import matplotlib.pyplot as plt\n",
        "\n",
        "history_dict =  h.history\n",
        "\n",
        "train_loss = history_dict['loss']\n",
        "test_loss = history_dict['val_loss']\n",
        "\n",
        "epochs = range(1, len(history_dict['accuracy'])+1)\n",
        "\n",
        "plt.plot(epochs, train_loss, 'bo', label = 'Training loss')\n",
        "plt.plot(epochs, test_loss, 'ro', label = 'Test loss')\n",
        "plt.title('Training and Test loss')\n",
        "plt.xlabel('Epochs')\n",
        "plt.ylabel('Loss')\n",
        "plt.legend()\n",
        "\n",
        "plt.show()"
      ],
      "execution_count": 0,
      "outputs": [
        {
          "output_type": "display_data",
          "data": {
            "image/png": "[encoded data removed]",
            "text/plain": [
              "<Figure size 432x288 with 1 Axes>"
            ]
          },
          "metadata": {
            "tags": [],
            "needs_background": "light"
          }
        }
      ]
    },
    {
      "cell_type": "code",
      "metadata": {
        "id": "pliCghZxwIHv",
        "colab_type": "code",
        "outputId": "801183e8-319b-457a-e51b-bd4d8e765c91",
        "colab": {
          "base_uri": "https://localhost:8080/",
          "height": 295
        }
      },
      "source": [
        "# plotting accuracy\n",
        "\n",
        "history_dict =  h.history\n",
        "\n",
        "train_loss = history_dict['accuracy']\n",
        "test_loss = history_dict['val_accuracy']\n",
        "\n",
        "epochs = range(1, len(history_dict['accuracy'])+1)\n",
        "\n",
        "plt.plot(epochs, train_loss, 'bo', label = 'Training accuracy')\n",
        "plt.plot(epochs, test_loss, 'ro', label = 'Test accuracy')\n",
        "plt.title('Training and Test accuracy')\n",
        "plt.xlabel('Epochs')\n",
        "plt.ylabel('accuracy')\n",
        "plt.legend()\n",
        "\n",
        "plt.show()"
      ],
      "execution_count": 0,
      "outputs": [
        {
          "output_type": "display_data",
          "data": {
            "image/png": "[encoded data removed]",
            "text/plain": [
              "<Figure size 432x288 with 1 Axes>"
            ]
          },
          "metadata": {
            "tags": [],
            "needs_background": "light"
          }
        }
      ]
    }
  ]
}