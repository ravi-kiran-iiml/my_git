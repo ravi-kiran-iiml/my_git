{
  "nbformat": 4,
  "nbformat_minor": 0,
  "metadata": {
    "colab": {
      "name": "pima indian diabetes kaggle.ipynb",
      "provenance": [],
      "collapsed_sections": [],
      "authorship_tag": "ABX9TyMBhron1RRoxHkO7ii1Nkxj",
      "include_colab_link": true
    },
    "kernelspec": {
      "name": "python3",
      "display_name": "Python 3"
    }
  },
  "cells": [
    {
      "cell_type": "markdown",
      "metadata": {
        "id": "view-in-github",
        "colab_type": "text"
      },
      "source": [
        "<a href=\"https://colab.research.google.com/github/ravi-kiran-iiml/my_git/blob/master/pima_indian_diabetes_kaggle.ipynb\" target=\"_parent\"><img src=\"https://colab.research.google.com/assets/colab-badge.svg\" alt=\"Open In Colab\"/></a>"
      ]
    },
    {
      "cell_type": "markdown",
      "metadata": {
        "id": "5veCD3vviwAO",
        "colab_type": "text"
      },
      "source": [
        "brief about this dataset\n",
        "\n",
        "https://www.kaggle.com/uciml/pima-indians-diabetes-database\n",
        "\n",
        "Context\n",
        "This dataset is originally from the National Institute of Diabetes and Digestive and Kidney Diseases. The objective of the dataset is to diagnostically predict whether or not a patient has diabetes, based on certain diagnostic measurements included in the dataset. Several constraints were placed on the selection of these instances from a larger database. In particular, all patients here are females at least 21 years old of Pima Indian heritage.\n",
        "\n",
        "Content\n",
        "The datasets consists of several medical predictor variables and one target variable, Outcome. Predictor variables includes the number of pregnancies the patient has had, their BMI, insulin level, age, and so on."
      ]
    },
    {
      "cell_type": "code",
      "metadata": {
        "id": "VLnql6BveW2v",
        "colab_type": "code",
        "outputId": "858ba028-99bb-410f-e586-fb93e24f1a2f",
        "colab": {
          "resources": {
            "http://localhost:8080/nbextensions/google.colab/files.js": {
              "data": "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",
              "ok": true,
              "headers": [
                [
                  "content-type",
                  "application/javascript"
                ]
              ],
              "status": 200,
              "status_text": ""
            }
          },
          "base_uri": "https://localhost:8080/",
          "height": 74
        }
      },
      "source": [
        "  from google.colab import files\n",
        "  uploaded = files.upload()"
      ],
      "execution_count": 1,
      "outputs": [
        {
          "output_type": "display_data",
          "data": {
            "text/html": [
              "\n",
              "     <input type=\"file\" id=\"files-a2fc043f-8fd1-4578-ac55-c5faac605e70\" name=\"files[]\" multiple disabled />\n",
              "     <output id=\"result-a2fc043f-8fd1-4578-ac55-c5faac605e70\">\n",
              "      Upload widget is only available when the cell has been executed in the\n",
              "      current browser session. Please rerun this cell to enable.\n",
              "      </output>\n",
              "      <script src=\"/nbextensions/google.colab/files.js\"></script> "
            ],
            "text/plain": [
              "<IPython.core.display.HTML object>"
            ]
          },
          "metadata": {
            "tags": []
          }
        },
        {
          "output_type": "stream",
          "text": [
            "Saving diabetes.csv to diabetes.csv\n"
          ],
          "name": "stdout"
        }
      ]
    },
    {
      "cell_type": "code",
      "metadata": {
        "id": "pn87lLYJjGNP",
        "colab_type": "code",
        "outputId": "ccdac2df-8985-4653-cd20-9a118d2997e1",
        "colab": {
          "base_uri": "https://localhost:8080/",
          "height": 343
        }
      },
      "source": [
        "import io\n",
        "import pandas as pd\n",
        "\n",
        "df = pd.read_csv(io.BytesIO(uploaded['diabetes.csv']))\n",
        "df.head(10)"
      ],
      "execution_count": 2,
      "outputs": [
        {
          "output_type": "execute_result",
          "data": {
            "text/html": [
              "<div>\n",
              "<style scoped>\n",
              "    .dataframe tbody tr th:only-of-type {\n",
              "        vertical-align: middle;\n",
              "    }\n",
              "\n",
              "    .dataframe tbody tr th {\n",
              "        vertical-align: top;\n",
              "    }\n",
              "\n",
              "    .dataframe thead th {\n",
              "        text-align: right;\n",
              "    }\n",
              "</style>\n",
              "<table border=\"1\" class=\"dataframe\">\n",
              "  <thead>\n",
              "    <tr style=\"text-align: right;\">\n",
              "      <th></th>\n",
              "      <th>Pregnancies</th>\n",
              "      <th>Glucose</th>\n",
              "      <th>BloodPressure</th>\n",
              "      <th>SkinThickness</th>\n",
              "      <th>Insulin</th>\n",
              "      <th>BMI</th>\n",
              "      <th>DiabetesPedigreeFunction</th>\n",
              "      <th>Age</th>\n",
              "      <th>Outcome</th>\n",
              "    </tr>\n",
              "  </thead>\n",
              "  <tbody>\n",
              "    <tr>\n",
              "      <th>0</th>\n",
              "      <td>6</td>\n",
              "      <td>148</td>\n",
              "      <td>72</td>\n",
              "      <td>35</td>\n",
              "      <td>0</td>\n",
              "      <td>33.6</td>\n",
              "      <td>0.627</td>\n",
              "      <td>50</td>\n",
              "      <td>1</td>\n",
              "    </tr>\n",
              "    <tr>\n",
              "      <th>1</th>\n",
              "      <td>1</td>\n",
              "      <td>85</td>\n",
              "      <td>66</td>\n",
              "      <td>29</td>\n",
              "      <td>0</td>\n",
              "      <td>26.6</td>\n",
              "      <td>0.351</td>\n",
              "      <td>31</td>\n",
              "      <td>0</td>\n",
              "    </tr>\n",
              "    <tr>\n",
              "      <th>2</th>\n",
              "      <td>8</td>\n",
              "      <td>183</td>\n",
              "      <td>64</td>\n",
              "      <td>0</td>\n",
              "      <td>0</td>\n",
              "      <td>23.3</td>\n",
              "      <td>0.672</td>\n",
              "      <td>32</td>\n",
              "      <td>1</td>\n",
              "    </tr>\n",
              "    <tr>\n",
              "      <th>3</th>\n",
              "      <td>1</td>\n",
              "      <td>89</td>\n",
              "      <td>66</td>\n",
              "      <td>23</td>\n",
              "      <td>94</td>\n",
              "      <td>28.1</td>\n",
              "      <td>0.167</td>\n",
              "      <td>21</td>\n",
              "      <td>0</td>\n",
              "    </tr>\n",
              "    <tr>\n",
              "      <th>4</th>\n",
              "      <td>0</td>\n",
              "      <td>137</td>\n",
              "      <td>40</td>\n",
              "      <td>35</td>\n",
              "      <td>168</td>\n",
              "      <td>43.1</td>\n",
              "      <td>2.288</td>\n",
              "      <td>33</td>\n",
              "      <td>1</td>\n",
              "    </tr>\n",
              "    <tr>\n",
              "      <th>5</th>\n",
              "      <td>5</td>\n",
              "      <td>116</td>\n",
              "      <td>74</td>\n",
              "      <td>0</td>\n",
              "      <td>0</td>\n",
              "      <td>25.6</td>\n",
              "      <td>0.201</td>\n",
              "      <td>30</td>\n",
              "      <td>0</td>\n",
              "    </tr>\n",
              "    <tr>\n",
              "      <th>6</th>\n",
              "      <td>3</td>\n",
              "      <td>78</td>\n",
              "      <td>50</td>\n",
              "      <td>32</td>\n",
              "      <td>88</td>\n",
              "      <td>31.0</td>\n",
              "      <td>0.248</td>\n",
              "      <td>26</td>\n",
              "      <td>1</td>\n",
              "    </tr>\n",
              "    <tr>\n",
              "      <th>7</th>\n",
              "      <td>10</td>\n",
              "      <td>115</td>\n",
              "      <td>0</td>\n",
              "      <td>0</td>\n",
              "      <td>0</td>\n",
              "      <td>35.3</td>\n",
              "      <td>0.134</td>\n",
              "      <td>29</td>\n",
              "      <td>0</td>\n",
              "    </tr>\n",
              "    <tr>\n",
              "      <th>8</th>\n",
              "      <td>2</td>\n",
              "      <td>197</td>\n",
              "      <td>70</td>\n",
              "      <td>45</td>\n",
              "      <td>543</td>\n",
              "      <td>30.5</td>\n",
              "      <td>0.158</td>\n",
              "      <td>53</td>\n",
              "      <td>1</td>\n",
              "    </tr>\n",
              "    <tr>\n",
              "      <th>9</th>\n",
              "      <td>8</td>\n",
              "      <td>125</td>\n",
              "      <td>96</td>\n",
              "      <td>0</td>\n",
              "      <td>0</td>\n",
              "      <td>0.0</td>\n",
              "      <td>0.232</td>\n",
              "      <td>54</td>\n",
              "      <td>1</td>\n",
              "    </tr>\n",
              "  </tbody>\n",
              "</table>\n",
              "</div>"
            ],
            "text/plain": [
              "   Pregnancies  Glucose  BloodPressure  ...  DiabetesPedigreeFunction  Age  Outcome\n",
              "0            6      148             72  ...                     0.627   50        1\n",
              "1            1       85             66  ...                     0.351   31        0\n",
              "2            8      183             64  ...                     0.672   32        1\n",
              "3            1       89             66  ...                     0.167   21        0\n",
              "4            0      137             40  ...                     2.288   33        1\n",
              "5            5      116             74  ...                     0.201   30        0\n",
              "6            3       78             50  ...                     0.248   26        1\n",
              "7           10      115              0  ...                     0.134   29        0\n",
              "8            2      197             70  ...                     0.158   53        1\n",
              "9            8      125             96  ...                     0.232   54        1\n",
              "\n",
              "[10 rows x 9 columns]"
            ]
          },
          "metadata": {
            "tags": []
          },
          "execution_count": 2
        }
      ]
    },
    {
      "cell_type": "code",
      "metadata": {
        "id": "7PruAVJAjRji",
        "colab_type": "code",
        "colab": {}
      },
      "source": [
        "X = df.iloc[:, 0:8].values\n",
        "y = df.iloc[:, 8:9].values"
      ],
      "execution_count": 0,
      "outputs": []
    },
    {
      "cell_type": "code",
      "metadata": {
        "id": "Geu6bQvbjhPL",
        "colab_type": "code",
        "colab": {}
      },
      "source": [
        "from sklearn.preprocessing import StandardScaler\n",
        "scaler = StandardScaler()\n",
        "\n",
        "x = scaler.fit_transform(X)"
      ],
      "execution_count": 0,
      "outputs": []
    },
    {
      "cell_type": "code",
      "metadata": {
        "id": "PFhqiezejqyA",
        "colab_type": "code",
        "outputId": "359bba7e-8fc8-4aa0-8694-0dbafbac39ae",
        "colab": {
          "base_uri": "https://localhost:8080/",
          "height": 50
        }
      },
      "source": [
        "from sklearn.model_selection import train_test_split\n",
        "\n",
        "x_train, x_test, y_train, y_test = train_test_split(x, y, test_size = 0.2)\n",
        "\n",
        "print(x_train.shape, x_test.shape)\n",
        "print(y_train.shape, y_test.shape)"
      ],
      "execution_count": 7,
      "outputs": [
        {
          "output_type": "stream",
          "text": [
            "(614, 8) (154, 8)\n",
            "(614, 1) (154, 1)\n"
          ],
          "name": "stdout"
        }
      ]
    },
    {
      "cell_type": "code",
      "metadata": {
        "id": "42kumkR2j1nm",
        "colab_type": "code",
        "colab": {
          "base_uri": "https://localhost:8080/",
          "height": 34
        },
        "outputId": "ed5ccd7f-7916-4d80-c46c-041dcde78240"
      },
      "source": [
        "from keras import models\n",
        "from keras import layers\n",
        "from keras import regularizers\n",
        "\n",
        "model = models.Sequential()\n",
        "model.add(layers.Dense(8, activation = 'relu', kernel_regularizer=regularizers.l2(0.001)))\n",
        "model.add(layers.Dropout(0.5))\n",
        "model.add(layers.Dense(4, activation = 'relu', kernel_regularizer=regularizers.l2(0.001)))\n",
        "model.add(layers.Dropout(0.5))\n",
        "model.add(layers.Dense(1, activation = 'sigmoid'))\n",
        "\n",
        "model.compile(optimizer='rmsprop',loss='binary_crossentropy',metrics=['accuracy'])\n"
      ],
      "execution_count": 8,
      "outputs": [
        {
          "output_type": "stream",
          "text": [
            "Using TensorFlow backend.\n"
          ],
          "name": "stderr"
        }
      ]
    },
    {
      "cell_type": "code",
      "metadata": {
        "id": "-srs1jppkkBu",
        "colab_type": "code",
        "outputId": "f77b37b3-e646-4cd6-9bcd-4bbbdd42aaaa",
        "colab": {
          "base_uri": "https://localhost:8080/",
          "height": 1000
        }
      },
      "source": [
        "history = model.fit(x_train, y_train, epochs = 150, batch_size = 20, validation_data=(x_test, y_test))"
      ],
      "execution_count": 9,
      "outputs": [
        {
          "output_type": "stream",
          "text": [
            "Train on 614 samples, validate on 154 samples\n",
            "Epoch 1/150\n",
            "614/614 [==============================] - 0s 669us/step - loss: 0.7446 - accuracy: 0.6417 - val_loss: 0.6999 - val_accuracy: 0.5974\n",
            "Epoch 2/150\n",
            "614/614 [==============================] - 0s 81us/step - loss: 0.7221 - accuracy: 0.6384 - val_loss: 0.6921 - val_accuracy: 0.6039\n",
            "Epoch 3/150\n",
            "614/614 [==============================] - 0s 89us/step - loss: 0.7166 - accuracy: 0.6498 - val_loss: 0.6861 - val_accuracy: 0.6039\n",
            "Epoch 4/150\n",
            "614/614 [==============================] - 0s 87us/step - loss: 0.6903 - accuracy: 0.6417 - val_loss: 0.6793 - val_accuracy: 0.6234\n",
            "Epoch 5/150\n",
            "614/614 [==============================] - 0s 83us/step - loss: 0.7041 - accuracy: 0.6417 - val_loss: 0.6744 - val_accuracy: 0.6104\n",
            "Epoch 6/150\n",
            "614/614 [==============================] - 0s 83us/step - loss: 0.6714 - accuracy: 0.6417 - val_loss: 0.6697 - val_accuracy: 0.6169\n",
            "Epoch 7/150\n",
            "614/614 [==============================] - 0s 77us/step - loss: 0.6897 - accuracy: 0.6433 - val_loss: 0.6642 - val_accuracy: 0.6104\n",
            "Epoch 8/150\n",
            "614/614 [==============================] - 0s 81us/step - loss: 0.6699 - accuracy: 0.6661 - val_loss: 0.6595 - val_accuracy: 0.6169\n",
            "Epoch 9/150\n",
            "614/614 [==============================] - 0s 80us/step - loss: 0.6938 - accuracy: 0.6564 - val_loss: 0.6551 - val_accuracy: 0.6169\n",
            "Epoch 10/150\n",
            "614/614 [==============================] - 0s 106us/step - loss: 0.6765 - accuracy: 0.6596 - val_loss: 0.6508 - val_accuracy: 0.6169\n",
            "Epoch 11/150\n",
            "614/614 [==============================] - 0s 79us/step - loss: 0.6628 - accuracy: 0.6629 - val_loss: 0.6471 - val_accuracy: 0.6169\n",
            "Epoch 12/150\n",
            "614/614 [==============================] - 0s 83us/step - loss: 0.6497 - accuracy: 0.6580 - val_loss: 0.6428 - val_accuracy: 0.6169\n",
            "Epoch 13/150\n",
            "614/614 [==============================] - 0s 83us/step - loss: 0.6648 - accuracy: 0.6661 - val_loss: 0.6418 - val_accuracy: 0.6169\n",
            "Epoch 14/150\n",
            "614/614 [==============================] - 0s 82us/step - loss: 0.6394 - accuracy: 0.6661 - val_loss: 0.6364 - val_accuracy: 0.6234\n",
            "Epoch 15/150\n",
            "614/614 [==============================] - 0s 111us/step - loss: 0.6350 - accuracy: 0.6612 - val_loss: 0.6323 - val_accuracy: 0.6234\n",
            "Epoch 16/150\n",
            "614/614 [==============================] - 0s 88us/step - loss: 0.6440 - accuracy: 0.6775 - val_loss: 0.6302 - val_accuracy: 0.6169\n",
            "Epoch 17/150\n",
            "614/614 [==============================] - 0s 83us/step - loss: 0.6356 - accuracy: 0.6710 - val_loss: 0.6266 - val_accuracy: 0.6169\n",
            "Epoch 18/150\n",
            "614/614 [==============================] - 0s 83us/step - loss: 0.6217 - accuracy: 0.6661 - val_loss: 0.6216 - val_accuracy: 0.6169\n",
            "Epoch 19/150\n",
            "614/614 [==============================] - 0s 86us/step - loss: 0.6160 - accuracy: 0.6873 - val_loss: 0.6169 - val_accuracy: 0.6169\n",
            "Epoch 20/150\n",
            "614/614 [==============================] - 0s 81us/step - loss: 0.6366 - accuracy: 0.6694 - val_loss: 0.6153 - val_accuracy: 0.6169\n",
            "Epoch 21/150\n",
            "614/614 [==============================] - 0s 83us/step - loss: 0.6322 - accuracy: 0.6661 - val_loss: 0.6135 - val_accuracy: 0.6169\n",
            "Epoch 22/150\n",
            "614/614 [==============================] - 0s 92us/step - loss: 0.6340 - accuracy: 0.6661 - val_loss: 0.6124 - val_accuracy: 0.6169\n",
            "Epoch 23/150\n",
            "614/614 [==============================] - 0s 87us/step - loss: 0.6242 - accuracy: 0.6824 - val_loss: 0.6098 - val_accuracy: 0.6169\n",
            "Epoch 24/150\n",
            "614/614 [==============================] - 0s 80us/step - loss: 0.6091 - accuracy: 0.6645 - val_loss: 0.6059 - val_accuracy: 0.6169\n",
            "Epoch 25/150\n",
            "614/614 [==============================] - 0s 83us/step - loss: 0.6084 - accuracy: 0.6792 - val_loss: 0.6015 - val_accuracy: 0.6169\n",
            "Epoch 26/150\n",
            "614/614 [==============================] - 0s 84us/step - loss: 0.6180 - accuracy: 0.6792 - val_loss: 0.5990 - val_accuracy: 0.6169\n",
            "Epoch 27/150\n",
            "614/614 [==============================] - 0s 79us/step - loss: 0.6199 - accuracy: 0.6808 - val_loss: 0.5957 - val_accuracy: 0.6169\n",
            "Epoch 28/150\n",
            "614/614 [==============================] - 0s 77us/step - loss: 0.6274 - accuracy: 0.6710 - val_loss: 0.5955 - val_accuracy: 0.6169\n",
            "Epoch 29/150\n",
            "614/614 [==============================] - 0s 77us/step - loss: 0.6047 - accuracy: 0.6775 - val_loss: 0.5927 - val_accuracy: 0.6169\n",
            "Epoch 30/150\n",
            "614/614 [==============================] - 0s 81us/step - loss: 0.6082 - accuracy: 0.6824 - val_loss: 0.5900 - val_accuracy: 0.6169\n",
            "Epoch 31/150\n",
            "614/614 [==============================] - 0s 81us/step - loss: 0.5916 - accuracy: 0.6792 - val_loss: 0.5847 - val_accuracy: 0.6169\n",
            "Epoch 32/150\n",
            "614/614 [==============================] - 0s 77us/step - loss: 0.5909 - accuracy: 0.6580 - val_loss: 0.5823 - val_accuracy: 0.6169\n",
            "Epoch 33/150\n",
            "614/614 [==============================] - 0s 85us/step - loss: 0.5975 - accuracy: 0.6759 - val_loss: 0.5778 - val_accuracy: 0.6234\n",
            "Epoch 34/150\n",
            "614/614 [==============================] - 0s 82us/step - loss: 0.6095 - accuracy: 0.6792 - val_loss: 0.5754 - val_accuracy: 0.6234\n",
            "Epoch 35/150\n",
            "614/614 [==============================] - 0s 81us/step - loss: 0.5943 - accuracy: 0.6792 - val_loss: 0.5724 - val_accuracy: 0.6169\n",
            "Epoch 36/150\n",
            "614/614 [==============================] - 0s 81us/step - loss: 0.5861 - accuracy: 0.6906 - val_loss: 0.5682 - val_accuracy: 0.6299\n",
            "Epoch 37/150\n",
            "614/614 [==============================] - 0s 80us/step - loss: 0.5813 - accuracy: 0.6906 - val_loss: 0.5640 - val_accuracy: 0.6299\n",
            "Epoch 38/150\n",
            "614/614 [==============================] - 0s 81us/step - loss: 0.5778 - accuracy: 0.6938 - val_loss: 0.5602 - val_accuracy: 0.6558\n",
            "Epoch 39/150\n",
            "614/614 [==============================] - 0s 85us/step - loss: 0.6026 - accuracy: 0.6808 - val_loss: 0.5588 - val_accuracy: 0.6429\n",
            "Epoch 40/150\n",
            "614/614 [==============================] - 0s 79us/step - loss: 0.5823 - accuracy: 0.6824 - val_loss: 0.5561 - val_accuracy: 0.6753\n",
            "Epoch 41/150\n",
            "614/614 [==============================] - 0s 81us/step - loss: 0.5948 - accuracy: 0.6873 - val_loss: 0.5538 - val_accuracy: 0.6623\n",
            "Epoch 42/150\n",
            "614/614 [==============================] - 0s 84us/step - loss: 0.5843 - accuracy: 0.6759 - val_loss: 0.5531 - val_accuracy: 0.6688\n",
            "Epoch 43/150\n",
            "614/614 [==============================] - 0s 80us/step - loss: 0.5715 - accuracy: 0.7052 - val_loss: 0.5509 - val_accuracy: 0.6623\n",
            "Epoch 44/150\n",
            "614/614 [==============================] - 0s 83us/step - loss: 0.5819 - accuracy: 0.6954 - val_loss: 0.5489 - val_accuracy: 0.6558\n",
            "Epoch 45/150\n",
            "614/614 [==============================] - 0s 79us/step - loss: 0.6111 - accuracy: 0.6840 - val_loss: 0.5494 - val_accuracy: 0.6558\n",
            "Epoch 46/150\n",
            "614/614 [==============================] - 0s 85us/step - loss: 0.5925 - accuracy: 0.6759 - val_loss: 0.5487 - val_accuracy: 0.6623\n",
            "Epoch 47/150\n",
            "614/614 [==============================] - 0s 82us/step - loss: 0.5512 - accuracy: 0.7101 - val_loss: 0.5441 - val_accuracy: 0.6688\n",
            "Epoch 48/150\n",
            "614/614 [==============================] - 0s 83us/step - loss: 0.5772 - accuracy: 0.7020 - val_loss: 0.5431 - val_accuracy: 0.6688\n",
            "Epoch 49/150\n",
            "614/614 [==============================] - 0s 83us/step - loss: 0.5806 - accuracy: 0.6889 - val_loss: 0.5422 - val_accuracy: 0.6623\n",
            "Epoch 50/150\n",
            "614/614 [==============================] - 0s 84us/step - loss: 0.5699 - accuracy: 0.6922 - val_loss: 0.5406 - val_accuracy: 0.6753\n",
            "Epoch 51/150\n",
            "614/614 [==============================] - 0s 81us/step - loss: 0.5585 - accuracy: 0.7166 - val_loss: 0.5379 - val_accuracy: 0.6753\n",
            "Epoch 52/150\n",
            "614/614 [==============================] - 0s 82us/step - loss: 0.5627 - accuracy: 0.7150 - val_loss: 0.5357 - val_accuracy: 0.6818\n",
            "Epoch 53/150\n",
            "614/614 [==============================] - 0s 81us/step - loss: 0.5727 - accuracy: 0.7020 - val_loss: 0.5335 - val_accuracy: 0.6818\n",
            "Epoch 54/150\n",
            "614/614 [==============================] - 0s 81us/step - loss: 0.5828 - accuracy: 0.6808 - val_loss: 0.5331 - val_accuracy: 0.6883\n",
            "Epoch 55/150\n",
            "614/614 [==============================] - 0s 83us/step - loss: 0.5780 - accuracy: 0.7068 - val_loss: 0.5324 - val_accuracy: 0.6948\n",
            "Epoch 56/150\n",
            "614/614 [==============================] - 0s 81us/step - loss: 0.5898 - accuracy: 0.6889 - val_loss: 0.5343 - val_accuracy: 0.6883\n",
            "Epoch 57/150\n",
            "614/614 [==============================] - 0s 82us/step - loss: 0.5714 - accuracy: 0.6954 - val_loss: 0.5338 - val_accuracy: 0.7078\n",
            "Epoch 58/150\n",
            "614/614 [==============================] - 0s 84us/step - loss: 0.5741 - accuracy: 0.7020 - val_loss: 0.5333 - val_accuracy: 0.7013\n",
            "Epoch 59/150\n",
            "614/614 [==============================] - 0s 88us/step - loss: 0.5726 - accuracy: 0.6906 - val_loss: 0.5320 - val_accuracy: 0.6948\n",
            "Epoch 60/150\n",
            "614/614 [==============================] - 0s 81us/step - loss: 0.5663 - accuracy: 0.6922 - val_loss: 0.5295 - val_accuracy: 0.6948\n",
            "Epoch 61/150\n",
            "614/614 [==============================] - 0s 87us/step - loss: 0.5815 - accuracy: 0.6824 - val_loss: 0.5307 - val_accuracy: 0.6948\n",
            "Epoch 62/150\n",
            "614/614 [==============================] - 0s 84us/step - loss: 0.5606 - accuracy: 0.6971 - val_loss: 0.5299 - val_accuracy: 0.6948\n",
            "Epoch 63/150\n",
            "614/614 [==============================] - 0s 79us/step - loss: 0.5882 - accuracy: 0.6906 - val_loss: 0.5307 - val_accuracy: 0.6883\n",
            "Epoch 64/150\n",
            "614/614 [==============================] - 0s 82us/step - loss: 0.5991 - accuracy: 0.6873 - val_loss: 0.5327 - val_accuracy: 0.6948\n",
            "Epoch 65/150\n",
            "614/614 [==============================] - 0s 77us/step - loss: 0.5693 - accuracy: 0.6922 - val_loss: 0.5314 - val_accuracy: 0.7013\n",
            "Epoch 66/150\n",
            "614/614 [==============================] - 0s 81us/step - loss: 0.5937 - accuracy: 0.6857 - val_loss: 0.5317 - val_accuracy: 0.6948\n",
            "Epoch 67/150\n",
            "614/614 [==============================] - 0s 80us/step - loss: 0.5664 - accuracy: 0.7085 - val_loss: 0.5302 - val_accuracy: 0.7013\n",
            "Epoch 68/150\n",
            "614/614 [==============================] - 0s 77us/step - loss: 0.5691 - accuracy: 0.7085 - val_loss: 0.5289 - val_accuracy: 0.7078\n",
            "Epoch 69/150\n",
            "614/614 [==============================] - 0s 84us/step - loss: 0.5680 - accuracy: 0.7117 - val_loss: 0.5278 - val_accuracy: 0.7078\n",
            "Epoch 70/150\n",
            "614/614 [==============================] - 0s 79us/step - loss: 0.5648 - accuracy: 0.7020 - val_loss: 0.5248 - val_accuracy: 0.7013\n",
            "Epoch 71/150\n",
            "614/614 [==============================] - 0s 86us/step - loss: 0.5525 - accuracy: 0.7020 - val_loss: 0.5231 - val_accuracy: 0.7078\n",
            "Epoch 72/150\n",
            "614/614 [==============================] - 0s 77us/step - loss: 0.5626 - accuracy: 0.6922 - val_loss: 0.5223 - val_accuracy: 0.7143\n",
            "Epoch 73/150\n",
            "614/614 [==============================] - 0s 83us/step - loss: 0.5577 - accuracy: 0.6938 - val_loss: 0.5216 - val_accuracy: 0.7078\n",
            "Epoch 74/150\n",
            "614/614 [==============================] - 0s 86us/step - loss: 0.5430 - accuracy: 0.7101 - val_loss: 0.5199 - val_accuracy: 0.7208\n",
            "Epoch 75/150\n",
            "614/614 [==============================] - 0s 81us/step - loss: 0.5652 - accuracy: 0.7068 - val_loss: 0.5201 - val_accuracy: 0.7208\n",
            "Epoch 76/150\n",
            "614/614 [==============================] - 0s 81us/step - loss: 0.5697 - accuracy: 0.7003 - val_loss: 0.5199 - val_accuracy: 0.7208\n",
            "Epoch 77/150\n",
            "614/614 [==============================] - 0s 83us/step - loss: 0.5663 - accuracy: 0.7036 - val_loss: 0.5186 - val_accuracy: 0.7208\n",
            "Epoch 78/150\n",
            "614/614 [==============================] - 0s 85us/step - loss: 0.5460 - accuracy: 0.7052 - val_loss: 0.5170 - val_accuracy: 0.7208\n",
            "Epoch 79/150\n",
            "614/614 [==============================] - 0s 89us/step - loss: 0.5647 - accuracy: 0.7020 - val_loss: 0.5159 - val_accuracy: 0.7208\n",
            "Epoch 80/150\n",
            "614/614 [==============================] - 0s 97us/step - loss: 0.5632 - accuracy: 0.6906 - val_loss: 0.5176 - val_accuracy: 0.7208\n",
            "Epoch 81/150\n",
            "614/614 [==============================] - 0s 79us/step - loss: 0.5649 - accuracy: 0.6954 - val_loss: 0.5172 - val_accuracy: 0.7208\n",
            "Epoch 82/150\n",
            "614/614 [==============================] - 0s 84us/step - loss: 0.5480 - accuracy: 0.6987 - val_loss: 0.5158 - val_accuracy: 0.7208\n",
            "Epoch 83/150\n",
            "614/614 [==============================] - 0s 84us/step - loss: 0.5719 - accuracy: 0.7052 - val_loss: 0.5168 - val_accuracy: 0.7208\n",
            "Epoch 84/150\n",
            "614/614 [==============================] - 0s 87us/step - loss: 0.5619 - accuracy: 0.7052 - val_loss: 0.5164 - val_accuracy: 0.7208\n",
            "Epoch 85/150\n",
            "614/614 [==============================] - 0s 84us/step - loss: 0.5797 - accuracy: 0.7003 - val_loss: 0.5170 - val_accuracy: 0.7208\n",
            "Epoch 86/150\n",
            "614/614 [==============================] - 0s 82us/step - loss: 0.5556 - accuracy: 0.7003 - val_loss: 0.5154 - val_accuracy: 0.7208\n",
            "Epoch 87/150\n",
            "614/614 [==============================] - 0s 82us/step - loss: 0.5591 - accuracy: 0.6987 - val_loss: 0.5161 - val_accuracy: 0.7208\n",
            "Epoch 88/150\n",
            "614/614 [==============================] - 0s 83us/step - loss: 0.5446 - accuracy: 0.7020 - val_loss: 0.5148 - val_accuracy: 0.7208\n",
            "Epoch 89/150\n",
            "614/614 [==============================] - 0s 83us/step - loss: 0.5525 - accuracy: 0.7003 - val_loss: 0.5140 - val_accuracy: 0.7208\n",
            "Epoch 90/150\n",
            "614/614 [==============================] - 0s 83us/step - loss: 0.5922 - accuracy: 0.6726 - val_loss: 0.5164 - val_accuracy: 0.7208\n",
            "Epoch 91/150\n",
            "614/614 [==============================] - 0s 81us/step - loss: 0.5546 - accuracy: 0.7068 - val_loss: 0.5162 - val_accuracy: 0.7143\n",
            "Epoch 92/150\n",
            "614/614 [==============================] - 0s 83us/step - loss: 0.5473 - accuracy: 0.7199 - val_loss: 0.5152 - val_accuracy: 0.7273\n",
            "Epoch 93/150\n",
            "614/614 [==============================] - 0s 79us/step - loss: 0.5434 - accuracy: 0.7182 - val_loss: 0.5131 - val_accuracy: 0.7532\n",
            "Epoch 94/150\n",
            "614/614 [==============================] - 0s 84us/step - loss: 0.5607 - accuracy: 0.6971 - val_loss: 0.5139 - val_accuracy: 0.7403\n",
            "Epoch 95/150\n",
            "614/614 [==============================] - 0s 87us/step - loss: 0.5611 - accuracy: 0.6906 - val_loss: 0.5139 - val_accuracy: 0.7403\n",
            "Epoch 96/150\n",
            "614/614 [==============================] - 0s 85us/step - loss: 0.5393 - accuracy: 0.7101 - val_loss: 0.5129 - val_accuracy: 0.7403\n",
            "Epoch 97/150\n",
            "614/614 [==============================] - 0s 84us/step - loss: 0.5536 - accuracy: 0.6987 - val_loss: 0.5133 - val_accuracy: 0.7403\n",
            "Epoch 98/150\n",
            "614/614 [==============================] - 0s 80us/step - loss: 0.5592 - accuracy: 0.6922 - val_loss: 0.5132 - val_accuracy: 0.7468\n",
            "Epoch 99/150\n",
            "614/614 [==============================] - 0s 85us/step - loss: 0.5608 - accuracy: 0.7003 - val_loss: 0.5135 - val_accuracy: 0.7403\n",
            "Epoch 100/150\n",
            "614/614 [==============================] - 0s 83us/step - loss: 0.5346 - accuracy: 0.7085 - val_loss: 0.5126 - val_accuracy: 0.7403\n",
            "Epoch 101/150\n",
            "614/614 [==============================] - 0s 83us/step - loss: 0.5577 - accuracy: 0.7003 - val_loss: 0.5123 - val_accuracy: 0.7338\n",
            "Epoch 102/150\n",
            "614/614 [==============================] - 0s 78us/step - loss: 0.5669 - accuracy: 0.7134 - val_loss: 0.5118 - val_accuracy: 0.7403\n",
            "Epoch 103/150\n",
            "614/614 [==============================] - 0s 80us/step - loss: 0.5488 - accuracy: 0.7085 - val_loss: 0.5114 - val_accuracy: 0.7468\n",
            "Epoch 104/150\n",
            "614/614 [==============================] - 0s 78us/step - loss: 0.5650 - accuracy: 0.6987 - val_loss: 0.5121 - val_accuracy: 0.7468\n",
            "Epoch 105/150\n",
            "614/614 [==============================] - 0s 78us/step - loss: 0.5332 - accuracy: 0.7085 - val_loss: 0.5107 - val_accuracy: 0.7532\n",
            "Epoch 106/150\n",
            "614/614 [==============================] - 0s 85us/step - loss: 0.5420 - accuracy: 0.7003 - val_loss: 0.5088 - val_accuracy: 0.7532\n",
            "Epoch 107/150\n",
            "614/614 [==============================] - 0s 84us/step - loss: 0.5548 - accuracy: 0.7020 - val_loss: 0.5090 - val_accuracy: 0.7468\n",
            "Epoch 108/150\n",
            "614/614 [==============================] - 0s 79us/step - loss: 0.5505 - accuracy: 0.6954 - val_loss: 0.5096 - val_accuracy: 0.7468\n",
            "Epoch 109/150\n",
            "614/614 [==============================] - 0s 82us/step - loss: 0.5626 - accuracy: 0.7020 - val_loss: 0.5086 - val_accuracy: 0.7532\n",
            "Epoch 110/150\n",
            "614/614 [==============================] - 0s 83us/step - loss: 0.5457 - accuracy: 0.7199 - val_loss: 0.5072 - val_accuracy: 0.7532\n",
            "Epoch 111/150\n",
            "614/614 [==============================] - 0s 84us/step - loss: 0.5599 - accuracy: 0.6922 - val_loss: 0.5069 - val_accuracy: 0.7532\n",
            "Epoch 112/150\n",
            "614/614 [==============================] - 0s 82us/step - loss: 0.5325 - accuracy: 0.7134 - val_loss: 0.5055 - val_accuracy: 0.7532\n",
            "Epoch 113/150\n",
            "614/614 [==============================] - 0s 82us/step - loss: 0.5394 - accuracy: 0.7166 - val_loss: 0.5049 - val_accuracy: 0.7532\n",
            "Epoch 114/150\n",
            "614/614 [==============================] - 0s 81us/step - loss: 0.5388 - accuracy: 0.7166 - val_loss: 0.5034 - val_accuracy: 0.7597\n",
            "Epoch 115/150\n",
            "614/614 [==============================] - 0s 83us/step - loss: 0.5494 - accuracy: 0.6873 - val_loss: 0.5051 - val_accuracy: 0.7532\n",
            "Epoch 116/150\n",
            "614/614 [==============================] - 0s 82us/step - loss: 0.5485 - accuracy: 0.7101 - val_loss: 0.5047 - val_accuracy: 0.7532\n",
            "Epoch 117/150\n",
            "614/614 [==============================] - 0s 84us/step - loss: 0.5744 - accuracy: 0.6987 - val_loss: 0.5062 - val_accuracy: 0.7532\n",
            "Epoch 118/150\n",
            "614/614 [==============================] - 0s 83us/step - loss: 0.5465 - accuracy: 0.7410 - val_loss: 0.5046 - val_accuracy: 0.7532\n",
            "Epoch 119/150\n",
            "614/614 [==============================] - 0s 90us/step - loss: 0.5446 - accuracy: 0.7003 - val_loss: 0.5049 - val_accuracy: 0.7532\n",
            "Epoch 120/150\n",
            "614/614 [==============================] - 0s 108us/step - loss: 0.5608 - accuracy: 0.7280 - val_loss: 0.5045 - val_accuracy: 0.7532\n",
            "Epoch 121/150\n",
            "614/614 [==============================] - 0s 79us/step - loss: 0.5330 - accuracy: 0.7020 - val_loss: 0.5037 - val_accuracy: 0.7532\n",
            "Epoch 122/150\n",
            "614/614 [==============================] - 0s 78us/step - loss: 0.5702 - accuracy: 0.6906 - val_loss: 0.5049 - val_accuracy: 0.7468\n",
            "Epoch 123/150\n",
            "614/614 [==============================] - 0s 81us/step - loss: 0.5426 - accuracy: 0.7117 - val_loss: 0.5052 - val_accuracy: 0.7468\n",
            "Epoch 124/150\n",
            "614/614 [==============================] - 0s 79us/step - loss: 0.5530 - accuracy: 0.7117 - val_loss: 0.5050 - val_accuracy: 0.7532\n",
            "Epoch 125/150\n",
            "614/614 [==============================] - 0s 85us/step - loss: 0.5558 - accuracy: 0.7020 - val_loss: 0.5052 - val_accuracy: 0.7468\n",
            "Epoch 126/150\n",
            "614/614 [==============================] - 0s 82us/step - loss: 0.5521 - accuracy: 0.7036 - val_loss: 0.5055 - val_accuracy: 0.7468\n",
            "Epoch 127/150\n",
            "614/614 [==============================] - 0s 80us/step - loss: 0.5352 - accuracy: 0.7117 - val_loss: 0.5055 - val_accuracy: 0.7532\n",
            "Epoch 128/150\n",
            "614/614 [==============================] - 0s 81us/step - loss: 0.5515 - accuracy: 0.6824 - val_loss: 0.5053 - val_accuracy: 0.7532\n",
            "Epoch 129/150\n",
            "614/614 [==============================] - 0s 76us/step - loss: 0.5546 - accuracy: 0.7003 - val_loss: 0.5063 - val_accuracy: 0.7532\n",
            "Epoch 130/150\n",
            "614/614 [==============================] - 0s 84us/step - loss: 0.5468 - accuracy: 0.7068 - val_loss: 0.5056 - val_accuracy: 0.7468\n",
            "Epoch 131/150\n",
            "614/614 [==============================] - 0s 78us/step - loss: 0.5733 - accuracy: 0.6906 - val_loss: 0.5072 - val_accuracy: 0.7468\n",
            "Epoch 132/150\n",
            "614/614 [==============================] - 0s 80us/step - loss: 0.5622 - accuracy: 0.6938 - val_loss: 0.5075 - val_accuracy: 0.7468\n",
            "Epoch 133/150\n",
            "614/614 [==============================] - 0s 84us/step - loss: 0.5571 - accuracy: 0.6971 - val_loss: 0.5074 - val_accuracy: 0.7532\n",
            "Epoch 134/150\n",
            "614/614 [==============================] - 0s 82us/step - loss: 0.5337 - accuracy: 0.7101 - val_loss: 0.5067 - val_accuracy: 0.7532\n",
            "Epoch 135/150\n",
            "614/614 [==============================] - 0s 86us/step - loss: 0.5464 - accuracy: 0.6987 - val_loss: 0.5060 - val_accuracy: 0.7468\n",
            "Epoch 136/150\n",
            "614/614 [==============================] - 0s 82us/step - loss: 0.5471 - accuracy: 0.7394 - val_loss: 0.5046 - val_accuracy: 0.7532\n",
            "Epoch 137/150\n",
            "614/614 [==============================] - 0s 80us/step - loss: 0.5439 - accuracy: 0.7166 - val_loss: 0.5045 - val_accuracy: 0.7532\n",
            "Epoch 138/150\n",
            "614/614 [==============================] - 0s 89us/step - loss: 0.5646 - accuracy: 0.7036 - val_loss: 0.5057 - val_accuracy: 0.7532\n",
            "Epoch 139/150\n",
            "614/614 [==============================] - 0s 83us/step - loss: 0.5173 - accuracy: 0.7117 - val_loss: 0.5035 - val_accuracy: 0.7532\n",
            "Epoch 140/150\n",
            "614/614 [==============================] - 0s 81us/step - loss: 0.5411 - accuracy: 0.6954 - val_loss: 0.5036 - val_accuracy: 0.7532\n",
            "Epoch 141/150\n",
            "614/614 [==============================] - 0s 94us/step - loss: 0.5726 - accuracy: 0.7085 - val_loss: 0.5045 - val_accuracy: 0.7468\n",
            "Epoch 142/150\n",
            "614/614 [==============================] - 0s 83us/step - loss: 0.5437 - accuracy: 0.7199 - val_loss: 0.5050 - val_accuracy: 0.7468\n",
            "Epoch 143/150\n",
            "614/614 [==============================] - 0s 84us/step - loss: 0.5379 - accuracy: 0.7231 - val_loss: 0.5046 - val_accuracy: 0.7532\n",
            "Epoch 144/150\n",
            "614/614 [==============================] - 0s 79us/step - loss: 0.5395 - accuracy: 0.7085 - val_loss: 0.5037 - val_accuracy: 0.7532\n",
            "Epoch 145/150\n",
            "614/614 [==============================] - 0s 80us/step - loss: 0.5535 - accuracy: 0.7117 - val_loss: 0.5036 - val_accuracy: 0.7532\n",
            "Epoch 146/150\n",
            "614/614 [==============================] - 0s 80us/step - loss: 0.5649 - accuracy: 0.7020 - val_loss: 0.5045 - val_accuracy: 0.7468\n",
            "Epoch 147/150\n",
            "614/614 [==============================] - 0s 78us/step - loss: 0.5508 - accuracy: 0.7003 - val_loss: 0.5048 - val_accuracy: 0.7532\n",
            "Epoch 148/150\n",
            "614/614 [==============================] - 0s 83us/step - loss: 0.5661 - accuracy: 0.6873 - val_loss: 0.5055 - val_accuracy: 0.7532\n",
            "Epoch 149/150\n",
            "614/614 [==============================] - 0s 81us/step - loss: 0.5334 - accuracy: 0.6971 - val_loss: 0.5054 - val_accuracy: 0.7468\n",
            "Epoch 150/150\n",
            "614/614 [==============================] - 0s 80us/step - loss: 0.5609 - accuracy: 0.7052 - val_loss: 0.5053 - val_accuracy: 0.7468\n"
          ],
          "name": "stdout"
        }
      ]
    },
    {
      "cell_type": "code",
      "metadata": {
        "id": "6QZ4PLNXk762",
        "colab_type": "code",
        "outputId": "ccc28ec9-5ce3-40c2-b3f0-86a08b09ef55",
        "colab": {
          "base_uri": "https://localhost:8080/",
          "height": 34
        }
      },
      "source": [
        "history_dict = history.history\n",
        "history_dict.keys()"
      ],
      "execution_count": 10,
      "outputs": [
        {
          "output_type": "execute_result",
          "data": {
            "text/plain": [
              "dict_keys(['val_loss', 'val_accuracy', 'loss', 'accuracy'])"
            ]
          },
          "metadata": {
            "tags": []
          },
          "execution_count": 10
        }
      ]
    },
    {
      "cell_type": "code",
      "metadata": {
        "id": "WMNaUevnlAXL",
        "colab_type": "code",
        "outputId": "e81a586e-7f02-4b5b-ae88-3dfe2ddfb91e",
        "colab": {
          "base_uri": "https://localhost:8080/",
          "height": 295
        }
      },
      "source": [
        "import matplotlib.pyplot as plt\n",
        "\n",
        "history_dict = history.history\n",
        "\n",
        "loss_values = history_dict['loss']\n",
        "val_loss_values = history_dict['val_loss']\n",
        "epochs = range(1, len(history_dict['accuracy']) + 1)\n",
        "\n",
        "plt.plot(epochs, loss_values, 'bo', label='Training loss')\n",
        "plt.plot(epochs, val_loss_values, 'b', label='Validation loss')\n",
        "plt.title('Training and validation loss')\n",
        "plt.xlabel('Epochs')\n",
        "plt.ylabel('Loss')\n",
        "plt.legend()\n",
        "plt.show()"
      ],
      "execution_count": 11,
      "outputs": [
        {
          "output_type": "display_data",
          "data": {
            "image/png": "[encoded data removed]",
            "text/plain": [
              "<Figure size 432x288 with 1 Axes>"
            ]
          },
          "metadata": {
            "tags": [],
            "needs_background": "light"
          }
        }
      ]
    },
    {
      "cell_type": "code",
      "metadata": {
        "id": "km_uNyEylKo4",
        "colab_type": "code",
        "outputId": "e0b1bfe2-1ed4-4fec-af9f-5e2f29b3cdf4",
        "colab": {
          "base_uri": "https://localhost:8080/",
          "height": 295
        }
      },
      "source": [
        "import matplotlib.pyplot as plt\n",
        "\n",
        "history_dict = history.history\n",
        "\n",
        "accuracy_values = history_dict['accuracy']\n",
        "val_accuracy_values = history_dict['val_accuracy']\n",
        "epochs = range(1, len(history_dict['accuracy']) + 1)\n",
        "\n",
        "plt.plot(epochs, accuracy_values, 'bo', label='Training accuracy')\n",
        "plt.plot(epochs, val_accuracy_values, 'b', label='Validation accuracy')\n",
        "plt.title('Training and validation accuracy')\n",
        "plt.xlabel('Epochs')\n",
        "plt.ylabel('accuracy')\n",
        "plt.legend()\n",
        "plt.show()"
      ],
      "execution_count": 12,
      "outputs": [
        {
          "output_type": "display_data",
          "data": {
            "image/png": "[encoded data removed]",
            "text/plain": [
              "<Figure size 432x288 with 1 Axes>"
            ]
          },
          "metadata": {
            "tags": [],
            "needs_background": "light"
          }
        }
      ]
    },
    {
      "cell_type": "code",
      "metadata": {
        "id": "1MZ_YTGjmHOs",
        "colab_type": "code",
        "outputId": "977630e8-8731-49c5-d358-7040a7b68ad1",
        "colab": {
          "base_uri": "https://localhost:8080/",
          "height": 50
        }
      },
      "source": [
        "print(model.evaluate(x_train, y_train))"
      ],
      "execution_count": 13,
      "outputs": [
        {
          "output_type": "stream",
          "text": [
            "614/614 [==============================] - 0s 34us/step\n",
            "[0.4868026353443096, 0.7785016298294067]\n"
          ],
          "name": "stdout"
        }
      ]
    },
    {
      "cell_type": "code",
      "metadata": {
        "id": "ozOWTtIIl9DD",
        "colab_type": "code",
        "outputId": "570b022e-7ae8-4eaf-e12f-c9bbd3984653",
        "colab": {
          "base_uri": "https://localhost:8080/",
          "height": 50
        }
      },
      "source": [
        "print(model.evaluate(x_test, y_test))"
      ],
      "execution_count": 14,
      "outputs": [
        {
          "output_type": "stream",
          "text": [
            "154/154 [==============================] - 0s 75us/step\n",
            "[0.5052812471018209, 0.7467532753944397]\n"
          ],
          "name": "stdout"
        }
      ]
    },
    {
      "cell_type": "code",
      "metadata": {
        "id": "_qnyqsUqmGpi",
        "colab_type": "code",
        "outputId": "55ebdd94-77ec-405a-bab8-8d3a8e48cc05",
        "colab": {
          "base_uri": "https://localhost:8080/",
          "height": 1000
        }
      },
      "source": [
        "print(model.predict(x_test))"
      ],
      "execution_count": 15,
      "outputs": [
        {
          "output_type": "stream",
          "text": [
            "[[4.2723477e-01]\n",
            " [1.8873888e-01]\n",
            " [1.3873163e-01]\n",
            " [2.8972787e-01]\n",
            " [1.7795533e-01]\n",
            " [4.0928847e-01]\n",
            " [4.3666726e-01]\n",
            " [3.1921774e-02]\n",
            " [3.1564218e-01]\n",
            " [6.5926957e-01]\n",
            " [3.1689039e-01]\n",
            " [2.2349924e-01]\n",
            " [2.9029548e-01]\n",
            " [7.6969415e-02]\n",
            " [8.3953708e-02]\n",
            " [5.1219732e-02]\n",
            " [2.4078101e-02]\n",
            " [4.2278892e-01]\n",
            " [5.0973773e-01]\n",
            " [4.1307223e-01]\n",
            " [5.0733876e-01]\n",
            " [4.5419684e-01]\n",
            " [5.6846398e-01]\n",
            " [1.7462787e-01]\n",
            " [4.5662704e-01]\n",
            " [4.5026070e-01]\n",
            " [4.2064819e-01]\n",
            " [2.9676002e-01]\n",
            " [1.6156912e-02]\n",
            " [5.3706646e-02]\n",
            " [1.3590297e-01]\n",
            " [4.4969377e-01]\n",
            " [5.8861107e-01]\n",
            " [7.1817249e-02]\n",
            " [4.5281023e-01]\n",
            " [5.0090331e-01]\n",
            " [9.2109233e-02]\n",
            " [2.5835067e-01]\n",
            " [2.3104018e-01]\n",
            " [6.0205513e-01]\n",
            " [4.0729177e-01]\n",
            " [3.2509261e-01]\n",
            " [1.5333849e-01]\n",
            " [6.0713249e-01]\n",
            " [4.8600256e-02]\n",
            " [5.2325755e-02]\n",
            " [1.4058980e-01]\n",
            " [4.0485859e-01]\n",
            " [5.8383554e-01]\n",
            " [1.8466023e-01]\n",
            " [6.0188502e-02]\n",
            " [5.1199377e-02]\n",
            " [1.5996823e-01]\n",
            " [6.4898020e-01]\n",
            " [1.5588999e-03]\n",
            " [5.5130053e-01]\n",
            " [4.8854885e-01]\n",
            " [5.0801826e-01]\n",
            " [3.9231014e-01]\n",
            " [6.9737542e-01]\n",
            " [4.4013795e-01]\n",
            " [5.0820303e-01]\n",
            " [4.9706531e-01]\n",
            " [4.5912030e-01]\n",
            " [2.3952225e-01]\n",
            " [4.4487691e-01]\n",
            " [6.3988566e-04]\n",
            " [5.8187914e-01]\n",
            " [5.3625822e-01]\n",
            " [4.0989614e-01]\n",
            " [3.6680222e-01]\n",
            " [5.3887290e-01]\n",
            " [2.0968944e-02]\n",
            " [7.6255888e-02]\n",
            " [2.9215330e-01]\n",
            " [3.4603637e-01]\n",
            " [1.6399515e-01]\n",
            " [4.5149475e-02]\n",
            " [4.6645591e-01]\n",
            " [6.3030410e-01]\n",
            " [1.0031715e-01]\n",
            " [5.2692121e-01]\n",
            " [1.5658024e-01]\n",
            " [3.2831872e-01]\n",
            " [2.8359073e-01]\n",
            " [1.7224437e-01]\n",
            " [5.3167975e-01]\n",
            " [7.2771728e-02]\n",
            " [2.7128491e-01]\n",
            " [5.4956448e-01]\n",
            " [5.1084071e-01]\n",
            " [6.2440568e-01]\n",
            " [7.2637409e-02]\n",
            " [5.4722428e-03]\n",
            " [1.0405141e-01]\n",
            " [2.9071754e-01]\n",
            " [5.0392497e-01]\n",
            " [3.4669459e-01]\n",
            " [5.1854169e-01]\n",
            " [4.1796142e-01]\n",
            " [5.8035058e-01]\n",
            " [3.1780452e-01]\n",
            " [5.2799362e-01]\n",
            " [5.6585276e-01]\n",
            " [5.4113114e-01]\n",
            " [1.4578053e-01]\n",
            " [4.6416149e-01]\n",
            " [1.2299418e-02]\n",
            " [1.2823227e-01]\n",
            " [4.2372677e-01]\n",
            " [6.5746576e-02]\n",
            " [4.0693977e-01]\n",
            " [6.5384018e-01]\n",
            " [5.6935811e-01]\n",
            " [5.6166923e-01]\n",
            " [1.7581043e-01]\n",
            " [4.5029289e-01]\n",
            " [2.1774843e-01]\n",
            " [3.4723154e-01]\n",
            " [5.3367478e-01]\n",
            " [6.1065233e-01]\n",
            " [9.1417372e-02]\n",
            " [4.2723477e-01]\n",
            " [3.3490729e-01]\n",
            " [2.0786494e-02]\n",
            " [5.9892052e-01]\n",
            " [4.2158142e-01]\n",
            " [3.1340098e-01]\n",
            " [7.5077087e-02]\n",
            " [2.0331532e-02]\n",
            " [5.9013450e-01]\n",
            " [3.9562982e-01]\n",
            " [4.0963954e-01]\n",
            " [1.8754745e-01]\n",
            " [2.9026282e-01]\n",
            " [5.1064193e-01]\n",
            " [1.8064439e-01]\n",
            " [2.5191686e-01]\n",
            " [3.9339852e-01]\n",
            " [3.8580686e-01]\n",
            " [5.3975725e-01]\n",
            " [1.8131599e-01]\n",
            " [2.9536188e-02]\n",
            " [2.9249650e-01]\n",
            " [2.2725156e-01]\n",
            " [1.8866071e-01]\n",
            " [5.7717562e-01]\n",
            " [5.9459311e-01]\n",
            " [1.4255080e-01]\n",
            " [5.1779056e-01]\n",
            " [3.7790439e-01]\n",
            " [4.7655874e-01]\n",
            " [6.1299467e-01]\n",
            " [4.7259349e-01]]\n"
          ],
          "name": "stdout"
        }
      ]
    },
    {
      "cell_type": "code",
      "metadata": {
        "id": "y2qMjRopmVkD",
        "colab_type": "code",
        "colab": {}
      },
      "source": [
        ""
      ],
      "execution_count": 0,
      "outputs": []
    }
  ]
}