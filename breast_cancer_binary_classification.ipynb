{
  "nbformat": 4,
  "nbformat_minor": 0,
  "metadata": {
    "colab": {
      "name": "breast_cancer_binary_classification.ipynb",
      "provenance": [],
      "authorship_tag": "ABX9TyPCtCzTFIzAWWBczkWY+X99",
      "include_colab_link": true
    },
    "kernelspec": {
      "name": "python3",
      "display_name": "Python 3"
    }
  },
  "cells": [
    {
      "cell_type": "markdown",
      "metadata": {
        "id": "view-in-github",
        "colab_type": "text"
      },
      "source": [
        "<a href=\"https://colab.research.google.com/github/ravikiraniitm17/my_git/blob/master/breast_cancer_binary_classification.ipynb\" target=\"_parent\"><img src=\"https://colab.research.google.com/assets/colab-badge.svg\" alt=\"Open In Colab\"/></a>"
      ]
    },
    {
      "cell_type": "code",
      "metadata": {
        "id": "dErhfpvci3oU",
        "colab_type": "code",
        "colab": {}
      },
      "source": [
        "import pandas as pd\n",
        "import numpy as np\n",
        "import sklearn"
      ],
      "execution_count": 0,
      "outputs": []
    },
    {
      "cell_type": "code",
      "metadata": {
        "id": "6VxccOypjF6m",
        "colab_type": "code",
        "outputId": "887e2827-d3f4-4791-b4b9-417ce144116e",
        "colab": {
          "base_uri": "https://localhost:8080/",
          "height": 52
        }
      },
      "source": [
        "from sklearn.datasets import load_breast_cancer\n",
        "data = load_breast_cancer()\n",
        "\n",
        "X = data.data\n",
        "y = data.target\n",
        "\n",
        "print(X.shape)\n",
        "print(y.shape)"
      ],
      "execution_count": 0,
      "outputs": [
        {
          "output_type": "stream",
          "text": [
            "(569, 30)\n",
            "(569,)\n"
          ],
          "name": "stdout"
        }
      ]
    },
    {
      "cell_type": "code",
      "metadata": {
        "id": "s2Wj4mjIlYHE",
        "colab_type": "code",
        "outputId": "91b8619d-319d-4660-d735-b44f5e3ab90a",
        "colab": {
          "base_uri": "https://localhost:8080/",
          "height": 156
        }
      },
      "source": [
        "print(X[0])\n",
        "print(y[0:100])"
      ],
      "execution_count": 0,
      "outputs": [
        {
          "output_type": "stream",
          "text": [
            "[1.799e+01 1.038e+01 1.228e+02 1.001e+03 1.184e-01 2.776e-01 3.001e-01\n",
            " 1.471e-01 2.419e-01 7.871e-02 1.095e+00 9.053e-01 8.589e+00 1.534e+02\n",
            " 6.399e-03 4.904e-02 5.373e-02 1.587e-02 3.003e-02 6.193e-03 2.538e+01\n",
            " 1.733e+01 1.846e+02 2.019e+03 1.622e-01 6.656e-01 7.119e-01 2.654e-01\n",
            " 4.601e-01 1.189e-01]\n",
            "[0 0 0 0 0 0 0 0 0 0 0 0 0 0 0 0 0 0 0 1 1 1 0 0 0 0 0 0 0 0 0 0 0 0 0 0 0\n",
            " 1 0 0 0 0 0 0 0 0 1 0 1 1 1 1 1 0 0 1 0 0 1 1 1 1 0 1 0 0 1 1 1 1 0 1 0 0\n",
            " 1 0 1 0 0 1 1 1 0 0 1 0 0 0 1 1 1 0 1 1 0 0 1 1 1 0]\n"
          ],
          "name": "stdout"
        }
      ]
    },
    {
      "cell_type": "code",
      "metadata": {
        "id": "pyFl05WkkA2M",
        "colab_type": "code",
        "colab": {}
      },
      "source": [
        "from sklearn.preprocessing import StandardScaler\n",
        "scaler = StandardScaler()\n",
        "x = scaler.fit_transform(X)"
      ],
      "execution_count": 0,
      "outputs": []
    },
    {
      "cell_type": "code",
      "metadata": {
        "id": "GlN3peCTmQEO",
        "colab_type": "code",
        "colab": {}
      },
      "source": [
        "from sklearn.model_selection import train_test_split\n",
        "x_train, x_test, y_train, y_test = train_test_split(x, y, test_size = 0.3)"
      ],
      "execution_count": 0,
      "outputs": []
    },
    {
      "cell_type": "code",
      "metadata": {
        "id": "inlGAEF9kYSC",
        "colab_type": "code",
        "colab": {}
      },
      "source": [
        "from keras import models\n",
        "from keras import layers\n",
        "\n",
        "model = models.Sequential()\n",
        "model.add(layers.Dense(16, activation='relu'))\n",
        "model.add(layers.Dense(16, activation='relu'))\n",
        "model.add(layers.Dense(1, activation='sigmoid'))\n",
        "\n",
        "model.compile(optimizer='rmsprop',loss='binary_crossentropy',metrics=['accuracy'])"
      ],
      "execution_count": 0,
      "outputs": []
    },
    {
      "cell_type": "code",
      "metadata": {
        "id": "jQ6c5E6ZmDVY",
        "colab_type": "code",
        "outputId": "d0c736a2-a1bd-41d2-c7f2-d2cdb00361b5",
        "colab": {
          "base_uri": "https://localhost:8080/",
          "height": 1000
        }
      },
      "source": [
        "h = model.fit(x_train, y_train, epochs = 100, batch_size = 50, validation_data = (x_test, y_test))"
      ],
      "execution_count": 0,
      "outputs": [
        {
          "output_type": "stream",
          "text": [
            "Train on 398 samples, validate on 171 samples\n",
            "Epoch 1/100\n",
            "398/398 [==============================] - 0s 808us/step - loss: 1.0825 - accuracy: 0.3869 - val_loss: 0.9724 - val_accuracy: 0.3509\n",
            "Epoch 2/100\n",
            "398/398 [==============================] - 0s 43us/step - loss: 0.8334 - accuracy: 0.3995 - val_loss: 0.8157 - val_accuracy: 0.3684\n",
            "Epoch 3/100\n",
            "398/398 [==============================] - 0s 46us/step - loss: 0.6942 - accuracy: 0.4648 - val_loss: 0.7088 - val_accuracy: 0.4561\n",
            "Epoch 4/100\n",
            "398/398 [==============================] - 0s 45us/step - loss: 0.5987 - accuracy: 0.5804 - val_loss: 0.6302 - val_accuracy: 0.6550\n",
            "Epoch 5/100\n",
            "398/398 [==============================] - 0s 44us/step - loss: 0.5292 - accuracy: 0.7487 - val_loss: 0.5699 - val_accuracy: 0.7544\n",
            "Epoch 6/100\n",
            "398/398 [==============================] - 0s 48us/step - loss: 0.4751 - accuracy: 0.8442 - val_loss: 0.5211 - val_accuracy: 0.7895\n",
            "Epoch 7/100\n",
            "398/398 [==============================] - 0s 51us/step - loss: 0.4292 - accuracy: 0.8869 - val_loss: 0.4776 - val_accuracy: 0.8246\n",
            "Epoch 8/100\n",
            "398/398 [==============================] - 0s 44us/step - loss: 0.3887 - accuracy: 0.9095 - val_loss: 0.4382 - val_accuracy: 0.8363\n",
            "Epoch 9/100\n",
            "398/398 [==============================] - 0s 44us/step - loss: 0.3521 - accuracy: 0.9296 - val_loss: 0.4013 - val_accuracy: 0.8538\n",
            "Epoch 10/100\n",
            "398/398 [==============================] - 0s 47us/step - loss: 0.3181 - accuracy: 0.9322 - val_loss: 0.3666 - val_accuracy: 0.8538\n",
            "Epoch 11/100\n",
            "398/398 [==============================] - 0s 49us/step - loss: 0.2873 - accuracy: 0.9271 - val_loss: 0.3349 - val_accuracy: 0.8830\n",
            "Epoch 12/100\n",
            "398/398 [==============================] - 0s 45us/step - loss: 0.2597 - accuracy: 0.9246 - val_loss: 0.3056 - val_accuracy: 0.9064\n",
            "Epoch 13/100\n",
            "398/398 [==============================] - 0s 52us/step - loss: 0.2348 - accuracy: 0.9271 - val_loss: 0.2794 - val_accuracy: 0.9181\n",
            "Epoch 14/100\n",
            "398/398 [==============================] - 0s 49us/step - loss: 0.2126 - accuracy: 0.9296 - val_loss: 0.2564 - val_accuracy: 0.9240\n",
            "Epoch 15/100\n",
            "398/398 [==============================] - 0s 47us/step - loss: 0.1930 - accuracy: 0.9347 - val_loss: 0.2359 - val_accuracy: 0.9298\n",
            "Epoch 16/100\n",
            "398/398 [==============================] - 0s 49us/step - loss: 0.1760 - accuracy: 0.9397 - val_loss: 0.2171 - val_accuracy: 0.9298\n",
            "Epoch 17/100\n",
            "398/398 [==============================] - 0s 48us/step - loss: 0.1611 - accuracy: 0.9397 - val_loss: 0.2008 - val_accuracy: 0.9298\n",
            "Epoch 18/100\n",
            "398/398 [==============================] - 0s 41us/step - loss: 0.1477 - accuracy: 0.9447 - val_loss: 0.1860 - val_accuracy: 0.9298\n",
            "Epoch 19/100\n",
            "398/398 [==============================] - 0s 44us/step - loss: 0.1361 - accuracy: 0.9472 - val_loss: 0.1730 - val_accuracy: 0.9415\n",
            "Epoch 20/100\n",
            "398/398 [==============================] - 0s 47us/step - loss: 0.1260 - accuracy: 0.9548 - val_loss: 0.1615 - val_accuracy: 0.9532\n",
            "Epoch 21/100\n",
            "398/398 [==============================] - 0s 48us/step - loss: 0.1170 - accuracy: 0.9598 - val_loss: 0.1516 - val_accuracy: 0.9474\n",
            "Epoch 22/100\n",
            "398/398 [==============================] - 0s 43us/step - loss: 0.1090 - accuracy: 0.9623 - val_loss: 0.1431 - val_accuracy: 0.9474\n",
            "Epoch 23/100\n",
            "398/398 [==============================] - 0s 56us/step - loss: 0.1019 - accuracy: 0.9648 - val_loss: 0.1353 - val_accuracy: 0.9532\n",
            "Epoch 24/100\n",
            "398/398 [==============================] - 0s 40us/step - loss: 0.0959 - accuracy: 0.9648 - val_loss: 0.1286 - val_accuracy: 0.9591\n",
            "Epoch 25/100\n",
            "398/398 [==============================] - 0s 47us/step - loss: 0.0902 - accuracy: 0.9673 - val_loss: 0.1228 - val_accuracy: 0.9649\n",
            "Epoch 26/100\n",
            "398/398 [==============================] - 0s 55us/step - loss: 0.0855 - accuracy: 0.9774 - val_loss: 0.1179 - val_accuracy: 0.9649\n",
            "Epoch 27/100\n",
            "398/398 [==============================] - 0s 46us/step - loss: 0.0811 - accuracy: 0.9774 - val_loss: 0.1133 - val_accuracy: 0.9649\n",
            "Epoch 28/100\n",
            "398/398 [==============================] - 0s 48us/step - loss: 0.0774 - accuracy: 0.9774 - val_loss: 0.1093 - val_accuracy: 0.9649\n",
            "Epoch 29/100\n",
            "398/398 [==============================] - 0s 47us/step - loss: 0.0737 - accuracy: 0.9774 - val_loss: 0.1059 - val_accuracy: 0.9649\n",
            "Epoch 30/100\n",
            "398/398 [==============================] - 0s 46us/step - loss: 0.0706 - accuracy: 0.9799 - val_loss: 0.1032 - val_accuracy: 0.9708\n",
            "Epoch 31/100\n",
            "398/398 [==============================] - 0s 45us/step - loss: 0.0678 - accuracy: 0.9799 - val_loss: 0.1006 - val_accuracy: 0.9708\n",
            "Epoch 32/100\n",
            "398/398 [==============================] - 0s 43us/step - loss: 0.0655 - accuracy: 0.9799 - val_loss: 0.0986 - val_accuracy: 0.9708\n",
            "Epoch 33/100\n",
            "398/398 [==============================] - 0s 41us/step - loss: 0.0626 - accuracy: 0.9799 - val_loss: 0.0964 - val_accuracy: 0.9766\n",
            "Epoch 34/100\n",
            "398/398 [==============================] - 0s 43us/step - loss: 0.0607 - accuracy: 0.9824 - val_loss: 0.0946 - val_accuracy: 0.9766\n",
            "Epoch 35/100\n",
            "398/398 [==============================] - 0s 42us/step - loss: 0.0587 - accuracy: 0.9824 - val_loss: 0.0931 - val_accuracy: 0.9766\n",
            "Epoch 36/100\n",
            "398/398 [==============================] - 0s 38us/step - loss: 0.0568 - accuracy: 0.9824 - val_loss: 0.0917 - val_accuracy: 0.9766\n",
            "Epoch 37/100\n",
            "398/398 [==============================] - 0s 39us/step - loss: 0.0553 - accuracy: 0.9824 - val_loss: 0.0904 - val_accuracy: 0.9766\n",
            "Epoch 38/100\n",
            "398/398 [==============================] - 0s 41us/step - loss: 0.0533 - accuracy: 0.9824 - val_loss: 0.0893 - val_accuracy: 0.9766\n",
            "Epoch 39/100\n",
            "398/398 [==============================] - 0s 45us/step - loss: 0.0522 - accuracy: 0.9824 - val_loss: 0.0885 - val_accuracy: 0.9766\n",
            "Epoch 40/100\n",
            "398/398 [==============================] - 0s 43us/step - loss: 0.0502 - accuracy: 0.9849 - val_loss: 0.0874 - val_accuracy: 0.9766\n",
            "Epoch 41/100\n",
            "398/398 [==============================] - 0s 43us/step - loss: 0.0490 - accuracy: 0.9849 - val_loss: 0.0864 - val_accuracy: 0.9766\n",
            "Epoch 42/100\n",
            "398/398 [==============================] - 0s 43us/step - loss: 0.0479 - accuracy: 0.9874 - val_loss: 0.0852 - val_accuracy: 0.9766\n",
            "Epoch 43/100\n",
            "398/398 [==============================] - 0s 43us/step - loss: 0.0467 - accuracy: 0.9874 - val_loss: 0.0844 - val_accuracy: 0.9766\n",
            "Epoch 44/100\n",
            "398/398 [==============================] - 0s 44us/step - loss: 0.0451 - accuracy: 0.9874 - val_loss: 0.0836 - val_accuracy: 0.9825\n",
            "Epoch 45/100\n",
            "398/398 [==============================] - 0s 44us/step - loss: 0.0446 - accuracy: 0.9899 - val_loss: 0.0828 - val_accuracy: 0.9825\n",
            "Epoch 46/100\n",
            "398/398 [==============================] - 0s 43us/step - loss: 0.0430 - accuracy: 0.9899 - val_loss: 0.0827 - val_accuracy: 0.9825\n",
            "Epoch 47/100\n",
            "398/398 [==============================] - 0s 41us/step - loss: 0.0420 - accuracy: 0.9925 - val_loss: 0.0817 - val_accuracy: 0.9883\n",
            "Epoch 48/100\n",
            "398/398 [==============================] - 0s 43us/step - loss: 0.0408 - accuracy: 0.9925 - val_loss: 0.0812 - val_accuracy: 0.9883\n",
            "Epoch 49/100\n",
            "398/398 [==============================] - 0s 39us/step - loss: 0.0397 - accuracy: 0.9925 - val_loss: 0.0809 - val_accuracy: 0.9883\n",
            "Epoch 50/100\n",
            "398/398 [==============================] - 0s 42us/step - loss: 0.0386 - accuracy: 0.9925 - val_loss: 0.0802 - val_accuracy: 0.9883\n",
            "Epoch 51/100\n",
            "398/398 [==============================] - 0s 41us/step - loss: 0.0373 - accuracy: 0.9925 - val_loss: 0.0792 - val_accuracy: 0.9883\n",
            "Epoch 52/100\n",
            "398/398 [==============================] - 0s 44us/step - loss: 0.0368 - accuracy: 0.9925 - val_loss: 0.0790 - val_accuracy: 0.9883\n",
            "Epoch 53/100\n",
            "398/398 [==============================] - 0s 51us/step - loss: 0.0355 - accuracy: 0.9925 - val_loss: 0.0788 - val_accuracy: 0.9883\n",
            "Epoch 54/100\n",
            "398/398 [==============================] - 0s 39us/step - loss: 0.0347 - accuracy: 0.9925 - val_loss: 0.0780 - val_accuracy: 0.9883\n",
            "Epoch 55/100\n",
            "398/398 [==============================] - 0s 45us/step - loss: 0.0335 - accuracy: 0.9925 - val_loss: 0.0778 - val_accuracy: 0.9883\n",
            "Epoch 56/100\n",
            "398/398 [==============================] - 0s 42us/step - loss: 0.0327 - accuracy: 0.9925 - val_loss: 0.0775 - val_accuracy: 0.9883\n",
            "Epoch 57/100\n",
            "398/398 [==============================] - 0s 43us/step - loss: 0.0313 - accuracy: 0.9925 - val_loss: 0.0778 - val_accuracy: 0.9883\n",
            "Epoch 58/100\n",
            "398/398 [==============================] - 0s 44us/step - loss: 0.0307 - accuracy: 0.9925 - val_loss: 0.0776 - val_accuracy: 0.9883\n",
            "Epoch 59/100\n",
            "398/398 [==============================] - 0s 41us/step - loss: 0.0297 - accuracy: 0.9925 - val_loss: 0.0781 - val_accuracy: 0.9883\n",
            "Epoch 60/100\n",
            "398/398 [==============================] - 0s 41us/step - loss: 0.0289 - accuracy: 0.9925 - val_loss: 0.0781 - val_accuracy: 0.9883\n",
            "Epoch 61/100\n",
            "398/398 [==============================] - 0s 43us/step - loss: 0.0282 - accuracy: 0.9925 - val_loss: 0.0780 - val_accuracy: 0.9883\n",
            "Epoch 62/100\n",
            "398/398 [==============================] - 0s 42us/step - loss: 0.0275 - accuracy: 0.9925 - val_loss: 0.0775 - val_accuracy: 0.9883\n",
            "Epoch 63/100\n",
            "398/398 [==============================] - 0s 43us/step - loss: 0.0263 - accuracy: 0.9925 - val_loss: 0.0783 - val_accuracy: 0.9883\n",
            "Epoch 64/100\n",
            "398/398 [==============================] - 0s 38us/step - loss: 0.0260 - accuracy: 0.9925 - val_loss: 0.0770 - val_accuracy: 0.9883\n",
            "Epoch 65/100\n",
            "398/398 [==============================] - 0s 47us/step - loss: 0.0251 - accuracy: 0.9925 - val_loss: 0.0772 - val_accuracy: 0.9883\n",
            "Epoch 66/100\n",
            "398/398 [==============================] - 0s 41us/step - loss: 0.0241 - accuracy: 0.9925 - val_loss: 0.0773 - val_accuracy: 0.9883\n",
            "Epoch 67/100\n",
            "398/398 [==============================] - 0s 49us/step - loss: 0.0235 - accuracy: 0.9925 - val_loss: 0.0770 - val_accuracy: 0.9883\n",
            "Epoch 68/100\n",
            "398/398 [==============================] - 0s 47us/step - loss: 0.0228 - accuracy: 0.9925 - val_loss: 0.0774 - val_accuracy: 0.9883\n",
            "Epoch 69/100\n",
            "398/398 [==============================] - 0s 45us/step - loss: 0.0222 - accuracy: 0.9925 - val_loss: 0.0769 - val_accuracy: 0.9883\n",
            "Epoch 70/100\n",
            "398/398 [==============================] - 0s 45us/step - loss: 0.0215 - accuracy: 0.9925 - val_loss: 0.0768 - val_accuracy: 0.9883\n",
            "Epoch 71/100\n",
            "398/398 [==============================] - 0s 44us/step - loss: 0.0212 - accuracy: 0.9925 - val_loss: 0.0763 - val_accuracy: 0.9883\n",
            "Epoch 72/100\n",
            "398/398 [==============================] - 0s 44us/step - loss: 0.0202 - accuracy: 0.9950 - val_loss: 0.0775 - val_accuracy: 0.9883\n",
            "Epoch 73/100\n",
            "398/398 [==============================] - 0s 44us/step - loss: 0.0196 - accuracy: 0.9950 - val_loss: 0.0775 - val_accuracy: 0.9883\n",
            "Epoch 74/100\n",
            "398/398 [==============================] - 0s 44us/step - loss: 0.0193 - accuracy: 0.9925 - val_loss: 0.0762 - val_accuracy: 0.9883\n",
            "Epoch 75/100\n",
            "398/398 [==============================] - 0s 47us/step - loss: 0.0187 - accuracy: 0.9925 - val_loss: 0.0764 - val_accuracy: 0.9883\n",
            "Epoch 76/100\n",
            "398/398 [==============================] - 0s 46us/step - loss: 0.0182 - accuracy: 0.9950 - val_loss: 0.0773 - val_accuracy: 0.9883\n",
            "Epoch 77/100\n",
            "398/398 [==============================] - 0s 37us/step - loss: 0.0175 - accuracy: 0.9950 - val_loss: 0.0769 - val_accuracy: 0.9883\n",
            "Epoch 78/100\n",
            "398/398 [==============================] - 0s 43us/step - loss: 0.0170 - accuracy: 0.9950 - val_loss: 0.0760 - val_accuracy: 0.9883\n",
            "Epoch 79/100\n",
            "398/398 [==============================] - 0s 45us/step - loss: 0.0168 - accuracy: 0.9950 - val_loss: 0.0760 - val_accuracy: 0.9883\n",
            "Epoch 80/100\n",
            "398/398 [==============================] - 0s 47us/step - loss: 0.0162 - accuracy: 0.9950 - val_loss: 0.0767 - val_accuracy: 0.9883\n",
            "Epoch 81/100\n",
            "398/398 [==============================] - 0s 49us/step - loss: 0.0158 - accuracy: 0.9950 - val_loss: 0.0783 - val_accuracy: 0.9883\n",
            "Epoch 82/100\n",
            "398/398 [==============================] - 0s 37us/step - loss: 0.0150 - accuracy: 0.9950 - val_loss: 0.0774 - val_accuracy: 0.9883\n",
            "Epoch 83/100\n",
            "398/398 [==============================] - 0s 48us/step - loss: 0.0145 - accuracy: 0.9950 - val_loss: 0.0777 - val_accuracy: 0.9883\n",
            "Epoch 84/100\n",
            "398/398 [==============================] - 0s 42us/step - loss: 0.0146 - accuracy: 0.9950 - val_loss: 0.0780 - val_accuracy: 0.9883\n",
            "Epoch 85/100\n",
            "398/398 [==============================] - 0s 45us/step - loss: 0.0138 - accuracy: 0.9950 - val_loss: 0.0781 - val_accuracy: 0.9883\n",
            "Epoch 86/100\n",
            "398/398 [==============================] - 0s 40us/step - loss: 0.0133 - accuracy: 0.9950 - val_loss: 0.0780 - val_accuracy: 0.9883\n",
            "Epoch 87/100\n",
            "398/398 [==============================] - 0s 39us/step - loss: 0.0130 - accuracy: 0.9950 - val_loss: 0.0774 - val_accuracy: 0.9883\n",
            "Epoch 88/100\n",
            "398/398 [==============================] - 0s 41us/step - loss: 0.0126 - accuracy: 0.9975 - val_loss: 0.0796 - val_accuracy: 0.9825\n",
            "Epoch 89/100\n",
            "398/398 [==============================] - 0s 57us/step - loss: 0.0120 - accuracy: 0.9975 - val_loss: 0.0790 - val_accuracy: 0.9883\n",
            "Epoch 90/100\n",
            "398/398 [==============================] - 0s 43us/step - loss: 0.0118 - accuracy: 0.9975 - val_loss: 0.0794 - val_accuracy: 0.9883\n",
            "Epoch 91/100\n",
            "398/398 [==============================] - 0s 38us/step - loss: 0.0114 - accuracy: 0.9975 - val_loss: 0.0792 - val_accuracy: 0.9883\n",
            "Epoch 92/100\n",
            "398/398 [==============================] - 0s 37us/step - loss: 0.0114 - accuracy: 0.9975 - val_loss: 0.0808 - val_accuracy: 0.9825\n",
            "Epoch 93/100\n",
            "398/398 [==============================] - 0s 40us/step - loss: 0.0108 - accuracy: 0.9975 - val_loss: 0.0806 - val_accuracy: 0.9825\n",
            "Epoch 94/100\n",
            "398/398 [==============================] - 0s 42us/step - loss: 0.0102 - accuracy: 0.9975 - val_loss: 0.0798 - val_accuracy: 0.9825\n",
            "Epoch 95/100\n",
            "398/398 [==============================] - 0s 44us/step - loss: 0.0100 - accuracy: 0.9975 - val_loss: 0.0824 - val_accuracy: 0.9825\n",
            "Epoch 96/100\n",
            "398/398 [==============================] - 0s 43us/step - loss: 0.0099 - accuracy: 0.9975 - val_loss: 0.0808 - val_accuracy: 0.9825\n",
            "Epoch 97/100\n",
            "398/398 [==============================] - 0s 42us/step - loss: 0.0092 - accuracy: 0.9975 - val_loss: 0.0823 - val_accuracy: 0.9825\n",
            "Epoch 98/100\n",
            "398/398 [==============================] - 0s 42us/step - loss: 0.0092 - accuracy: 0.9975 - val_loss: 0.0815 - val_accuracy: 0.9825\n",
            "Epoch 99/100\n",
            "398/398 [==============================] - 0s 43us/step - loss: 0.0086 - accuracy: 0.9975 - val_loss: 0.0834 - val_accuracy: 0.9825\n",
            "Epoch 100/100\n",
            "398/398 [==============================] - 0s 39us/step - loss: 0.0084 - accuracy: 0.9975 - val_loss: 0.0831 - val_accuracy: 0.9825\n"
          ],
          "name": "stdout"
        }
      ]
    },
    {
      "cell_type": "code",
      "metadata": {
        "id": "DrxlEYcpl5s5",
        "colab_type": "code",
        "colab": {}
      },
      "source": [
        "predictions = model.predict(x_test)"
      ],
      "execution_count": 0,
      "outputs": []
    },
    {
      "cell_type": "code",
      "metadata": {
        "id": "fExFN8LuvfFg",
        "colab_type": "code",
        "outputId": "e97559d1-a261-4ebd-a6db-3995ab23371f",
        "colab": {
          "base_uri": "https://localhost:8080/",
          "height": 295
        }
      },
      "source": [
        "# plotting loss\n",
        "\n",
        "import matplotlib.pyplot as plt\n",
        "\n",
        "\n",
        "history_dict =  h.history\n",
        "\n",
        "train_loss = history_dict['loss']\n",
        "test_loss = history_dict['val_loss']\n",
        "\n",
        "epochs = range(1, len(history_dict['accuracy'])+1)\n",
        "\n",
        "plt.plot(epochs, train_loss, 'bo', label = 'Training loss')\n",
        "plt.plot(epochs, test_loss, 'ro', label = 'Test loss')\n",
        "plt.title('Training and Test loss')\n",
        "plt.xlabel('Epochs')\n",
        "plt.ylabel('Loss')\n",
        "plt.legend()\n",
        "\n",
        "plt.show()"
      ],
      "execution_count": 0,
      "outputs": [
        {
          "output_type": "display_data",
          "data": {
            "image/png": "[encoded data removed]",
            "text/plain": [
              "<Figure size 432x288 with 1 Axes>"
            ]
          },
          "metadata": {
            "tags": [],
            "needs_background": "light"
          }
        }
      ]
    },
    {
      "cell_type": "code",
      "metadata": {
        "id": "SWhVtsLsv1rk",
        "colab_type": "code",
        "outputId": "61dd50b2-cdb7-4b28-9206-7b7fe5d188f0",
        "colab": {
          "base_uri": "https://localhost:8080/",
          "height": 295
        }
      },
      "source": [
        "# plotting accuracy\n",
        "\n",
        "history_dict =  h.history\n",
        "\n",
        "train_loss = history_dict['accuracy']\n",
        "test_loss = history_dict['val_accuracy']\n",
        "\n",
        "epochs = range(1, len(history_dict['accuracy'])+1)\n",
        "\n",
        "plt.plot(epochs, train_loss, 'bo', label = 'Training accuracy')\n",
        "plt.plot(epochs, test_loss, 'ro', label = 'Test accuracy')\n",
        "plt.title('Training and Test accuracy')\n",
        "plt.xlabel('Epochs')\n",
        "plt.ylabel('accuracy')\n",
        "plt.legend()\n",
        "\n",
        "plt.show()"
      ],
      "execution_count": 0,
      "outputs": [
        {
          "output_type": "display_data",
          "data": {
            "image/png": "[encoded data removed]",
            "text/plain": [
              "<Figure size 432x288 with 1 Axes>"
            ]
          },
          "metadata": {
            "tags": [],
            "needs_background": "light"
          }
        }
      ]
    }
  ]
}