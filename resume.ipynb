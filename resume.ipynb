{
  "nbformat": 4,
  "nbformat_minor": 0,
  "metadata": {
    "colab": {
      "name": "resume.ipynb",
      "provenance": [],
      "collapsed_sections": [],
      "authorship_tag": "ABX9TyNuPWj3jccECg0yjvnER3Tm",
      "include_colab_link": true
    },
    "kernelspec": {
      "name": "python3",
      "display_name": "Python 3"
    }
  },
  "cells": [
    {
      "cell_type": "markdown",
      "metadata": {
        "id": "view-in-github",
        "colab_type": "text"
      },
      "source": [
        "<a href=\"https://colab.research.google.com/github/ravi-kiran-iiml/my_git/blob/master/resume.ipynb\" target=\"_parent\"><img src=\"https://colab.research.google.com/assets/colab-badge.svg\" alt=\"Open In Colab\"/></a>"
      ]
    },
    {
      "cell_type": "code",
      "metadata": {
        "id": "UtxZEO0xjyO8",
        "colab_type": "code",
        "colab": {}
      },
      "source": [
        ""
      ],
      "execution_count": 0,
      "outputs": []
    },
    {
      "cell_type": "markdown",
      "metadata": {
        "id": "-x1ioVsWmryw",
        "colab_type": "text"
      },
      "source": [
        "# Education"
      ]
    },
    {
      "cell_type": "markdown",
      "metadata": {
        "id": "ddPlFdXDo7kT",
        "colab_type": "text"
      },
      "source": [
        "IIM Lucknow\n",
        "\n",
        "\n",
        "*   PGDM - Finance\n",
        "*   Summer Internship - High Impact Project Award\n",
        "*   2012 - 2014\n",
        "\n",
        "IIT Madras\n",
        "\n",
        "\n",
        "*   B.Tech - Ocean Engineering\n",
        "*   Minor -  Operations Research\n",
        "*   CGPA - 8.2 out of 10\n",
        "*   2006 - 2010\n",
        "\n",
        "10th and 12th\n",
        "\n",
        "*   Aggregate Score: 10th: 92.8%; 12th: 91.0%\n",
        "*   CBSE Certificate of Merit for 10th board exam\n",
        "*   Ideal Student Award for 10th board exam\n",
        "*   Global Mathematics Olympiad: Rank 121\n",
        "\n",
        "\n",
        "\n",
        "\n",
        "\n"
      ]
    },
    {
      "cell_type": "markdown",
      "metadata": {
        "id": "0CLKtHpyn80w",
        "colab_type": "text"
      },
      "source": [
        "# Analytics skills"
      ]
    },
    {
      "cell_type": "markdown",
      "metadata": {
        "id": "fuZop78BoB9X",
        "colab_type": "text"
      },
      "source": [
        "Python 3\n",
        "\n",
        "\n",
        "*   Completed courses at Codecademy\n",
        "*   Skill level: Intermediate\n",
        "\n",
        "Machine Learning\n",
        "\n",
        "\n",
        "*   Scikit-Learn, Numpy, Pandas libraries\n",
        "*   Skill level: Intermediate\n",
        "*   Classification, Regression and Clustering models\n",
        "\n",
        "\n",
        "\n",
        "Neural Networks\n",
        "\n",
        "\n",
        "*   Keras framework\n",
        "*   Skill level: Beginner\n",
        "*   Models: Binary classification, Multi Classification, Regression\n",
        "\n",
        "\n",
        "\n",
        "\n",
        "\n",
        "\n",
        "\n"
      ]
    },
    {
      "cell_type": "markdown",
      "metadata": {
        "id": "zDNoBgYblGmN",
        "colab_type": "text"
      },
      "source": [
        "# Evalueserve\n",
        "\n",
        "---\n",
        "\n"
      ]
    },
    {
      "cell_type": "markdown",
      "metadata": {
        "id": "GhraFULVkUgs",
        "colab_type": "text"
      },
      "source": [
        "•\tResearched on Blockchain, Machine Learning, and RPA enterprise solutions\n",
        "\n",
        "•\tCash flow forecasting, cost optimization, and valuation modeling\n",
        "\n",
        "•\tConducted preliminary due diligence for 20+ global ventures for M&A project\n",
        "\n",
        "•\tWorked on transactions big data to create P&L for individual business units\n"
      ]
    },
    {
      "cell_type": "markdown",
      "metadata": {
        "id": "JO0MyISZlJvQ",
        "colab_type": "text"
      },
      "source": [
        "# Axis Bank\n",
        "\n",
        "---\n",
        "\n"
      ]
    },
    {
      "cell_type": "markdown",
      "metadata": {
        "id": "ig-mFTkQkoBM",
        "colab_type": "text"
      },
      "source": [
        "**Clustering Project**\n",
        "\n",
        "•\tCreated a k-means clustering model for segmentation of 1.25 crore customers \n",
        "\n",
        "•\tAwarded ‘High Impact Project award’  for outstanding project performance\n",
        "\n",
        "**Process Excellence Project**\n",
        "\n",
        "•\tStudied error flagged transactions and created a root-cause analysis model\n",
        "\n",
        "•\tManaged stakeholders in the survey, analysis, and implementation stages\n",
        "\n",
        "**Analytics lead – Branch automation**\n",
        "\n",
        "•\tCreated financial analytics model for 8 different branch automation projects\n",
        "\n",
        "•\tLed development, testing and launch of Engage Pro master CRM App \n"
      ]
    },
    {
      "cell_type": "markdown",
      "metadata": {
        "id": "9MEQy1DYlMlw",
        "colab_type": "text"
      },
      "source": [
        "# Mazagon Dock\n",
        "\n",
        "---\n",
        "\n"
      ]
    },
    {
      "cell_type": "markdown",
      "metadata": {
        "id": "NmrdvMpakyYu",
        "colab_type": "text"
      },
      "source": [
        "•\tAnalysed and reported static and dynamic stability scenarios for frigates\n",
        "\n",
        "•\tCoordinated and managed stakeholders for conducting inclining tests\n",
        "\n",
        "•\tSupervised draftsmen for technical design in AutoCAD software\n"
      ]
    },
    {
      "cell_type": "markdown",
      "metadata": {
        "id": "uD-w1eyllPSc",
        "colab_type": "text"
      },
      "source": [
        "# Academic Achievements\n",
        "\n",
        "---\n",
        "\n"
      ]
    },
    {
      "cell_type": "markdown",
      "metadata": {
        "id": "uCPGLlbRk4Yf",
        "colab_type": "text"
      },
      "source": [
        "•\tScored 92.8% aggregate in 10th standard, 91.0% aggregate in 12th standard\n",
        "\n",
        "•\tAwarded Excellent grade in Green Belt Six Sigma course\n",
        "\n",
        "•\tSecured 99.92 percentile score in CAT 2011 with 99.98 percentile in quant\n",
        "\n",
        "•\tIdeal student award for outstanding performance in 10th board exam\n",
        "\n",
        "•\tCBSE Certificate of Merit for 100/100 in Mathematics \n",
        "\n",
        "•\tCompleted 5 modules of NCFM financial markets\n"
      ]
    },
    {
      "cell_type": "markdown",
      "metadata": {
        "id": "qecWVE65lS4h",
        "colab_type": "text"
      },
      "source": [
        "# Extra Curriculars\n",
        "\n",
        "---\n",
        "\n"
      ]
    },
    {
      "cell_type": "markdown",
      "metadata": {
        "id": "XXAgwawllYSq",
        "colab_type": "text"
      },
      "source": [
        "# Interests\n",
        "\n",
        "---\n",
        "\n"
      ]
    },
    {
      "cell_type": "markdown",
      "metadata": {
        "id": "aQi2slu2lCr-",
        "colab_type": "text"
      },
      "source": [
        "Reading, Music, Travelling"
      ]
    }
  ]
}