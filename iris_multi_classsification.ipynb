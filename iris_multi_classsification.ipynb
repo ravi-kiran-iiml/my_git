{
  "nbformat": 4,
  "nbformat_minor": 0,
  "metadata": {
    "colab": {
      "name": "iris_multi_classsification.ipynb",
      "provenance": [],
      "include_colab_link": true
    },
    "kernelspec": {
      "name": "python3",
      "display_name": "Python 3"
    }
  },
  "cells": [
    {
      "cell_type": "markdown",
      "metadata": {
        "id": "view-in-github",
        "colab_type": "text"
      },
      "source": [
        "<a href=\"https://colab.research.google.com/github/ravikiraniitm17/my_git/blob/master/iris_multi_classsification.ipynb\" target=\"_parent\"><img src=\"https://colab.research.google.com/assets/colab-badge.svg\" alt=\"Open In Colab\"/></a>"
      ]
    },
    {
      "cell_type": "code",
      "metadata": {
        "id": "bsKVs4xGJUEp",
        "colab_type": "code",
        "colab": {}
      },
      "source": [
        "import pandas as pd\n",
        "import numpy as np\n",
        "import sklearn"
      ],
      "execution_count": 0,
      "outputs": []
    },
    {
      "cell_type": "code",
      "metadata": {
        "id": "DTI0AswRKjNa",
        "colab_type": "code",
        "outputId": "70416e89-fe29-4b7e-8bb2-89914699acfc",
        "colab": {
          "base_uri": "https://localhost:8080/",
          "height": 35
        }
      },
      "source": [
        "# iris dataset\n",
        "\"\"\"\n",
        "multi classification dataset -  3 classes and 4 attributes\n",
        "\"\"\"\n",
        "\n",
        "from sklearn.datasets import load_iris\n",
        "data = load_iris(return_X_y=False)\n",
        "list(data.target_names) # list of the classes"
      ],
      "execution_count": 0,
      "outputs": [
        {
          "output_type": "execute_result",
          "data": {
            "text/plain": [
              "['setosa', 'versicolor', 'virginica']"
            ]
          },
          "metadata": {
            "tags": []
          },
          "execution_count": 2
        }
      ]
    },
    {
      "cell_type": "code",
      "metadata": {
        "id": "AqpkiAq3MJ3D",
        "colab_type": "code",
        "colab": {}
      },
      "source": [
        "print(data)"
      ],
      "execution_count": 0,
      "outputs": []
    },
    {
      "cell_type": "code",
      "metadata": {
        "id": "JbBggtrENcU1",
        "colab_type": "code",
        "outputId": "131cc6d1-2b41-468e-c49e-cd9721f69f3f",
        "colab": {
          "base_uri": "https://localhost:8080/",
          "height": 1000
        }
      },
      "source": [
        "X = data.data\n",
        "print(X.shape)\n",
        "print(X)"
      ],
      "execution_count": 0,
      "outputs": [
        {
          "output_type": "stream",
          "text": [
            "(150, 4)\n",
            "[[5.1 3.5 1.4 0.2]\n",
            " [4.9 3.  1.4 0.2]\n",
            " [4.7 3.2 1.3 0.2]\n",
            " [4.6 3.1 1.5 0.2]\n",
            " [5.  3.6 1.4 0.2]\n",
            " [5.4 3.9 1.7 0.4]\n",
            " [4.6 3.4 1.4 0.3]\n",
            " [5.  3.4 1.5 0.2]\n",
            " [4.4 2.9 1.4 0.2]\n",
            " [4.9 3.1 1.5 0.1]\n",
            " [5.4 3.7 1.5 0.2]\n",
            " [4.8 3.4 1.6 0.2]\n",
            " [4.8 3.  1.4 0.1]\n",
            " [4.3 3.  1.1 0.1]\n",
            " [5.8 4.  1.2 0.2]\n",
            " [5.7 4.4 1.5 0.4]\n",
            " [5.4 3.9 1.3 0.4]\n",
            " [5.1 3.5 1.4 0.3]\n",
            " [5.7 3.8 1.7 0.3]\n",
            " [5.1 3.8 1.5 0.3]\n",
            " [5.4 3.4 1.7 0.2]\n",
            " [5.1 3.7 1.5 0.4]\n",
            " [4.6 3.6 1.  0.2]\n",
            " [5.1 3.3 1.7 0.5]\n",
            " [4.8 3.4 1.9 0.2]\n",
            " [5.  3.  1.6 0.2]\n",
            " [5.  3.4 1.6 0.4]\n",
            " [5.2 3.5 1.5 0.2]\n",
            " [5.2 3.4 1.4 0.2]\n",
            " [4.7 3.2 1.6 0.2]\n",
            " [4.8 3.1 1.6 0.2]\n",
            " [5.4 3.4 1.5 0.4]\n",
            " [5.2 4.1 1.5 0.1]\n",
            " [5.5 4.2 1.4 0.2]\n",
            " [4.9 3.1 1.5 0.2]\n",
            " [5.  3.2 1.2 0.2]\n",
            " [5.5 3.5 1.3 0.2]\n",
            " [4.9 3.6 1.4 0.1]\n",
            " [4.4 3.  1.3 0.2]\n",
            " [5.1 3.4 1.5 0.2]\n",
            " [5.  3.5 1.3 0.3]\n",
            " [4.5 2.3 1.3 0.3]\n",
            " [4.4 3.2 1.3 0.2]\n",
            " [5.  3.5 1.6 0.6]\n",
            " [5.1 3.8 1.9 0.4]\n",
            " [4.8 3.  1.4 0.3]\n",
            " [5.1 3.8 1.6 0.2]\n",
            " [4.6 3.2 1.4 0.2]\n",
            " [5.3 3.7 1.5 0.2]\n",
            " [5.  3.3 1.4 0.2]\n",
            " [7.  3.2 4.7 1.4]\n",
            " [6.4 3.2 4.5 1.5]\n",
            " [6.9 3.1 4.9 1.5]\n",
            " [5.5 2.3 4.  1.3]\n",
            " [6.5 2.8 4.6 1.5]\n",
            " [5.7 2.8 4.5 1.3]\n",
            " [6.3 3.3 4.7 1.6]\n",
            " [4.9 2.4 3.3 1. ]\n",
            " [6.6 2.9 4.6 1.3]\n",
            " [5.2 2.7 3.9 1.4]\n",
            " [5.  2.  3.5 1. ]\n",
            " [5.9 3.  4.2 1.5]\n",
            " [6.  2.2 4.  1. ]\n",
            " [6.1 2.9 4.7 1.4]\n",
            " [5.6 2.9 3.6 1.3]\n",
            " [6.7 3.1 4.4 1.4]\n",
            " [5.6 3.  4.5 1.5]\n",
            " [5.8 2.7 4.1 1. ]\n",
            " [6.2 2.2 4.5 1.5]\n",
            " [5.6 2.5 3.9 1.1]\n",
            " [5.9 3.2 4.8 1.8]\n",
            " [6.1 2.8 4.  1.3]\n",
            " [6.3 2.5 4.9 1.5]\n",
            " [6.1 2.8 4.7 1.2]\n",
            " [6.4 2.9 4.3 1.3]\n",
            " [6.6 3.  4.4 1.4]\n",
            " [6.8 2.8 4.8 1.4]\n",
            " [6.7 3.  5.  1.7]\n",
            " [6.  2.9 4.5 1.5]\n",
            " [5.7 2.6 3.5 1. ]\n",
            " [5.5 2.4 3.8 1.1]\n",
            " [5.5 2.4 3.7 1. ]\n",
            " [5.8 2.7 3.9 1.2]\n",
            " [6.  2.7 5.1 1.6]\n",
            " [5.4 3.  4.5 1.5]\n",
            " [6.  3.4 4.5 1.6]\n",
            " [6.7 3.1 4.7 1.5]\n",
            " [6.3 2.3 4.4 1.3]\n",
            " [5.6 3.  4.1 1.3]\n",
            " [5.5 2.5 4.  1.3]\n",
            " [5.5 2.6 4.4 1.2]\n",
            " [6.1 3.  4.6 1.4]\n",
            " [5.8 2.6 4.  1.2]\n",
            " [5.  2.3 3.3 1. ]\n",
            " [5.6 2.7 4.2 1.3]\n",
            " [5.7 3.  4.2 1.2]\n",
            " [5.7 2.9 4.2 1.3]\n",
            " [6.2 2.9 4.3 1.3]\n",
            " [5.1 2.5 3.  1.1]\n",
            " [5.7 2.8 4.1 1.3]\n",
            " [6.3 3.3 6.  2.5]\n",
            " [5.8 2.7 5.1 1.9]\n",
            " [7.1 3.  5.9 2.1]\n",
            " [6.3 2.9 5.6 1.8]\n",
            " [6.5 3.  5.8 2.2]\n",
            " [7.6 3.  6.6 2.1]\n",
            " [4.9 2.5 4.5 1.7]\n",
            " [7.3 2.9 6.3 1.8]\n",
            " [6.7 2.5 5.8 1.8]\n",
            " [7.2 3.6 6.1 2.5]\n",
            " [6.5 3.2 5.1 2. ]\n",
            " [6.4 2.7 5.3 1.9]\n",
            " [6.8 3.  5.5 2.1]\n",
            " [5.7 2.5 5.  2. ]\n",
            " [5.8 2.8 5.1 2.4]\n",
            " [6.4 3.2 5.3 2.3]\n",
            " [6.5 3.  5.5 1.8]\n",
            " [7.7 3.8 6.7 2.2]\n",
            " [7.7 2.6 6.9 2.3]\n",
            " [6.  2.2 5.  1.5]\n",
            " [6.9 3.2 5.7 2.3]\n",
            " [5.6 2.8 4.9 2. ]\n",
            " [7.7 2.8 6.7 2. ]\n",
            " [6.3 2.7 4.9 1.8]\n",
            " [6.7 3.3 5.7 2.1]\n",
            " [7.2 3.2 6.  1.8]\n",
            " [6.2 2.8 4.8 1.8]\n",
            " [6.1 3.  4.9 1.8]\n",
            " [6.4 2.8 5.6 2.1]\n",
            " [7.2 3.  5.8 1.6]\n",
            " [7.4 2.8 6.1 1.9]\n",
            " [7.9 3.8 6.4 2. ]\n",
            " [6.4 2.8 5.6 2.2]\n",
            " [6.3 2.8 5.1 1.5]\n",
            " [6.1 2.6 5.6 1.4]\n",
            " [7.7 3.  6.1 2.3]\n",
            " [6.3 3.4 5.6 2.4]\n",
            " [6.4 3.1 5.5 1.8]\n",
            " [6.  3.  4.8 1.8]\n",
            " [6.9 3.1 5.4 2.1]\n",
            " [6.7 3.1 5.6 2.4]\n",
            " [6.9 3.1 5.1 2.3]\n",
            " [5.8 2.7 5.1 1.9]\n",
            " [6.8 3.2 5.9 2.3]\n",
            " [6.7 3.3 5.7 2.5]\n",
            " [6.7 3.  5.2 2.3]\n",
            " [6.3 2.5 5.  1.9]\n",
            " [6.5 3.  5.2 2. ]\n",
            " [6.2 3.4 5.4 2.3]\n",
            " [5.9 3.  5.1 1.8]]\n"
          ],
          "name": "stdout"
        }
      ]
    },
    {
      "cell_type": "code",
      "metadata": {
        "id": "dPcI5yhUNjG_",
        "colab_type": "code",
        "outputId": "0f48e2be-13ee-4e98-cd5e-82838874fe17",
        "colab": {
          "base_uri": "https://localhost:8080/",
          "height": 104
        }
      },
      "source": [
        "y = data.target\n",
        "print(y)"
      ],
      "execution_count": 0,
      "outputs": [
        {
          "output_type": "stream",
          "text": [
            "[0 0 0 0 0 0 0 0 0 0 0 0 0 0 0 0 0 0 0 0 0 0 0 0 0 0 0 0 0 0 0 0 0 0 0 0 0\n",
            " 0 0 0 0 0 0 0 0 0 0 0 0 0 1 1 1 1 1 1 1 1 1 1 1 1 1 1 1 1 1 1 1 1 1 1 1 1\n",
            " 1 1 1 1 1 1 1 1 1 1 1 1 1 1 1 1 1 1 1 1 1 1 1 1 1 1 2 2 2 2 2 2 2 2 2 2 2\n",
            " 2 2 2 2 2 2 2 2 2 2 2 2 2 2 2 2 2 2 2 2 2 2 2 2 2 2 2 2 2 2 2 2 2 2 2 2 2\n",
            " 2 2]\n"
          ],
          "name": "stdout"
        }
      ]
    },
    {
      "cell_type": "code",
      "metadata": {
        "id": "8S6aR4nNNQxE",
        "colab_type": "code",
        "colab": {}
      },
      "source": [
        "# normalizing the values of X \n",
        "\n",
        "from sklearn.preprocessing import StandardScaler\n",
        "scaler = StandardScaler()\n",
        "x = scaler.fit_transform(X)"
      ],
      "execution_count": 0,
      "outputs": []
    },
    {
      "cell_type": "code",
      "metadata": {
        "id": "NdLbv_wLNwmP",
        "colab_type": "code",
        "colab": {}
      },
      "source": [
        "# One hot encoding of y classes i.e. 0 , 1 , 2 to their categories\n",
        "\n",
        "from keras.utils.np_utils import to_categorical\n",
        "y_categorical = to_categorical(y)"
      ],
      "execution_count": 0,
      "outputs": []
    },
    {
      "cell_type": "code",
      "metadata": {
        "id": "j-a5g5JjNWp-",
        "colab_type": "code",
        "colab": {}
      },
      "source": [
        "# splitting the dataset into training and testing datasets\n",
        "\n",
        "from sklearn.model_selection import train_test_split\n",
        "x_train, x_test, y_train, y_test = train_test_split(x, y_categorical, test_size = 0.3)"
      ],
      "execution_count": 0,
      "outputs": []
    },
    {
      "cell_type": "code",
      "metadata": {
        "id": "Jc8Auz3oOTTL",
        "colab_type": "code",
        "colab": {}
      },
      "source": [
        "# preparing the multi classification model\n",
        "\n",
        "from keras import models \n",
        "from keras import layers\n",
        "\n",
        "model = models.Sequential()\n",
        "model.add(layers.Dense(16, activation = 'relu'))\n",
        "model.add(layers.Dense(16, activation = 'relu'))\n",
        "model.add(layers.Dense(3, activation = 'softmax'))\n",
        "\n",
        "model.compile(optimizer = 'rmsprop', loss = 'categorical_crossentropy', metrics = ['accuracy'])\n"
      ],
      "execution_count": 0,
      "outputs": []
    },
    {
      "cell_type": "code",
      "metadata": {
        "id": "K3zGOdkgPFNF",
        "colab_type": "code",
        "outputId": "422ae598-5c40-47f1-c525-37e92abb3f98",
        "colab": {
          "base_uri": "https://localhost:8080/",
          "height": 1000
        }
      },
      "source": [
        "# training the dataset \n",
        "\n",
        "h = model.fit(x_train, y_train, epochs = 100, batch_size = 20, validation_data = (x_test, y_test))"
      ],
      "execution_count": 0,
      "outputs": [
        {
          "output_type": "stream",
          "text": [
            "Train on 105 samples, validate on 45 samples\n",
            "Epoch 1/100\n",
            "105/105 [==============================] - 0s 3ms/step - loss: 1.3559 - accuracy: 0.2667 - val_loss: 1.4007 - val_accuracy: 0.2444\n",
            "Epoch 2/100\n",
            "105/105 [==============================] - 0s 138us/step - loss: 1.2620 - accuracy: 0.3238 - val_loss: 1.3134 - val_accuracy: 0.2444\n",
            "Epoch 3/100\n",
            "105/105 [==============================] - 0s 130us/step - loss: 1.2001 - accuracy: 0.3429 - val_loss: 1.2515 - val_accuracy: 0.2444\n",
            "Epoch 4/100\n",
            "105/105 [==============================] - 0s 136us/step - loss: 1.1471 - accuracy: 0.3524 - val_loss: 1.1963 - val_accuracy: 0.2667\n",
            "Epoch 5/100\n",
            "105/105 [==============================] - 0s 131us/step - loss: 1.0969 - accuracy: 0.3524 - val_loss: 1.1314 - val_accuracy: 0.2667\n",
            "Epoch 6/100\n",
            "105/105 [==============================] - 0s 133us/step - loss: 1.0475 - accuracy: 0.3524 - val_loss: 1.0712 - val_accuracy: 0.2667\n",
            "Epoch 7/100\n",
            "105/105 [==============================] - 0s 169us/step - loss: 1.0031 - accuracy: 0.3905 - val_loss: 1.0229 - val_accuracy: 0.2889\n",
            "Epoch 8/100\n",
            "105/105 [==============================] - 0s 131us/step - loss: 0.9647 - accuracy: 0.4381 - val_loss: 0.9771 - val_accuracy: 0.3556\n",
            "Epoch 9/100\n",
            "105/105 [==============================] - 0s 124us/step - loss: 0.9267 - accuracy: 0.5333 - val_loss: 0.9308 - val_accuracy: 0.4667\n",
            "Epoch 10/100\n",
            "105/105 [==============================] - 0s 130us/step - loss: 0.8924 - accuracy: 0.6762 - val_loss: 0.8881 - val_accuracy: 0.5556\n",
            "Epoch 11/100\n",
            "105/105 [==============================] - 0s 120us/step - loss: 0.8575 - accuracy: 0.7810 - val_loss: 0.8484 - val_accuracy: 0.6889\n",
            "Epoch 12/100\n",
            "105/105 [==============================] - 0s 187us/step - loss: 0.8263 - accuracy: 0.8000 - val_loss: 0.8116 - val_accuracy: 0.6889\n",
            "Epoch 13/100\n",
            "105/105 [==============================] - 0s 137us/step - loss: 0.7949 - accuracy: 0.8286 - val_loss: 0.7729 - val_accuracy: 0.7333\n",
            "Epoch 14/100\n",
            "105/105 [==============================] - 0s 131us/step - loss: 0.7652 - accuracy: 0.8571 - val_loss: 0.7311 - val_accuracy: 0.7778\n",
            "Epoch 15/100\n",
            "105/105 [==============================] - 0s 122us/step - loss: 0.7361 - accuracy: 0.8571 - val_loss: 0.6987 - val_accuracy: 0.7778\n",
            "Epoch 16/100\n",
            "105/105 [==============================] - 0s 119us/step - loss: 0.7066 - accuracy: 0.8476 - val_loss: 0.6658 - val_accuracy: 0.7778\n",
            "Epoch 17/100\n",
            "105/105 [==============================] - 0s 122us/step - loss: 0.6788 - accuracy: 0.8381 - val_loss: 0.6455 - val_accuracy: 0.7778\n",
            "Epoch 18/100\n",
            "105/105 [==============================] - 0s 125us/step - loss: 0.6530 - accuracy: 0.8571 - val_loss: 0.6122 - val_accuracy: 0.7778\n",
            "Epoch 19/100\n",
            "105/105 [==============================] - 0s 154us/step - loss: 0.6273 - accuracy: 0.8476 - val_loss: 0.5781 - val_accuracy: 0.8222\n",
            "Epoch 20/100\n",
            "105/105 [==============================] - 0s 157us/step - loss: 0.6023 - accuracy: 0.8571 - val_loss: 0.5633 - val_accuracy: 0.8000\n",
            "Epoch 21/100\n",
            "105/105 [==============================] - 0s 127us/step - loss: 0.5809 - accuracy: 0.8571 - val_loss: 0.5348 - val_accuracy: 0.8222\n",
            "Epoch 22/100\n",
            "105/105 [==============================] - 0s 121us/step - loss: 0.5568 - accuracy: 0.8571 - val_loss: 0.5001 - val_accuracy: 0.8444\n",
            "Epoch 23/100\n",
            "105/105 [==============================] - 0s 124us/step - loss: 0.5339 - accuracy: 0.8762 - val_loss: 0.4897 - val_accuracy: 0.8222\n",
            "Epoch 24/100\n",
            "105/105 [==============================] - 0s 116us/step - loss: 0.5140 - accuracy: 0.8571 - val_loss: 0.4596 - val_accuracy: 0.8444\n",
            "Epoch 25/100\n",
            "105/105 [==============================] - 0s 121us/step - loss: 0.4925 - accuracy: 0.8762 - val_loss: 0.4403 - val_accuracy: 0.8889\n",
            "Epoch 26/100\n",
            "105/105 [==============================] - 0s 151us/step - loss: 0.4743 - accuracy: 0.8667 - val_loss: 0.4227 - val_accuracy: 0.8889\n",
            "Epoch 27/100\n",
            "105/105 [==============================] - 0s 133us/step - loss: 0.4554 - accuracy: 0.8762 - val_loss: 0.4027 - val_accuracy: 0.8889\n",
            "Epoch 28/100\n",
            "105/105 [==============================] - 0s 173us/step - loss: 0.4383 - accuracy: 0.8762 - val_loss: 0.3845 - val_accuracy: 0.8889\n",
            "Epoch 29/100\n",
            "105/105 [==============================] - 0s 151us/step - loss: 0.4210 - accuracy: 0.8762 - val_loss: 0.3724 - val_accuracy: 0.9111\n",
            "Epoch 30/100\n",
            "105/105 [==============================] - 0s 147us/step - loss: 0.4043 - accuracy: 0.8857 - val_loss: 0.3592 - val_accuracy: 0.9111\n",
            "Epoch 31/100\n",
            "105/105 [==============================] - 0s 147us/step - loss: 0.3911 - accuracy: 0.8762 - val_loss: 0.3508 - val_accuracy: 0.9111\n",
            "Epoch 32/100\n",
            "105/105 [==============================] - 0s 153us/step - loss: 0.3762 - accuracy: 0.8952 - val_loss: 0.3288 - val_accuracy: 0.9111\n",
            "Epoch 33/100\n",
            "105/105 [==============================] - 0s 137us/step - loss: 0.3622 - accuracy: 0.8952 - val_loss: 0.3106 - val_accuracy: 0.9333\n",
            "Epoch 34/100\n",
            "105/105 [==============================] - 0s 138us/step - loss: 0.3505 - accuracy: 0.8857 - val_loss: 0.2972 - val_accuracy: 0.9111\n",
            "Epoch 35/100\n",
            "105/105 [==============================] - 0s 114us/step - loss: 0.3383 - accuracy: 0.9048 - val_loss: 0.2813 - val_accuracy: 0.9111\n",
            "Epoch 36/100\n",
            "105/105 [==============================] - 0s 124us/step - loss: 0.3293 - accuracy: 0.8857 - val_loss: 0.2753 - val_accuracy: 0.9333\n",
            "Epoch 37/100\n",
            "105/105 [==============================] - 0s 126us/step - loss: 0.3184 - accuracy: 0.8952 - val_loss: 0.2712 - val_accuracy: 0.9111\n",
            "Epoch 38/100\n",
            "105/105 [==============================] - 0s 139us/step - loss: 0.3079 - accuracy: 0.9143 - val_loss: 0.2544 - val_accuracy: 0.9333\n",
            "Epoch 39/100\n",
            "105/105 [==============================] - 0s 139us/step - loss: 0.3009 - accuracy: 0.8952 - val_loss: 0.2569 - val_accuracy: 0.9556\n",
            "Epoch 40/100\n",
            "105/105 [==============================] - 0s 128us/step - loss: 0.2923 - accuracy: 0.9143 - val_loss: 0.2463 - val_accuracy: 0.9333\n",
            "Epoch 41/100\n",
            "105/105 [==============================] - 0s 135us/step - loss: 0.2858 - accuracy: 0.9238 - val_loss: 0.2406 - val_accuracy: 0.9333\n",
            "Epoch 42/100\n",
            "105/105 [==============================] - 0s 143us/step - loss: 0.2792 - accuracy: 0.9238 - val_loss: 0.2386 - val_accuracy: 0.9556\n",
            "Epoch 43/100\n",
            "105/105 [==============================] - 0s 140us/step - loss: 0.2734 - accuracy: 0.9238 - val_loss: 0.2385 - val_accuracy: 0.9556\n",
            "Epoch 44/100\n",
            "105/105 [==============================] - 0s 143us/step - loss: 0.2650 - accuracy: 0.9238 - val_loss: 0.2277 - val_accuracy: 0.9556\n",
            "Epoch 45/100\n",
            "105/105 [==============================] - 0s 121us/step - loss: 0.2594 - accuracy: 0.9333 - val_loss: 0.2141 - val_accuracy: 0.9333\n",
            "Epoch 46/100\n",
            "105/105 [==============================] - 0s 117us/step - loss: 0.2518 - accuracy: 0.9333 - val_loss: 0.2108 - val_accuracy: 0.9333\n",
            "Epoch 47/100\n",
            "105/105 [==============================] - 0s 117us/step - loss: 0.2458 - accuracy: 0.9333 - val_loss: 0.2029 - val_accuracy: 0.9333\n",
            "Epoch 48/100\n",
            "105/105 [==============================] - 0s 130us/step - loss: 0.2402 - accuracy: 0.9333 - val_loss: 0.2016 - val_accuracy: 0.9556\n",
            "Epoch 49/100\n",
            "105/105 [==============================] - 0s 123us/step - loss: 0.2362 - accuracy: 0.9333 - val_loss: 0.1929 - val_accuracy: 0.9556\n",
            "Epoch 50/100\n",
            "105/105 [==============================] - 0s 126us/step - loss: 0.2287 - accuracy: 0.9429 - val_loss: 0.1921 - val_accuracy: 0.9556\n",
            "Epoch 51/100\n",
            "105/105 [==============================] - 0s 186us/step - loss: 0.2232 - accuracy: 0.9429 - val_loss: 0.1891 - val_accuracy: 0.9556\n",
            "Epoch 52/100\n",
            "105/105 [==============================] - 0s 128us/step - loss: 0.2190 - accuracy: 0.9524 - val_loss: 0.1839 - val_accuracy: 0.9556\n",
            "Epoch 53/100\n",
            "105/105 [==============================] - 0s 135us/step - loss: 0.2145 - accuracy: 0.9429 - val_loss: 0.1768 - val_accuracy: 0.9556\n",
            "Epoch 54/100\n",
            "105/105 [==============================] - 0s 131us/step - loss: 0.2078 - accuracy: 0.9524 - val_loss: 0.1719 - val_accuracy: 0.9556\n",
            "Epoch 55/100\n",
            "105/105 [==============================] - 0s 129us/step - loss: 0.2041 - accuracy: 0.9524 - val_loss: 0.1646 - val_accuracy: 0.9556\n",
            "Epoch 56/100\n",
            "105/105 [==============================] - 0s 134us/step - loss: 0.1982 - accuracy: 0.9619 - val_loss: 0.1598 - val_accuracy: 0.9556\n",
            "Epoch 57/100\n",
            "105/105 [==============================] - 0s 140us/step - loss: 0.1944 - accuracy: 0.9524 - val_loss: 0.1559 - val_accuracy: 0.9556\n",
            "Epoch 58/100\n",
            "105/105 [==============================] - 0s 136us/step - loss: 0.1897 - accuracy: 0.9619 - val_loss: 0.1551 - val_accuracy: 0.9556\n",
            "Epoch 59/100\n",
            "105/105 [==============================] - 0s 141us/step - loss: 0.1837 - accuracy: 0.9619 - val_loss: 0.1487 - val_accuracy: 0.9556\n",
            "Epoch 60/100\n",
            "105/105 [==============================] - 0s 136us/step - loss: 0.1804 - accuracy: 0.9619 - val_loss: 0.1456 - val_accuracy: 0.9556\n",
            "Epoch 61/100\n",
            "105/105 [==============================] - 0s 120us/step - loss: 0.1757 - accuracy: 0.9714 - val_loss: 0.1441 - val_accuracy: 0.9556\n",
            "Epoch 62/100\n",
            "105/105 [==============================] - 0s 122us/step - loss: 0.1704 - accuracy: 0.9714 - val_loss: 0.1380 - val_accuracy: 0.9556\n",
            "Epoch 63/100\n",
            "105/105 [==============================] - 0s 138us/step - loss: 0.1672 - accuracy: 0.9619 - val_loss: 0.1350 - val_accuracy: 0.9556\n",
            "Epoch 64/100\n",
            "105/105 [==============================] - 0s 138us/step - loss: 0.1613 - accuracy: 0.9619 - val_loss: 0.1305 - val_accuracy: 0.9556\n",
            "Epoch 65/100\n",
            "105/105 [==============================] - 0s 152us/step - loss: 0.1571 - accuracy: 0.9714 - val_loss: 0.1265 - val_accuracy: 0.9556\n",
            "Epoch 66/100\n",
            "105/105 [==============================] - 0s 127us/step - loss: 0.1548 - accuracy: 0.9714 - val_loss: 0.1246 - val_accuracy: 0.9556\n",
            "Epoch 67/100\n",
            "105/105 [==============================] - 0s 145us/step - loss: 0.1514 - accuracy: 0.9714 - val_loss: 0.1220 - val_accuracy: 0.9556\n",
            "Epoch 68/100\n",
            "105/105 [==============================] - 0s 133us/step - loss: 0.1471 - accuracy: 0.9714 - val_loss: 0.1192 - val_accuracy: 0.9556\n",
            "Epoch 69/100\n",
            "105/105 [==============================] - 0s 122us/step - loss: 0.1444 - accuracy: 0.9714 - val_loss: 0.1162 - val_accuracy: 0.9556\n",
            "Epoch 70/100\n",
            "105/105 [==============================] - 0s 152us/step - loss: 0.1402 - accuracy: 0.9714 - val_loss: 0.1134 - val_accuracy: 0.9556\n",
            "Epoch 71/100\n",
            "105/105 [==============================] - 0s 121us/step - loss: 0.1379 - accuracy: 0.9810 - val_loss: 0.1118 - val_accuracy: 0.9556\n",
            "Epoch 72/100\n",
            "105/105 [==============================] - 0s 119us/step - loss: 0.1357 - accuracy: 0.9810 - val_loss: 0.1083 - val_accuracy: 0.9556\n",
            "Epoch 73/100\n",
            "105/105 [==============================] - 0s 133us/step - loss: 0.1311 - accuracy: 0.9810 - val_loss: 0.1065 - val_accuracy: 0.9556\n",
            "Epoch 74/100\n",
            "105/105 [==============================] - 0s 144us/step - loss: 0.1286 - accuracy: 0.9810 - val_loss: 0.1050 - val_accuracy: 0.9556\n",
            "Epoch 75/100\n",
            "105/105 [==============================] - 0s 140us/step - loss: 0.1261 - accuracy: 0.9905 - val_loss: 0.1013 - val_accuracy: 0.9556\n",
            "Epoch 76/100\n",
            "105/105 [==============================] - 0s 152us/step - loss: 0.1233 - accuracy: 0.9810 - val_loss: 0.0988 - val_accuracy: 0.9556\n",
            "Epoch 77/100\n",
            "105/105 [==============================] - 0s 168us/step - loss: 0.1217 - accuracy: 0.9619 - val_loss: 0.0974 - val_accuracy: 0.9556\n",
            "Epoch 78/100\n",
            "105/105 [==============================] - 0s 132us/step - loss: 0.1175 - accuracy: 0.9714 - val_loss: 0.0966 - val_accuracy: 0.9556\n",
            "Epoch 79/100\n",
            "105/105 [==============================] - 0s 125us/step - loss: 0.1142 - accuracy: 0.9905 - val_loss: 0.0933 - val_accuracy: 0.9556\n",
            "Epoch 80/100\n",
            "105/105 [==============================] - 0s 130us/step - loss: 0.1114 - accuracy: 0.9905 - val_loss: 0.0916 - val_accuracy: 0.9556\n",
            "Epoch 81/100\n",
            "105/105 [==============================] - 0s 128us/step - loss: 0.1095 - accuracy: 0.9810 - val_loss: 0.0899 - val_accuracy: 0.9556\n",
            "Epoch 82/100\n",
            "105/105 [==============================] - 0s 132us/step - loss: 0.1069 - accuracy: 0.9810 - val_loss: 0.0868 - val_accuracy: 0.9556\n",
            "Epoch 83/100\n",
            "105/105 [==============================] - 0s 134us/step - loss: 0.1038 - accuracy: 0.9810 - val_loss: 0.0851 - val_accuracy: 0.9556\n",
            "Epoch 84/100\n",
            "105/105 [==============================] - 0s 125us/step - loss: 0.1022 - accuracy: 0.9714 - val_loss: 0.0867 - val_accuracy: 0.9556\n",
            "Epoch 85/100\n",
            "105/105 [==============================] - 0s 121us/step - loss: 0.1009 - accuracy: 0.9905 - val_loss: 0.0855 - val_accuracy: 0.9556\n",
            "Epoch 86/100\n",
            "105/105 [==============================] - 0s 126us/step - loss: 0.0972 - accuracy: 0.9905 - val_loss: 0.0846 - val_accuracy: 0.9556\n",
            "Epoch 87/100\n",
            "105/105 [==============================] - 0s 120us/step - loss: 0.0954 - accuracy: 0.9905 - val_loss: 0.0823 - val_accuracy: 0.9556\n",
            "Epoch 88/100\n",
            "105/105 [==============================] - 0s 124us/step - loss: 0.0930 - accuracy: 0.9905 - val_loss: 0.0824 - val_accuracy: 0.9556\n",
            "Epoch 89/100\n",
            "105/105 [==============================] - 0s 129us/step - loss: 0.0911 - accuracy: 0.9810 - val_loss: 0.0786 - val_accuracy: 0.9556\n",
            "Epoch 90/100\n",
            "105/105 [==============================] - 0s 118us/step - loss: 0.0883 - accuracy: 0.9905 - val_loss: 0.0790 - val_accuracy: 0.9556\n",
            "Epoch 91/100\n",
            "105/105 [==============================] - 0s 122us/step - loss: 0.0871 - accuracy: 0.9810 - val_loss: 0.0768 - val_accuracy: 0.9556\n",
            "Epoch 92/100\n",
            "105/105 [==============================] - 0s 136us/step - loss: 0.0847 - accuracy: 0.9905 - val_loss: 0.0744 - val_accuracy: 0.9556\n",
            "Epoch 93/100\n",
            "105/105 [==============================] - 0s 147us/step - loss: 0.0837 - accuracy: 0.9905 - val_loss: 0.0791 - val_accuracy: 0.9556\n",
            "Epoch 94/100\n",
            "105/105 [==============================] - 0s 125us/step - loss: 0.0816 - accuracy: 0.9810 - val_loss: 0.0740 - val_accuracy: 0.9556\n",
            "Epoch 95/100\n",
            "105/105 [==============================] - 0s 137us/step - loss: 0.0814 - accuracy: 0.9810 - val_loss: 0.0740 - val_accuracy: 0.9556\n",
            "Epoch 96/100\n",
            "105/105 [==============================] - 0s 131us/step - loss: 0.0791 - accuracy: 0.9905 - val_loss: 0.0789 - val_accuracy: 0.9556\n",
            "Epoch 97/100\n",
            "105/105 [==============================] - 0s 123us/step - loss: 0.0784 - accuracy: 0.9810 - val_loss: 0.0745 - val_accuracy: 0.9556\n",
            "Epoch 98/100\n",
            "105/105 [==============================] - 0s 138us/step - loss: 0.0756 - accuracy: 0.9905 - val_loss: 0.0732 - val_accuracy: 0.9556\n",
            "Epoch 99/100\n",
            "105/105 [==============================] - 0s 122us/step - loss: 0.0764 - accuracy: 0.9905 - val_loss: 0.0720 - val_accuracy: 0.9556\n",
            "Epoch 100/100\n",
            "105/105 [==============================] - 0s 119us/step - loss: 0.0738 - accuracy: 0.9905 - val_loss: 0.0693 - val_accuracy: 0.9556\n"
          ],
          "name": "stdout"
        }
      ]
    },
    {
      "cell_type": "code",
      "metadata": {
        "id": "Q4zOwtOER1AH",
        "colab_type": "code",
        "colab": {}
      },
      "source": [
        "# making predictions on the testing data\n",
        "\n",
        "predictions = model.predict(x_test)\n",
        "print(predictions)"
      ],
      "execution_count": 0,
      "outputs": []
    },
    {
      "cell_type": "code",
      "metadata": {
        "id": "RCmOVejasz5w",
        "colab_type": "code",
        "outputId": "4d0137cd-8095-4789-f837-a892429dcbde",
        "colab": {
          "base_uri": "https://localhost:8080/",
          "height": 295
        }
      },
      "source": [
        "# plotting loss\n",
        "\n",
        "import matplotlib.pyplot as plt\n",
        "\n",
        "history_dict =  h.history\n",
        "\n",
        "train_loss = history_dict['loss']\n",
        "test_loss = history_dict['val_loss']\n",
        "\n",
        "epochs = range(1, len(history_dict['accuracy'])+1)\n",
        "\n",
        "plt.plot(epochs, train_loss, 'bo', label = 'Training loss')\n",
        "plt.plot(epochs, test_loss, 'ro', label = 'Test loss')\n",
        "plt.title('Training and Test loss')\n",
        "plt.xlabel('Epochs')\n",
        "plt.ylabel('Loss')\n",
        "plt.legend()\n",
        "\n",
        "plt.show()"
      ],
      "execution_count": 0,
      "outputs": [
        {
          "output_type": "display_data",
          "data": {
            "image/png": "[encoded data removed]",
            "text/plain": [
              "<Figure size 432x288 with 1 Axes>"
            ]
          },
          "metadata": {
            "tags": [],
            "needs_background": "light"
          }
        }
      ]
    },
    {
      "cell_type": "code",
      "metadata": {
        "id": "UDsupLC2usxX",
        "colab_type": "code",
        "outputId": "56a23c13-d469-4290-ce10-2d2995b83c7c",
        "colab": {
          "base_uri": "https://localhost:8080/",
          "height": 295
        }
      },
      "source": [
        "# plotting accuracy\n",
        "\n",
        "history_dict =  h.history\n",
        "\n",
        "train_loss = history_dict['accuracy']\n",
        "test_loss = history_dict['val_accuracy']\n",
        "\n",
        "epochs = range(1, len(history_dict['accuracy'])+1)\n",
        "\n",
        "plt.plot(epochs, train_loss, 'bo', label = 'Training accuracy')\n",
        "plt.plot(epochs, test_loss, 'ro', label = 'Test accuracy')\n",
        "plt.title('Training and Test accuracy')\n",
        "plt.xlabel('Epochs')\n",
        "plt.ylabel('accuracy')\n",
        "plt.legend()\n",
        "\n",
        "plt.show()"
      ],
      "execution_count": 0,
      "outputs": [
        {
          "output_type": "display_data",
          "data": {
            "image/png": "[encoded data removed]",
            "text/plain": [
              "<Figure size 432x288 with 1 Axes>"
            ]
          },
          "metadata": {
            "tags": [],
            "needs_background": "light"
          }
        }
      ]
    },
    {
      "cell_type": "code",
      "metadata": {
        "id": "JoLdmmu1vLom",
        "colab_type": "code",
        "colab": {}
      },
      "source": [
        ""
      ],
      "execution_count": 0,
      "outputs": []
    }
  ]
}