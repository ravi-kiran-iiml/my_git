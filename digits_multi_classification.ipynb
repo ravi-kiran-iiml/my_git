{
  "nbformat": 4,
  "nbformat_minor": 0,
  "metadata": {
    "colab": {
      "name": "digits_multi_classification.ipynb",
      "provenance": [],
      "authorship_tag": "ABX9TyMCupGViZyyU61yd5cAeWt5",
      "include_colab_link": true
    },
    "kernelspec": {
      "name": "python3",
      "display_name": "Python 3"
    }
  },
  "cells": [
    {
      "cell_type": "markdown",
      "metadata": {
        "id": "view-in-github",
        "colab_type": "text"
      },
      "source": [
        "<a href=\"https://colab.research.google.com/github/ravikiraniitm17/my_git/blob/master/digits_multi_classification.ipynb\" target=\"_parent\"><img src=\"https://colab.research.google.com/assets/colab-badge.svg\" alt=\"Open In Colab\"/></a>"
      ]
    },
    {
      "cell_type": "code",
      "metadata": {
        "id": "iFAgJujZUa8c",
        "colab_type": "code",
        "colab": {}
      },
      "source": [
        "import pandas as pd\n",
        "import numpy as np\n",
        "import sklearn"
      ],
      "execution_count": 0,
      "outputs": []
    },
    {
      "cell_type": "code",
      "metadata": {
        "id": "eHOti5maWbiB",
        "colab_type": "code",
        "outputId": "6d2e150a-5787-4ecd-a52f-db6cf0619c60",
        "colab": {
          "base_uri": "https://localhost:8080/",
          "height": 139
        }
      },
      "source": [
        "\"\"\"\n",
        "Here, each X row is a 8 x 8 image i.e. 64 units representing an image of a digit from (0 to 9)\n",
        "Hence, X values are the values in the 64 unit matrix while the y is the label of the digit in the image\n",
        "\"\"\"\n",
        "\n",
        "from sklearn.datasets import load_digits\n",
        "digits = load_digits()\n",
        "X= digits.data # .data for X values\n",
        "y = digits.target # .target for labels\n",
        "print(X.shape)\n",
        "print(y.shape)\n",
        "print(X[0])\n",
        "print(y)"
      ],
      "execution_count": 0,
      "outputs": [
        {
          "output_type": "stream",
          "text": [
            "(1797, 64)\n",
            "(1797,)\n",
            "[ 0.  0.  5. 13.  9.  1.  0.  0.  0.  0. 13. 15. 10. 15.  5.  0.  0.  3.\n",
            " 15.  2.  0. 11.  8.  0.  0.  4. 12.  0.  0.  8.  8.  0.  0.  5.  8.  0.\n",
            "  0.  9.  8.  0.  0.  4. 11.  0.  1. 12.  7.  0.  0.  2. 14.  5. 10. 12.\n",
            "  0.  0.  0.  0.  6. 13. 10.  0.  0.  0.]\n",
            "[0 1 2 ... 8 9 8]\n"
          ],
          "name": "stdout"
        }
      ]
    },
    {
      "cell_type": "code",
      "metadata": {
        "id": "0jcsDEOiXtBE",
        "colab_type": "code",
        "colab": {}
      },
      "source": [
        "# data normalization\n",
        "\n",
        "from sklearn.preprocessing import StandardScaler\n",
        "scaler = StandardScaler()\n",
        "x = scaler.fit_transform(X)"
      ],
      "execution_count": 0,
      "outputs": []
    },
    {
      "cell_type": "code",
      "metadata": {
        "id": "5PYBOfQ4ZgE-",
        "colab_type": "code",
        "outputId": "8e76727e-73f9-4ed4-d112-0c311e28587d",
        "colab": {
          "base_uri": "https://localhost:8080/",
          "height": 35
        }
      },
      "source": [
        "# label one hot encoding\n",
        "\n",
        "from keras.utils.np_utils import to_categorical\n",
        "y_categorical = to_categorical(y)"
      ],
      "execution_count": 0,
      "outputs": [
        {
          "output_type": "stream",
          "text": [
            "Using TensorFlow backend.\n"
          ],
          "name": "stderr"
        }
      ]
    },
    {
      "cell_type": "code",
      "metadata": {
        "id": "FeTmRbsvaKwS",
        "colab_type": "code",
        "colab": {}
      },
      "source": [
        "# train test split \n",
        "\n",
        "from sklearn.model_selection import train_test_split\n",
        "x_train, x_test, y_train, y_test = train_test_split(x, y_categorical, test_size = 0.4)"
      ],
      "execution_count": 0,
      "outputs": []
    },
    {
      "cell_type": "code",
      "metadata": {
        "id": "2BfzM8E4ZckA",
        "colab_type": "code",
        "colab": {}
      },
      "source": [
        "# creating the model\n",
        "\n",
        "from keras import models\n",
        "from keras import layers\n",
        "\n",
        "model = models.Sequential()\n",
        "model.add(layers.Dense(64, activation='relu'))\n",
        "model.add(layers.Dense(64, activation='relu'))\n",
        "model.add(layers.Dense(10, activation='softmax'))\n",
        "\n",
        "model.compile(optimizer='rmsprop',loss='categorical_crossentropy',metrics=['accuracy'])"
      ],
      "execution_count": 0,
      "outputs": []
    },
    {
      "cell_type": "code",
      "metadata": {
        "id": "VQj8w5AEZ-Xu",
        "colab_type": "code",
        "outputId": "f239c145-f1eb-4b40-cfb2-6a999197757c",
        "colab": {
          "base_uri": "https://localhost:8080/",
          "height": 1000
        }
      },
      "source": [
        "# training the data\n",
        "\n",
        "h = model.fit(x_train, y_train, epochs = 100, batch_size = 50, validation_data = (x_test, y_test))\n"
      ],
      "execution_count": 0,
      "outputs": [
        {
          "output_type": "stream",
          "text": [
            "Train on 1078 samples, validate on 719 samples\n",
            "Epoch 1/100\n",
            "1078/1078 [==============================] - 0s 278us/step - loss: 1.8926 - accuracy: 0.4174 - val_loss: 1.3715 - val_accuracy: 0.7441\n",
            "Epoch 2/100\n",
            "1078/1078 [==============================] - 0s 39us/step - loss: 1.0784 - accuracy: 0.8145 - val_loss: 0.7729 - val_accuracy: 0.8651\n",
            "Epoch 3/100\n",
            "1078/1078 [==============================] - 0s 38us/step - loss: 0.6143 - accuracy: 0.8924 - val_loss: 0.4544 - val_accuracy: 0.9138\n",
            "Epoch 4/100\n",
            "1078/1078 [==============================] - 0s 37us/step - loss: 0.3653 - accuracy: 0.9323 - val_loss: 0.2948 - val_accuracy: 0.9402\n",
            "Epoch 5/100\n",
            "1078/1078 [==============================] - 0s 38us/step - loss: 0.2372 - accuracy: 0.9545 - val_loss: 0.2159 - val_accuracy: 0.9583\n",
            "Epoch 6/100\n",
            "1078/1078 [==============================] - 0s 37us/step - loss: 0.1637 - accuracy: 0.9666 - val_loss: 0.1788 - val_accuracy: 0.9624\n",
            "Epoch 7/100\n",
            "1078/1078 [==============================] - 0s 40us/step - loss: 0.1176 - accuracy: 0.9805 - val_loss: 0.1490 - val_accuracy: 0.9666\n",
            "Epoch 8/100\n",
            "1078/1078 [==============================] - 0s 37us/step - loss: 0.0878 - accuracy: 0.9861 - val_loss: 0.1432 - val_accuracy: 0.9680\n",
            "Epoch 9/100\n",
            "1078/1078 [==============================] - 0s 40us/step - loss: 0.0677 - accuracy: 0.9879 - val_loss: 0.1260 - val_accuracy: 0.9694\n",
            "Epoch 10/100\n",
            "1078/1078 [==============================] - 0s 38us/step - loss: 0.0521 - accuracy: 0.9926 - val_loss: 0.1179 - val_accuracy: 0.9708\n",
            "Epoch 11/100\n",
            "1078/1078 [==============================] - 0s 37us/step - loss: 0.0390 - accuracy: 0.9954 - val_loss: 0.1091 - val_accuracy: 0.9736\n",
            "Epoch 12/100\n",
            "1078/1078 [==============================] - 0s 46us/step - loss: 0.0295 - accuracy: 0.9963 - val_loss: 0.1131 - val_accuracy: 0.9680\n",
            "Epoch 13/100\n",
            "1078/1078 [==============================] - 0s 39us/step - loss: 0.0226 - accuracy: 0.9981 - val_loss: 0.1029 - val_accuracy: 0.9708\n",
            "Epoch 14/100\n",
            "1078/1078 [==============================] - 0s 39us/step - loss: 0.0163 - accuracy: 1.0000 - val_loss: 0.0984 - val_accuracy: 0.9777\n",
            "Epoch 15/100\n",
            "1078/1078 [==============================] - 0s 38us/step - loss: 0.0123 - accuracy: 1.0000 - val_loss: 0.0978 - val_accuracy: 0.9764\n",
            "Epoch 16/100\n",
            "1078/1078 [==============================] - 0s 39us/step - loss: 0.0091 - accuracy: 1.0000 - val_loss: 0.0950 - val_accuracy: 0.9750\n",
            "Epoch 17/100\n",
            "1078/1078 [==============================] - 0s 40us/step - loss: 0.0065 - accuracy: 1.0000 - val_loss: 0.0937 - val_accuracy: 0.9750\n",
            "Epoch 18/100\n",
            "1078/1078 [==============================] - 0s 39us/step - loss: 0.0047 - accuracy: 1.0000 - val_loss: 0.0925 - val_accuracy: 0.9791\n",
            "Epoch 19/100\n",
            "1078/1078 [==============================] - 0s 39us/step - loss: 0.0032 - accuracy: 1.0000 - val_loss: 0.0942 - val_accuracy: 0.9750\n",
            "Epoch 20/100\n",
            "1078/1078 [==============================] - 0s 38us/step - loss: 0.0024 - accuracy: 1.0000 - val_loss: 0.0969 - val_accuracy: 0.9736\n",
            "Epoch 21/100\n",
            "1078/1078 [==============================] - 0s 39us/step - loss: 0.0019 - accuracy: 1.0000 - val_loss: 0.0980 - val_accuracy: 0.9722\n",
            "Epoch 22/100\n",
            "1078/1078 [==============================] - 0s 42us/step - loss: 0.0012 - accuracy: 1.0000 - val_loss: 0.0990 - val_accuracy: 0.9764\n",
            "Epoch 23/100\n",
            "1078/1078 [==============================] - 0s 60us/step - loss: 8.5661e-04 - accuracy: 1.0000 - val_loss: 0.1076 - val_accuracy: 0.9722\n",
            "Epoch 24/100\n",
            "1078/1078 [==============================] - 0s 44us/step - loss: 6.3958e-04 - accuracy: 1.0000 - val_loss: 0.1027 - val_accuracy: 0.9750\n",
            "Epoch 25/100\n",
            "1078/1078 [==============================] - 0s 40us/step - loss: 4.0368e-04 - accuracy: 1.0000 - val_loss: 0.1059 - val_accuracy: 0.9764\n",
            "Epoch 26/100\n",
            "1078/1078 [==============================] - 0s 38us/step - loss: 2.8433e-04 - accuracy: 1.0000 - val_loss: 0.1123 - val_accuracy: 0.9722\n",
            "Epoch 27/100\n",
            "1078/1078 [==============================] - 0s 39us/step - loss: 1.8376e-04 - accuracy: 1.0000 - val_loss: 0.1048 - val_accuracy: 0.9736\n",
            "Epoch 28/100\n",
            "1078/1078 [==============================] - 0s 38us/step - loss: 1.3385e-04 - accuracy: 1.0000 - val_loss: 0.1101 - val_accuracy: 0.9764\n",
            "Epoch 29/100\n",
            "1078/1078 [==============================] - 0s 39us/step - loss: 8.8837e-05 - accuracy: 1.0000 - val_loss: 0.1094 - val_accuracy: 0.9764\n",
            "Epoch 30/100\n",
            "1078/1078 [==============================] - 0s 39us/step - loss: 5.5918e-05 - accuracy: 1.0000 - val_loss: 0.1152 - val_accuracy: 0.9750\n",
            "Epoch 31/100\n",
            "1078/1078 [==============================] - 0s 40us/step - loss: 3.7163e-05 - accuracy: 1.0000 - val_loss: 0.1259 - val_accuracy: 0.9722\n",
            "Epoch 32/100\n",
            "1078/1078 [==============================] - 0s 39us/step - loss: 2.6246e-05 - accuracy: 1.0000 - val_loss: 0.1282 - val_accuracy: 0.9750\n",
            "Epoch 33/100\n",
            "1078/1078 [==============================] - 0s 38us/step - loss: 1.4834e-05 - accuracy: 1.0000 - val_loss: 0.1360 - val_accuracy: 0.9736\n",
            "Epoch 34/100\n",
            "1078/1078 [==============================] - 0s 40us/step - loss: 1.3994e-05 - accuracy: 1.0000 - val_loss: 0.1213 - val_accuracy: 0.9764\n",
            "Epoch 35/100\n",
            "1078/1078 [==============================] - 0s 40us/step - loss: 6.3886e-06 - accuracy: 1.0000 - val_loss: 0.1307 - val_accuracy: 0.9722\n",
            "Epoch 36/100\n",
            "1078/1078 [==============================] - 0s 40us/step - loss: 4.6545e-06 - accuracy: 1.0000 - val_loss: 0.1275 - val_accuracy: 0.9750\n",
            "Epoch 37/100\n",
            "1078/1078 [==============================] - 0s 39us/step - loss: 3.1349e-06 - accuracy: 1.0000 - val_loss: 0.1391 - val_accuracy: 0.9750\n",
            "Epoch 38/100\n",
            "1078/1078 [==============================] - 0s 39us/step - loss: 2.0459e-06 - accuracy: 1.0000 - val_loss: 0.1357 - val_accuracy: 0.9764\n",
            "Epoch 39/100\n",
            "1078/1078 [==============================] - 0s 39us/step - loss: 1.4930e-06 - accuracy: 1.0000 - val_loss: 0.1391 - val_accuracy: 0.9750\n",
            "Epoch 40/100\n",
            "1078/1078 [==============================] - 0s 39us/step - loss: 8.7129e-07 - accuracy: 1.0000 - val_loss: 0.1364 - val_accuracy: 0.9764\n",
            "Epoch 41/100\n",
            "1078/1078 [==============================] - 0s 37us/step - loss: 5.8067e-07 - accuracy: 1.0000 - val_loss: 0.1426 - val_accuracy: 0.9736\n",
            "Epoch 42/100\n",
            "1078/1078 [==============================] - 0s 39us/step - loss: 4.0042e-07 - accuracy: 1.0000 - val_loss: 0.1426 - val_accuracy: 0.9750\n",
            "Epoch 43/100\n",
            "1078/1078 [==============================] - 0s 37us/step - loss: 2.8685e-07 - accuracy: 1.0000 - val_loss: 0.1470 - val_accuracy: 0.9764\n",
            "Epoch 44/100\n",
            "1078/1078 [==============================] - 0s 39us/step - loss: 1.9850e-07 - accuracy: 1.0000 - val_loss: 0.1480 - val_accuracy: 0.9750\n",
            "Epoch 45/100\n",
            "1078/1078 [==============================] - 0s 39us/step - loss: 1.5073e-07 - accuracy: 1.0000 - val_loss: 0.1480 - val_accuracy: 0.9750\n",
            "Epoch 46/100\n",
            "1078/1078 [==============================] - 0s 40us/step - loss: 1.1501e-07 - accuracy: 1.0000 - val_loss: 0.1502 - val_accuracy: 0.9777\n",
            "Epoch 47/100\n",
            "1078/1078 [==============================] - 0s 40us/step - loss: 9.0789e-08 - accuracy: 1.0000 - val_loss: 0.1501 - val_accuracy: 0.9750\n",
            "Epoch 48/100\n",
            "1078/1078 [==============================] - 0s 39us/step - loss: 7.6635e-08 - accuracy: 1.0000 - val_loss: 0.1532 - val_accuracy: 0.9750\n",
            "Epoch 49/100\n",
            "1078/1078 [==============================] - 0s 39us/step - loss: 6.2148e-08 - accuracy: 1.0000 - val_loss: 0.1528 - val_accuracy: 0.9764\n",
            "Epoch 50/100\n",
            "1078/1078 [==============================] - 0s 37us/step - loss: 5.5734e-08 - accuracy: 1.0000 - val_loss: 0.1524 - val_accuracy: 0.9777\n",
            "Epoch 51/100\n",
            "1078/1078 [==============================] - 0s 38us/step - loss: 4.7993e-08 - accuracy: 1.0000 - val_loss: 0.1547 - val_accuracy: 0.9764\n",
            "Epoch 52/100\n",
            "1078/1078 [==============================] - 0s 41us/step - loss: 4.1137e-08 - accuracy: 1.0000 - val_loss: 0.1535 - val_accuracy: 0.9777\n",
            "Epoch 53/100\n",
            "1078/1078 [==============================] - 0s 39us/step - loss: 3.6161e-08 - accuracy: 1.0000 - val_loss: 0.1552 - val_accuracy: 0.9764\n",
            "Epoch 54/100\n",
            "1078/1078 [==============================] - 0s 39us/step - loss: 3.2622e-08 - accuracy: 1.0000 - val_loss: 0.1561 - val_accuracy: 0.9764\n",
            "Epoch 55/100\n",
            "1078/1078 [==============================] - 0s 37us/step - loss: 2.9858e-08 - accuracy: 1.0000 - val_loss: 0.1555 - val_accuracy: 0.9777\n",
            "Epoch 56/100\n",
            "1078/1078 [==============================] - 0s 39us/step - loss: 2.7425e-08 - accuracy: 1.0000 - val_loss: 0.1571 - val_accuracy: 0.9764\n",
            "Epoch 57/100\n",
            "1078/1078 [==============================] - 0s 38us/step - loss: 2.5655e-08 - accuracy: 1.0000 - val_loss: 0.1571 - val_accuracy: 0.9764\n",
            "Epoch 58/100\n",
            "1078/1078 [==============================] - 0s 37us/step - loss: 2.3776e-08 - accuracy: 1.0000 - val_loss: 0.1579 - val_accuracy: 0.9750\n",
            "Epoch 59/100\n",
            "1078/1078 [==============================] - 0s 39us/step - loss: 2.2006e-08 - accuracy: 1.0000 - val_loss: 0.1575 - val_accuracy: 0.9764\n",
            "Epoch 60/100\n",
            "1078/1078 [==============================] - 0s 39us/step - loss: 1.9573e-08 - accuracy: 1.0000 - val_loss: 0.1586 - val_accuracy: 0.9777\n",
            "Epoch 61/100\n",
            "1078/1078 [==============================] - 0s 39us/step - loss: 1.8357e-08 - accuracy: 1.0000 - val_loss: 0.1592 - val_accuracy: 0.9764\n",
            "Epoch 62/100\n",
            "1078/1078 [==============================] - 0s 38us/step - loss: 1.8025e-08 - accuracy: 1.0000 - val_loss: 0.1588 - val_accuracy: 0.9764\n",
            "Epoch 63/100\n",
            "1078/1078 [==============================] - 0s 38us/step - loss: 1.6145e-08 - accuracy: 1.0000 - val_loss: 0.1586 - val_accuracy: 0.9777\n",
            "Epoch 64/100\n",
            "1078/1078 [==============================] - 0s 36us/step - loss: 1.5150e-08 - accuracy: 1.0000 - val_loss: 0.1587 - val_accuracy: 0.9777\n",
            "Epoch 65/100\n",
            "1078/1078 [==============================] - 0s 37us/step - loss: 1.4597e-08 - accuracy: 1.0000 - val_loss: 0.1601 - val_accuracy: 0.9764\n",
            "Epoch 66/100\n",
            "1078/1078 [==============================] - 0s 37us/step - loss: 1.2938e-08 - accuracy: 1.0000 - val_loss: 0.1601 - val_accuracy: 0.9764\n",
            "Epoch 67/100\n",
            "1078/1078 [==============================] - 0s 39us/step - loss: 1.2275e-08 - accuracy: 1.0000 - val_loss: 0.1598 - val_accuracy: 0.9764\n",
            "Epoch 68/100\n",
            "1078/1078 [==============================] - 0s 37us/step - loss: 1.1832e-08 - accuracy: 1.0000 - val_loss: 0.1600 - val_accuracy: 0.9777\n",
            "Epoch 69/100\n",
            "1078/1078 [==============================] - 0s 42us/step - loss: 1.1722e-08 - accuracy: 1.0000 - val_loss: 0.1600 - val_accuracy: 0.9764\n",
            "Epoch 70/100\n",
            "1078/1078 [==============================] - 0s 44us/step - loss: 1.0727e-08 - accuracy: 1.0000 - val_loss: 0.1597 - val_accuracy: 0.9764\n",
            "Epoch 71/100\n",
            "1078/1078 [==============================] - 0s 38us/step - loss: 1.0837e-08 - accuracy: 1.0000 - val_loss: 0.1605 - val_accuracy: 0.9750\n",
            "Epoch 72/100\n",
            "1078/1078 [==============================] - 0s 37us/step - loss: 1.0174e-08 - accuracy: 1.0000 - val_loss: 0.1605 - val_accuracy: 0.9750\n",
            "Epoch 73/100\n",
            "1078/1078 [==============================] - 0s 39us/step - loss: 9.8420e-09 - accuracy: 1.0000 - val_loss: 0.1607 - val_accuracy: 0.9764\n",
            "Epoch 74/100\n",
            "1078/1078 [==============================] - 0s 38us/step - loss: 9.0679e-09 - accuracy: 1.0000 - val_loss: 0.1609 - val_accuracy: 0.9764\n",
            "Epoch 75/100\n",
            "1078/1078 [==============================] - 0s 38us/step - loss: 8.8467e-09 - accuracy: 1.0000 - val_loss: 0.1606 - val_accuracy: 0.9764\n",
            "Epoch 76/100\n",
            "1078/1078 [==============================] - 0s 38us/step - loss: 8.8467e-09 - accuracy: 1.0000 - val_loss: 0.1610 - val_accuracy: 0.9777\n",
            "Epoch 77/100\n",
            "1078/1078 [==============================] - 0s 38us/step - loss: 8.0726e-09 - accuracy: 1.0000 - val_loss: 0.1608 - val_accuracy: 0.9777\n",
            "Epoch 78/100\n",
            "1078/1078 [==============================] - 0s 40us/step - loss: 8.0726e-09 - accuracy: 1.0000 - val_loss: 0.1607 - val_accuracy: 0.9777\n",
            "Epoch 79/100\n",
            "1078/1078 [==============================] - 0s 37us/step - loss: 6.9668e-09 - accuracy: 1.0000 - val_loss: 0.1609 - val_accuracy: 0.9777\n",
            "Epoch 80/100\n",
            "1078/1078 [==============================] - 0s 40us/step - loss: 7.9620e-09 - accuracy: 1.0000 - val_loss: 0.1615 - val_accuracy: 0.9777\n",
            "Epoch 81/100\n",
            "1078/1078 [==============================] - 0s 38us/step - loss: 7.1879e-09 - accuracy: 1.0000 - val_loss: 0.1614 - val_accuracy: 0.9777\n",
            "Epoch 82/100\n",
            "1078/1078 [==============================] - 0s 38us/step - loss: 6.8562e-09 - accuracy: 1.0000 - val_loss: 0.1615 - val_accuracy: 0.9777\n",
            "Epoch 83/100\n",
            "1078/1078 [==============================] - 0s 38us/step - loss: 6.4139e-09 - accuracy: 1.0000 - val_loss: 0.1623 - val_accuracy: 0.9764\n",
            "Epoch 84/100\n",
            "1078/1078 [==============================] - 0s 37us/step - loss: 6.4139e-09 - accuracy: 1.0000 - val_loss: 0.1619 - val_accuracy: 0.9764\n",
            "Epoch 85/100\n",
            "1078/1078 [==============================] - 0s 40us/step - loss: 6.0821e-09 - accuracy: 1.0000 - val_loss: 0.1619 - val_accuracy: 0.9764\n",
            "Epoch 86/100\n",
            "1078/1078 [==============================] - 0s 37us/step - loss: 5.8609e-09 - accuracy: 1.0000 - val_loss: 0.1621 - val_accuracy: 0.9777\n",
            "Epoch 87/100\n",
            "1078/1078 [==============================] - 0s 40us/step - loss: 5.3080e-09 - accuracy: 1.0000 - val_loss: 0.1622 - val_accuracy: 0.9764\n",
            "Epoch 88/100\n",
            "1078/1078 [==============================] - 0s 40us/step - loss: 4.9763e-09 - accuracy: 1.0000 - val_loss: 0.1626 - val_accuracy: 0.9764\n",
            "Epoch 89/100\n",
            "1078/1078 [==============================] - 0s 39us/step - loss: 5.5292e-09 - accuracy: 1.0000 - val_loss: 0.1621 - val_accuracy: 0.9764\n",
            "Epoch 90/100\n",
            "1078/1078 [==============================] - 0s 40us/step - loss: 4.3128e-09 - accuracy: 1.0000 - val_loss: 0.1625 - val_accuracy: 0.9764\n",
            "Epoch 91/100\n",
            "1078/1078 [==============================] - 0s 38us/step - loss: 4.6445e-09 - accuracy: 1.0000 - val_loss: 0.1627 - val_accuracy: 0.9764\n",
            "Epoch 92/100\n",
            "1078/1078 [==============================] - 0s 39us/step - loss: 4.4234e-09 - accuracy: 1.0000 - val_loss: 0.1625 - val_accuracy: 0.9764\n",
            "Epoch 93/100\n",
            "1078/1078 [==============================] - 0s 37us/step - loss: 4.5339e-09 - accuracy: 1.0000 - val_loss: 0.1626 - val_accuracy: 0.9764\n",
            "Epoch 94/100\n",
            "1078/1078 [==============================] - 0s 39us/step - loss: 4.2022e-09 - accuracy: 1.0000 - val_loss: 0.1628 - val_accuracy: 0.9764\n",
            "Epoch 95/100\n",
            "1078/1078 [==============================] - 0s 38us/step - loss: 3.3175e-09 - accuracy: 1.0000 - val_loss: 0.1626 - val_accuracy: 0.9764\n",
            "Epoch 96/100\n",
            "1078/1078 [==============================] - 0s 38us/step - loss: 3.8704e-09 - accuracy: 1.0000 - val_loss: 0.1627 - val_accuracy: 0.9764\n",
            "Epoch 97/100\n",
            "1078/1078 [==============================] - 0s 38us/step - loss: 3.3175e-09 - accuracy: 1.0000 - val_loss: 0.1634 - val_accuracy: 0.9764\n",
            "Epoch 98/100\n",
            "1078/1078 [==============================] - 0s 37us/step - loss: 3.8704e-09 - accuracy: 1.0000 - val_loss: 0.1631 - val_accuracy: 0.9764\n",
            "Epoch 99/100\n",
            "1078/1078 [==============================] - 0s 44us/step - loss: 3.3175e-09 - accuracy: 1.0000 - val_loss: 0.1633 - val_accuracy: 0.9764\n",
            "Epoch 100/100\n",
            "1078/1078 [==============================] - 0s 39us/step - loss: 2.7646e-09 - accuracy: 1.0000 - val_loss: 0.1631 - val_accuracy: 0.9777\n"
          ],
          "name": "stdout"
        }
      ]
    },
    {
      "cell_type": "code",
      "metadata": {
        "id": "bjhUdxxEa8D4",
        "colab_type": "code",
        "colab": {}
      },
      "source": [
        "# make predictions\n",
        "\n",
        "predictions = model.predict(x_test)"
      ],
      "execution_count": 0,
      "outputs": []
    },
    {
      "cell_type": "code",
      "metadata": {
        "id": "bdvs3dHRwbAj",
        "colab_type": "code",
        "outputId": "02711bc1-b471-4237-850b-9f26c8205494",
        "colab": {
          "base_uri": "https://localhost:8080/",
          "height": 295
        }
      },
      "source": [
        "# plotting loss\n",
        "\n",
        "import matplotlib.pyplot as plt\n",
        "\n",
        "history_dict =  h.history\n",
        "\n",
        "train_loss = history_dict['loss']\n",
        "test_loss = history_dict['val_loss']\n",
        "\n",
        "epochs = range(1, len(history_dict['accuracy'])+1)\n",
        "\n",
        "plt.plot(epochs, train_loss, 'bo', label = 'Training loss')\n",
        "plt.plot(epochs, test_loss, 'ro', label = 'Test loss')\n",
        "plt.title('Training and Test loss')\n",
        "plt.xlabel('Epochs')\n",
        "plt.ylabel('Loss')\n",
        "plt.legend()\n",
        "\n",
        "plt.show()"
      ],
      "execution_count": 0,
      "outputs": [
        {
          "output_type": "display_data",
          "data": {
            "image/png": "[encoded data removed]",
            "text/plain": [
              "<Figure size 432x288 with 1 Axes>"
            ]
          },
          "metadata": {
            "tags": [],
            "needs_background": "light"
          }
        }
      ]
    },
    {
      "cell_type": "code",
      "metadata": {
        "id": "uDJbkwtywwSc",
        "colab_type": "code",
        "colab": {}
      },
      "source": [
        ""
      ],
      "execution_count": 0,
      "outputs": []
    }
  ]
}