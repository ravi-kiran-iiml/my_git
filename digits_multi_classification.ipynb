{
  "nbformat": 4,
  "nbformat_minor": 0,
  "metadata": {
    "colab": {
      "name": "digits_multi_classification.ipynb",
      "provenance": [],
      "collapsed_sections": [],
      "authorship_tag": "ABX9TyP+6pwoMXNOmiZuoZ3k4/xv",
      "include_colab_link": true
    },
    "kernelspec": {
      "name": "python3",
      "display_name": "Python 3"
    }
  },
  "cells": [
    {
      "cell_type": "markdown",
      "metadata": {
        "id": "view-in-github",
        "colab_type": "text"
      },
      "source": [
        "<a href=\"https://colab.research.google.com/github/ravi-kiran-iiml/my_git/blob/deep_learning/digits_multi_classification.ipynb\" target=\"_parent\"><img src=\"https://colab.research.google.com/assets/colab-badge.svg\" alt=\"Open In Colab\"/></a>"
      ]
    },
    {
      "cell_type": "markdown",
      "metadata": {
        "id": "3lLxjuOlgZqZ",
        "colab_type": "text"
      },
      "source": [
        "About dataset\n",
        "\n",
        "Load and return the digits dataset (classification).\n",
        "\n",
        "Each datapoint is a 8x8 image of a digit.\n",
        "\n",
        "Classes 10\n",
        "\n",
        "Samples per class ~180\n",
        "\n",
        "Samples total 1797\n",
        "\n",
        "Dimensionality 64\n",
        "\n",
        "Features integers 0-16\n",
        "\n",
        "https://scikit-learn.org/stable/modules/generated/sklearn.datasets.load_digits.html#sklearn.datasets.load_digits"
      ]
    },
    {
      "cell_type": "markdown",
      "metadata": {
        "id": "uL3HMXUvgv0f",
        "colab_type": "text"
      },
      "source": [
        "we start with importing pandas and numpy libraries"
      ]
    },
    {
      "cell_type": "code",
      "metadata": {
        "id": "iFAgJujZUa8c",
        "colab_type": "code",
        "colab": {}
      },
      "source": [
        "import pandas as pd\n",
        "import numpy as np\n"
      ],
      "execution_count": 0,
      "outputs": []
    },
    {
      "cell_type": "markdown",
      "metadata": {
        "id": "eEE7JgrDgz1Q",
        "colab_type": "text"
      },
      "source": [
        "we import the dataset from scikit learn datasets\n",
        "\n",
        "Input is given by dataset.data method while\n",
        "\n",
        "Labels is obtained through dataset.target method\n",
        "\n"
      ]
    },
    {
      "cell_type": "code",
      "metadata": {
        "id": "eHOti5maWbiB",
        "colab_type": "code",
        "outputId": "919a3ebf-1438-4ab7-add3-28b8b52167a8",
        "colab": {
          "base_uri": "https://localhost:8080/",
          "height": 134
        }
      },
      "source": [
        "\n",
        "\n",
        "from sklearn.datasets import load_digits\n",
        "digits = load_digits()\n",
        "X= digits.data # .data for X values\n",
        "y = digits.target # .target for labels\n",
        "print(X.shape)\n",
        "print(y.shape)\n",
        "print(X[0])\n",
        "print(y)"
      ],
      "execution_count": 0,
      "outputs": [
        {
          "output_type": "stream",
          "text": [
            "(1797, 64)\n",
            "(1797,)\n",
            "[ 0.  0.  5. 13.  9.  1.  0.  0.  0.  0. 13. 15. 10. 15.  5.  0.  0.  3.\n",
            " 15.  2.  0. 11.  8.  0.  0.  4. 12.  0.  0.  8.  8.  0.  0.  5.  8.  0.\n",
            "  0.  9.  8.  0.  0.  4. 11.  0.  1. 12.  7.  0.  0.  2. 14.  5. 10. 12.\n",
            "  0.  0.  0.  0.  6. 13. 10.  0.  0.  0.]\n",
            "[0 1 2 ... 8 9 8]\n"
          ],
          "name": "stdout"
        }
      ]
    },
    {
      "cell_type": "markdown",
      "metadata": {
        "id": "07li6Lc5hEPk",
        "colab_type": "text"
      },
      "source": [
        "we normalise the input data using Standard Scaler method"
      ]
    },
    {
      "cell_type": "code",
      "metadata": {
        "id": "0jcsDEOiXtBE",
        "colab_type": "code",
        "colab": {}
      },
      "source": [
        "# data normalization\n",
        "\n",
        "from sklearn.preprocessing import StandardScaler\n",
        "scaler = StandardScaler()\n",
        "x = scaler.fit_transform(X)"
      ],
      "execution_count": 0,
      "outputs": []
    },
    {
      "cell_type": "markdown",
      "metadata": {
        "id": "ThJtfY9IhIGJ",
        "colab_type": "text"
      },
      "source": [
        "we have 10 unique labels : 0, 1, 2, 3, 4, 5, 6, 7, 8, 9\n",
        "\n",
        "we one-hot-encode these labels through to_categorical method in keras"
      ]
    },
    {
      "cell_type": "code",
      "metadata": {
        "id": "5PYBOfQ4ZgE-",
        "colab_type": "code",
        "outputId": "7022e170-096c-4e98-c64c-519e8e90b481",
        "colab": {
          "base_uri": "https://localhost:8080/",
          "height": 34
        }
      },
      "source": [
        "# label one hot encoding\n",
        "\n",
        "from keras.utils.np_utils import to_categorical\n",
        "y_categorical = to_categorical(y)"
      ],
      "execution_count": 0,
      "outputs": [
        {
          "output_type": "stream",
          "text": [
            "Using TensorFlow backend.\n"
          ],
          "name": "stderr"
        }
      ]
    },
    {
      "cell_type": "markdown",
      "metadata": {
        "id": "3MYhherKhR26",
        "colab_type": "text"
      },
      "source": [
        "now we split the dataset in training and validation datasets"
      ]
    },
    {
      "cell_type": "code",
      "metadata": {
        "id": "FeTmRbsvaKwS",
        "colab_type": "code",
        "colab": {}
      },
      "source": [
        "# train test split \n",
        "\n",
        "from sklearn.model_selection import train_test_split\n",
        "x_train, x_test, y_train, y_test = train_test_split(x, y_categorical, test_size = 0.25)"
      ],
      "execution_count": 0,
      "outputs": []
    },
    {
      "cell_type": "markdown",
      "metadata": {
        "id": "Ljc9TAMnhWF7",
        "colab_type": "text"
      },
      "source": [
        "we create the neural network model and compile it"
      ]
    },
    {
      "cell_type": "code",
      "metadata": {
        "id": "2BfzM8E4ZckA",
        "colab_type": "code",
        "colab": {}
      },
      "source": [
        "# creating the model\n",
        "\n",
        "from keras import models\n",
        "from keras import layers\n",
        "from keras import regularizers\n",
        "\n",
        "model = models.Sequential()\n",
        "model.add(layers.Dense(64, activation='relu', kernel_regularizer=regularizers.l2(0.001)))\n",
        "model.add(layers.Dropout(0.25))\n",
        "model.add(layers.Dense(64, activation='relu', kernel_regularizer=regularizers.l2(0.001)))\n",
        "model.add(layers.Dropout(0.25))\n",
        "model.add(layers.Dense(10, activation='softmax'))\n",
        "\n",
        "model.compile(optimizer='rmsprop',loss='categorical_crossentropy',metrics=['accuracy'])"
      ],
      "execution_count": 0,
      "outputs": []
    },
    {
      "cell_type": "markdown",
      "metadata": {
        "id": "A5rC2j2OhawK",
        "colab_type": "text"
      },
      "source": [
        "we train the model on the training data and validation data"
      ]
    },
    {
      "cell_type": "code",
      "metadata": {
        "id": "VQj8w5AEZ-Xu",
        "colab_type": "code",
        "outputId": "1848e2f3-cd75-4e44-e7cd-9d9d604bc2d6",
        "colab": {
          "base_uri": "https://localhost:8080/",
          "height": 1000
        }
      },
      "source": [
        "# training the data\n",
        "\n",
        "h = model.fit(x_train, y_train, epochs = 100, batch_size = 50, validation_data = (x_test, y_test))\n"
      ],
      "execution_count": 0,
      "outputs": [
        {
          "output_type": "stream",
          "text": [
            "Train on 1347 samples, validate on 450 samples\n",
            "Epoch 1/100\n",
            "1347/1347 [==============================] - 0s 258us/step - loss: 2.1340 - accuracy: 0.3378 - val_loss: 1.5818 - val_accuracy: 0.6622\n",
            "Epoch 2/100\n",
            "1347/1347 [==============================] - 0s 36us/step - loss: 1.5270 - accuracy: 0.5999 - val_loss: 1.0679 - val_accuracy: 0.8111\n",
            "Epoch 3/100\n",
            "1347/1347 [==============================] - 0s 35us/step - loss: 1.1401 - accuracy: 0.7201 - val_loss: 0.7573 - val_accuracy: 0.8689\n",
            "Epoch 4/100\n",
            "1347/1347 [==============================] - 0s 35us/step - loss: 0.8739 - accuracy: 0.7914 - val_loss: 0.5708 - val_accuracy: 0.9022\n",
            "Epoch 5/100\n",
            "1347/1347 [==============================] - 0s 39us/step - loss: 0.7294 - accuracy: 0.8293 - val_loss: 0.4541 - val_accuracy: 0.9244\n",
            "Epoch 6/100\n",
            "1347/1347 [==============================] - 0s 35us/step - loss: 0.6291 - accuracy: 0.8530 - val_loss: 0.3901 - val_accuracy: 0.9356\n",
            "Epoch 7/100\n",
            "1347/1347 [==============================] - 0s 38us/step - loss: 0.5527 - accuracy: 0.8731 - val_loss: 0.3455 - val_accuracy: 0.9467\n",
            "Epoch 8/100\n",
            "1347/1347 [==============================] - 0s 36us/step - loss: 0.4980 - accuracy: 0.8953 - val_loss: 0.3067 - val_accuracy: 0.9511\n",
            "Epoch 9/100\n",
            "1347/1347 [==============================] - 0s 35us/step - loss: 0.4640 - accuracy: 0.8990 - val_loss: 0.2864 - val_accuracy: 0.9556\n",
            "Epoch 10/100\n",
            "1347/1347 [==============================] - 0s 38us/step - loss: 0.4007 - accuracy: 0.9250 - val_loss: 0.2670 - val_accuracy: 0.9644\n",
            "Epoch 11/100\n",
            "1347/1347 [==============================] - 0s 35us/step - loss: 0.3781 - accuracy: 0.9280 - val_loss: 0.2545 - val_accuracy: 0.9644\n",
            "Epoch 12/100\n",
            "1347/1347 [==============================] - 0s 36us/step - loss: 0.3506 - accuracy: 0.9406 - val_loss: 0.2424 - val_accuracy: 0.9644\n",
            "Epoch 13/100\n",
            "1347/1347 [==============================] - 0s 37us/step - loss: 0.3227 - accuracy: 0.9399 - val_loss: 0.2339 - val_accuracy: 0.9711\n",
            "Epoch 14/100\n",
            "1347/1347 [==============================] - 0s 40us/step - loss: 0.2935 - accuracy: 0.9525 - val_loss: 0.2303 - val_accuracy: 0.9667\n",
            "Epoch 15/100\n",
            "1347/1347 [==============================] - 0s 41us/step - loss: 0.3109 - accuracy: 0.9436 - val_loss: 0.2259 - val_accuracy: 0.9689\n",
            "Epoch 16/100\n",
            "1347/1347 [==============================] - 0s 36us/step - loss: 0.2844 - accuracy: 0.9473 - val_loss: 0.2191 - val_accuracy: 0.9689\n",
            "Epoch 17/100\n",
            "1347/1347 [==============================] - 0s 36us/step - loss: 0.2748 - accuracy: 0.9540 - val_loss: 0.2115 - val_accuracy: 0.9733\n",
            "Epoch 18/100\n",
            "1347/1347 [==============================] - 0s 36us/step - loss: 0.2710 - accuracy: 0.9473 - val_loss: 0.2039 - val_accuracy: 0.9756\n",
            "Epoch 19/100\n",
            "1347/1347 [==============================] - 0s 36us/step - loss: 0.2399 - accuracy: 0.9673 - val_loss: 0.2047 - val_accuracy: 0.9733\n",
            "Epoch 20/100\n",
            "1347/1347 [==============================] - 0s 36us/step - loss: 0.2515 - accuracy: 0.9614 - val_loss: 0.2011 - val_accuracy: 0.9756\n",
            "Epoch 21/100\n",
            "1347/1347 [==============================] - 0s 37us/step - loss: 0.2526 - accuracy: 0.9614 - val_loss: 0.1959 - val_accuracy: 0.9800\n",
            "Epoch 22/100\n",
            "1347/1347 [==============================] - 0s 37us/step - loss: 0.2361 - accuracy: 0.9673 - val_loss: 0.1958 - val_accuracy: 0.9800\n",
            "Epoch 23/100\n",
            "1347/1347 [==============================] - 0s 36us/step - loss: 0.2278 - accuracy: 0.9681 - val_loss: 0.1883 - val_accuracy: 0.9800\n",
            "Epoch 24/100\n",
            "1347/1347 [==============================] - 0s 38us/step - loss: 0.2312 - accuracy: 0.9607 - val_loss: 0.1902 - val_accuracy: 0.9800\n",
            "Epoch 25/100\n",
            "1347/1347 [==============================] - 0s 43us/step - loss: 0.2307 - accuracy: 0.9666 - val_loss: 0.1914 - val_accuracy: 0.9800\n",
            "Epoch 26/100\n",
            "1347/1347 [==============================] - 0s 37us/step - loss: 0.2213 - accuracy: 0.9748 - val_loss: 0.1848 - val_accuracy: 0.9778\n",
            "Epoch 27/100\n",
            "1347/1347 [==============================] - 0s 37us/step - loss: 0.1957 - accuracy: 0.9748 - val_loss: 0.1813 - val_accuracy: 0.9756\n",
            "Epoch 28/100\n",
            "1347/1347 [==============================] - 0s 36us/step - loss: 0.1994 - accuracy: 0.9740 - val_loss: 0.1806 - val_accuracy: 0.9800\n",
            "Epoch 29/100\n",
            "1347/1347 [==============================] - 0s 36us/step - loss: 0.1986 - accuracy: 0.9762 - val_loss: 0.1855 - val_accuracy: 0.9778\n",
            "Epoch 30/100\n",
            "1347/1347 [==============================] - 0s 36us/step - loss: 0.1933 - accuracy: 0.9740 - val_loss: 0.1783 - val_accuracy: 0.9822\n",
            "Epoch 31/100\n",
            "1347/1347 [==============================] - 0s 36us/step - loss: 0.1868 - accuracy: 0.9785 - val_loss: 0.1746 - val_accuracy: 0.9800\n",
            "Epoch 32/100\n",
            "1347/1347 [==============================] - 0s 39us/step - loss: 0.1832 - accuracy: 0.9807 - val_loss: 0.1731 - val_accuracy: 0.9822\n",
            "Epoch 33/100\n",
            "1347/1347 [==============================] - 0s 37us/step - loss: 0.1790 - accuracy: 0.9748 - val_loss: 0.1667 - val_accuracy: 0.9778\n",
            "Epoch 34/100\n",
            "1347/1347 [==============================] - 0s 34us/step - loss: 0.1794 - accuracy: 0.9785 - val_loss: 0.1698 - val_accuracy: 0.9800\n",
            "Epoch 35/100\n",
            "1347/1347 [==============================] - 0s 37us/step - loss: 0.1832 - accuracy: 0.9800 - val_loss: 0.1651 - val_accuracy: 0.9822\n",
            "Epoch 36/100\n",
            "1347/1347 [==============================] - 0s 36us/step - loss: 0.1753 - accuracy: 0.9777 - val_loss: 0.1620 - val_accuracy: 0.9822\n",
            "Epoch 37/100\n",
            "1347/1347 [==============================] - 0s 37us/step - loss: 0.1615 - accuracy: 0.9852 - val_loss: 0.1540 - val_accuracy: 0.9844\n",
            "Epoch 38/100\n",
            "1347/1347 [==============================] - 0s 36us/step - loss: 0.1650 - accuracy: 0.9814 - val_loss: 0.1524 - val_accuracy: 0.9867\n",
            "Epoch 39/100\n",
            "1347/1347 [==============================] - 0s 37us/step - loss: 0.1560 - accuracy: 0.9829 - val_loss: 0.1538 - val_accuracy: 0.9822\n",
            "Epoch 40/100\n",
            "1347/1347 [==============================] - 0s 40us/step - loss: 0.1470 - accuracy: 0.9881 - val_loss: 0.1536 - val_accuracy: 0.9822\n",
            "Epoch 41/100\n",
            "1347/1347 [==============================] - 0s 37us/step - loss: 0.1591 - accuracy: 0.9807 - val_loss: 0.1503 - val_accuracy: 0.9822\n",
            "Epoch 42/100\n",
            "1347/1347 [==============================] - 0s 35us/step - loss: 0.1485 - accuracy: 0.9866 - val_loss: 0.1521 - val_accuracy: 0.9844\n",
            "Epoch 43/100\n",
            "1347/1347 [==============================] - 0s 37us/step - loss: 0.1610 - accuracy: 0.9777 - val_loss: 0.1490 - val_accuracy: 0.9822\n",
            "Epoch 44/100\n",
            "1347/1347 [==============================] - 0s 37us/step - loss: 0.1450 - accuracy: 0.9896 - val_loss: 0.1467 - val_accuracy: 0.9844\n",
            "Epoch 45/100\n",
            "1347/1347 [==============================] - 0s 39us/step - loss: 0.1382 - accuracy: 0.9874 - val_loss: 0.1434 - val_accuracy: 0.9844\n",
            "Epoch 46/100\n",
            "1347/1347 [==============================] - 0s 35us/step - loss: 0.1450 - accuracy: 0.9837 - val_loss: 0.1413 - val_accuracy: 0.9867\n",
            "Epoch 47/100\n",
            "1347/1347 [==============================] - 0s 36us/step - loss: 0.1302 - accuracy: 0.9903 - val_loss: 0.1463 - val_accuracy: 0.9844\n",
            "Epoch 48/100\n",
            "1347/1347 [==============================] - 0s 37us/step - loss: 0.1381 - accuracy: 0.9874 - val_loss: 0.1385 - val_accuracy: 0.9844\n",
            "Epoch 49/100\n",
            "1347/1347 [==============================] - 0s 35us/step - loss: 0.1336 - accuracy: 0.9874 - val_loss: 0.1355 - val_accuracy: 0.9844\n",
            "Epoch 50/100\n",
            "1347/1347 [==============================] - 0s 37us/step - loss: 0.1283 - accuracy: 0.9889 - val_loss: 0.1399 - val_accuracy: 0.9844\n",
            "Epoch 51/100\n",
            "1347/1347 [==============================] - 0s 40us/step - loss: 0.1372 - accuracy: 0.9874 - val_loss: 0.1367 - val_accuracy: 0.9822\n",
            "Epoch 52/100\n",
            "1347/1347 [==============================] - 0s 36us/step - loss: 0.1260 - accuracy: 0.9926 - val_loss: 0.1369 - val_accuracy: 0.9822\n",
            "Epoch 53/100\n",
            "1347/1347 [==============================] - 0s 36us/step - loss: 0.1294 - accuracy: 0.9881 - val_loss: 0.1399 - val_accuracy: 0.9822\n",
            "Epoch 54/100\n",
            "1347/1347 [==============================] - 0s 36us/step - loss: 0.1250 - accuracy: 0.9866 - val_loss: 0.1326 - val_accuracy: 0.9844\n",
            "Epoch 55/100\n",
            "1347/1347 [==============================] - 0s 36us/step - loss: 0.1197 - accuracy: 0.9933 - val_loss: 0.1315 - val_accuracy: 0.9844\n",
            "Epoch 56/100\n",
            "1347/1347 [==============================] - 0s 37us/step - loss: 0.1322 - accuracy: 0.9859 - val_loss: 0.1305 - val_accuracy: 0.9844\n",
            "Epoch 57/100\n",
            "1347/1347 [==============================] - 0s 36us/step - loss: 0.1124 - accuracy: 0.9911 - val_loss: 0.1251 - val_accuracy: 0.9889\n",
            "Epoch 58/100\n",
            "1347/1347 [==============================] - 0s 36us/step - loss: 0.1300 - accuracy: 0.9837 - val_loss: 0.1250 - val_accuracy: 0.9822\n",
            "Epoch 59/100\n",
            "1347/1347 [==============================] - 0s 37us/step - loss: 0.1162 - accuracy: 0.9911 - val_loss: 0.1297 - val_accuracy: 0.9822\n",
            "Epoch 60/100\n",
            "1347/1347 [==============================] - 0s 38us/step - loss: 0.1132 - accuracy: 0.9933 - val_loss: 0.1250 - val_accuracy: 0.9822\n",
            "Epoch 61/100\n",
            "1347/1347 [==============================] - 0s 35us/step - loss: 0.1122 - accuracy: 0.9911 - val_loss: 0.1284 - val_accuracy: 0.9822\n",
            "Epoch 62/100\n",
            "1347/1347 [==============================] - 0s 39us/step - loss: 0.1127 - accuracy: 0.9918 - val_loss: 0.1239 - val_accuracy: 0.9822\n",
            "Epoch 63/100\n",
            "1347/1347 [==============================] - 0s 38us/step - loss: 0.1138 - accuracy: 0.9874 - val_loss: 0.1258 - val_accuracy: 0.9844\n",
            "Epoch 64/100\n",
            "1347/1347 [==============================] - 0s 37us/step - loss: 0.1042 - accuracy: 0.9911 - val_loss: 0.1210 - val_accuracy: 0.9822\n",
            "Epoch 65/100\n",
            "1347/1347 [==============================] - 0s 40us/step - loss: 0.1153 - accuracy: 0.9889 - val_loss: 0.1165 - val_accuracy: 0.9844\n",
            "Epoch 66/100\n",
            "1347/1347 [==============================] - 0s 36us/step - loss: 0.1108 - accuracy: 0.9866 - val_loss: 0.1171 - val_accuracy: 0.9844\n",
            "Epoch 67/100\n",
            "1347/1347 [==============================] - 0s 39us/step - loss: 0.1152 - accuracy: 0.9926 - val_loss: 0.1157 - val_accuracy: 0.9844\n",
            "Epoch 68/100\n",
            "1347/1347 [==============================] - 0s 35us/step - loss: 0.1123 - accuracy: 0.9852 - val_loss: 0.1172 - val_accuracy: 0.9844\n",
            "Epoch 69/100\n",
            "1347/1347 [==============================] - 0s 35us/step - loss: 0.1050 - accuracy: 0.9933 - val_loss: 0.1102 - val_accuracy: 0.9844\n",
            "Epoch 70/100\n",
            "1347/1347 [==============================] - 0s 38us/step - loss: 0.1043 - accuracy: 0.9918 - val_loss: 0.1103 - val_accuracy: 0.9867\n",
            "Epoch 71/100\n",
            "1347/1347 [==============================] - 0s 36us/step - loss: 0.1021 - accuracy: 0.9926 - val_loss: 0.1154 - val_accuracy: 0.9867\n",
            "Epoch 72/100\n",
            "1347/1347 [==============================] - 0s 36us/step - loss: 0.1016 - accuracy: 0.9941 - val_loss: 0.1116 - val_accuracy: 0.9867\n",
            "Epoch 73/100\n",
            "1347/1347 [==============================] - 0s 37us/step - loss: 0.0915 - accuracy: 0.9948 - val_loss: 0.1152 - val_accuracy: 0.9822\n",
            "Epoch 74/100\n",
            "1347/1347 [==============================] - 0s 35us/step - loss: 0.0964 - accuracy: 0.9955 - val_loss: 0.1140 - val_accuracy: 0.9822\n",
            "Epoch 75/100\n",
            "1347/1347 [==============================] - 0s 37us/step - loss: 0.0940 - accuracy: 0.9941 - val_loss: 0.1176 - val_accuracy: 0.9800\n",
            "Epoch 76/100\n",
            "1347/1347 [==============================] - 0s 35us/step - loss: 0.0948 - accuracy: 0.9948 - val_loss: 0.1103 - val_accuracy: 0.9822\n",
            "Epoch 77/100\n",
            "1347/1347 [==============================] - 0s 37us/step - loss: 0.0927 - accuracy: 0.9933 - val_loss: 0.1075 - val_accuracy: 0.9822\n",
            "Epoch 78/100\n",
            "1347/1347 [==============================] - 0s 37us/step - loss: 0.0966 - accuracy: 0.9911 - val_loss: 0.1065 - val_accuracy: 0.9844\n",
            "Epoch 79/100\n",
            "1347/1347 [==============================] - 0s 39us/step - loss: 0.0994 - accuracy: 0.9896 - val_loss: 0.1132 - val_accuracy: 0.9778\n",
            "Epoch 80/100\n",
            "1347/1347 [==============================] - 0s 37us/step - loss: 0.0953 - accuracy: 0.9911 - val_loss: 0.1107 - val_accuracy: 0.9800\n",
            "Epoch 81/100\n",
            "1347/1347 [==============================] - 0s 34us/step - loss: 0.0889 - accuracy: 0.9955 - val_loss: 0.1113 - val_accuracy: 0.9800\n",
            "Epoch 82/100\n",
            "1347/1347 [==============================] - 0s 39us/step - loss: 0.0949 - accuracy: 0.9911 - val_loss: 0.1098 - val_accuracy: 0.9778\n",
            "Epoch 83/100\n",
            "1347/1347 [==============================] - 0s 35us/step - loss: 0.0972 - accuracy: 0.9896 - val_loss: 0.1107 - val_accuracy: 0.9800\n",
            "Epoch 84/100\n",
            "1347/1347 [==============================] - 0s 38us/step - loss: 0.0891 - accuracy: 0.9933 - val_loss: 0.1112 - val_accuracy: 0.9800\n",
            "Epoch 85/100\n",
            "1347/1347 [==============================] - 0s 39us/step - loss: 0.0878 - accuracy: 0.9933 - val_loss: 0.1114 - val_accuracy: 0.9822\n",
            "Epoch 86/100\n",
            "1347/1347 [==============================] - 0s 36us/step - loss: 0.0874 - accuracy: 0.9948 - val_loss: 0.1106 - val_accuracy: 0.9800\n",
            "Epoch 87/100\n",
            "1347/1347 [==============================] - 0s 36us/step - loss: 0.0881 - accuracy: 0.9918 - val_loss: 0.1022 - val_accuracy: 0.9844\n",
            "Epoch 88/100\n",
            "1347/1347 [==============================] - 0s 34us/step - loss: 0.0823 - accuracy: 0.9955 - val_loss: 0.1098 - val_accuracy: 0.9822\n",
            "Epoch 89/100\n",
            "1347/1347 [==============================] - 0s 36us/step - loss: 0.0860 - accuracy: 0.9926 - val_loss: 0.1066 - val_accuracy: 0.9800\n",
            "Epoch 90/100\n",
            "1347/1347 [==============================] - 0s 37us/step - loss: 0.0940 - accuracy: 0.9881 - val_loss: 0.1115 - val_accuracy: 0.9800\n",
            "Epoch 91/100\n",
            "1347/1347 [==============================] - 0s 38us/step - loss: 0.0851 - accuracy: 0.9911 - val_loss: 0.1098 - val_accuracy: 0.9778\n",
            "Epoch 92/100\n",
            "1347/1347 [==============================] - 0s 36us/step - loss: 0.0815 - accuracy: 0.9926 - val_loss: 0.1073 - val_accuracy: 0.9800\n",
            "Epoch 93/100\n",
            "1347/1347 [==============================] - 0s 36us/step - loss: 0.0809 - accuracy: 0.9926 - val_loss: 0.1023 - val_accuracy: 0.9778\n",
            "Epoch 94/100\n",
            "1347/1347 [==============================] - 0s 37us/step - loss: 0.0822 - accuracy: 0.9955 - val_loss: 0.0989 - val_accuracy: 0.9844\n",
            "Epoch 95/100\n",
            "1347/1347 [==============================] - 0s 37us/step - loss: 0.0820 - accuracy: 0.9955 - val_loss: 0.1019 - val_accuracy: 0.9778\n",
            "Epoch 96/100\n",
            "1347/1347 [==============================] - 0s 38us/step - loss: 0.0792 - accuracy: 0.9933 - val_loss: 0.1007 - val_accuracy: 0.9778\n",
            "Epoch 97/100\n",
            "1347/1347 [==============================] - 0s 36us/step - loss: 0.0806 - accuracy: 0.9963 - val_loss: 0.1009 - val_accuracy: 0.9778\n",
            "Epoch 98/100\n",
            "1347/1347 [==============================] - 0s 37us/step - loss: 0.0784 - accuracy: 0.9941 - val_loss: 0.1009 - val_accuracy: 0.9800\n",
            "Epoch 99/100\n",
            "1347/1347 [==============================] - 0s 37us/step - loss: 0.0809 - accuracy: 0.9941 - val_loss: 0.1011 - val_accuracy: 0.9822\n",
            "Epoch 100/100\n",
            "1347/1347 [==============================] - 0s 36us/step - loss: 0.0762 - accuracy: 0.9941 - val_loss: 0.1026 - val_accuracy: 0.9822\n"
          ],
          "name": "stdout"
        }
      ]
    },
    {
      "cell_type": "markdown",
      "metadata": {
        "id": "o_YyfR1fhhk1",
        "colab_type": "text"
      },
      "source": [
        "we calculate predictions using model.predict approach"
      ]
    },
    {
      "cell_type": "code",
      "metadata": {
        "id": "bjhUdxxEa8D4",
        "colab_type": "code",
        "colab": {}
      },
      "source": [
        "# make predictions\n",
        "\n",
        "predictions = model.predict(x_test)"
      ],
      "execution_count": 0,
      "outputs": []
    },
    {
      "cell_type": "markdown",
      "metadata": {
        "id": "HZUbhjkUhlGV",
        "colab_type": "text"
      },
      "source": [
        "we compare the loss on training and validation data "
      ]
    },
    {
      "cell_type": "code",
      "metadata": {
        "id": "bdvs3dHRwbAj",
        "colab_type": "code",
        "outputId": "3df4ab96-75db-4e89-fef4-a27b18be6e29",
        "colab": {
          "base_uri": "https://localhost:8080/",
          "height": 295
        }
      },
      "source": [
        "# plotting loss\n",
        "\n",
        "import matplotlib.pyplot as plt\n",
        "\n",
        "history_dict =  h.history\n",
        "\n",
        "train_loss = history_dict['loss']\n",
        "test_loss = history_dict['val_loss']\n",
        "\n",
        "epochs = range(1, len(history_dict['accuracy'])+1)\n",
        "\n",
        "plt.plot(epochs, train_loss, 'bo', label = 'Training loss')\n",
        "plt.plot(epochs, test_loss, 'ro', label = 'Test loss')\n",
        "plt.title('Training and Test loss')\n",
        "plt.xlabel('Epochs')\n",
        "plt.ylabel('Loss')\n",
        "plt.legend()\n",
        "\n",
        "plt.show()"
      ],
      "execution_count": 0,
      "outputs": [
        {
          "output_type": "display_data",
          "data": {
            "image/png": "[encoded data removed]",
            "text/plain": [
              "<Figure size 432x288 with 1 Axes>"
            ]
          },
          "metadata": {
            "tags": [],
            "needs_background": "light"
          }
        }
      ]
    },
    {
      "cell_type": "markdown",
      "metadata": {
        "id": "pEKXcpOIh5FT",
        "colab_type": "text"
      },
      "source": [
        "we plot accuracy output"
      ]
    },
    {
      "cell_type": "code",
      "metadata": {
        "id": "uDJbkwtywwSc",
        "colab_type": "code",
        "outputId": "74de4010-616a-4518-8a64-2fd496785b29",
        "colab": {
          "base_uri": "https://localhost:8080/",
          "height": 295
        }
      },
      "source": [
        "import matplotlib.pyplot as plt\n",
        "\n",
        "history_dict =  h.history\n",
        "\n",
        "train_accuracy = history_dict['accuracy']\n",
        "test_accuracy = history_dict['val_accuracy']\n",
        "\n",
        "epochs = range(1, len(history_dict['accuracy'])+1)\n",
        "\n",
        "plt.plot(epochs, train_loss, 'bo', label = 'Training accuracy')\n",
        "plt.plot(epochs, test_loss, 'ro', label = 'Test accuracy')\n",
        "plt.title('Training and Test accuracy')\n",
        "plt.xlabel('Epochs')\n",
        "plt.ylabel('accuracy')\n",
        "plt.legend()\n",
        "\n",
        "plt.show()"
      ],
      "execution_count": 0,
      "outputs": [
        {
          "output_type": "display_data",
          "data": {
            "image/png": "[encoded data removed]",
            "text/plain": [
              "<Figure size 432x288 with 1 Axes>"
            ]
          },
          "metadata": {
            "tags": [],
            "needs_background": "light"
          }
        }
      ]
    },
    {
      "cell_type": "markdown",
      "metadata": {
        "id": "xYE_ispwh8pu",
        "colab_type": "text"
      },
      "source": [
        "# we arrive at 99.41% and 98.22% accuracy on training and validation datasets respectively"
      ]
    }
  ]
}