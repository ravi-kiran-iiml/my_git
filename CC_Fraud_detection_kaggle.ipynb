{
  "nbformat": 4,
  "nbformat_minor": 0,
  "metadata": {
    "colab": {
      "name": "CC Fraud detection_kaggle.ipynb",
      "provenance": [],
      "collapsed_sections": [],
      "authorship_tag": "ABX9TyMPdUcxJHHVynQWPVOmToax",
      "include_colab_link": true
    },
    "kernelspec": {
      "name": "python3",
      "display_name": "Python 3"
    }
  },
  "cells": [
    {
      "cell_type": "markdown",
      "metadata": {
        "id": "view-in-github",
        "colab_type": "text"
      },
      "source": [
        "<a href=\"https://colab.research.google.com/github/ravi-kiran-iiml/my_git/blob/master/CC_Fraud_detection_kaggle.ipynb\" target=\"_parent\"><img src=\"https://colab.research.google.com/assets/colab-badge.svg\" alt=\"Open In Colab\"/></a>"
      ]
    },
    {
      "cell_type": "markdown",
      "metadata": {
        "id": "3zvbROdfpi29",
        "colab_type": "text"
      },
      "source": [
        "Brief about this dataset from Kaggle.com : \n",
        "\n",
        "Context\n",
        "\n",
        "It is important that credit card companies are able to recognize fraudulent credit card transactions so that customers are not charged for items that they did not purchase.\n",
        "\n",
        "Content\n",
        "\n",
        "The datasets contains transactions made by credit cards in September 2013 by european cardholders.\n",
        "This dataset presents transactions that occurred in two days, where we have 492 frauds out of 284,807 transactions. The dataset is highly unbalanced, the positive class (frauds) account for 0.172% of all transactions.\n",
        "\n",
        "It contains only numerical input variables which are the result of a PCA transformation. Unfortunately, due to confidentiality issues, we cannot provide the original features and more background information about the data. Features V1, V2, … V28 are the principal components obtained with PCA, the only features which have not been transformed with PCA are 'Time' and 'Amount'. Feature 'Time' contains the seconds elapsed between each transaction and the first transaction in the dataset. The feature 'Amount' is the transaction Amount, this feature can be used for example-dependant cost-senstive learning. Feature 'Class' is the response variable and it takes value 1 in case of fraud and 0 otherwise.\n",
        "\n",
        "Inspiration\n",
        "\n",
        "Identify fraudulent credit card transactions.\n",
        "\n",
        "Given the class imbalance ratio, we recommend measuring the accuracy using the Area Under the Precision-Recall Curve (AUPRC). Confusion matrix accuracy is not meaningful for unbalanced classification.\n",
        "\n",
        "Acknowledgements\n",
        "\n",
        "The dataset has been collected and analysed during a research collaboration of Worldline and the Machine Learning Group (http://mlg.ulb.ac.be) of ULB (Université Libre de Bruxelles) on big data mining and fraud detection.\n",
        "More details on current and past projects on related topics are available on https://www.researchgate.net/project/Fraud-detection-5 and the page of the DefeatFraud project"
      ]
    },
    {
      "cell_type": "markdown",
      "metadata": {
        "id": "f7I1hxqVzp6H",
        "colab_type": "text"
      },
      "source": [
        "First step: We import the dataset from the respective folder"
      ]
    },
    {
      "cell_type": "code",
      "metadata": {
        "id": "unEvfnvcldZm",
        "colab_type": "code",
        "colab": {
          "resources": {
            "http://localhost:8080/nbextensions/google.colab/files.js": {
              "data": "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",
              "ok": true,
              "headers": [
                [
                  "content-type",
                  "application/javascript"
                ]
              ],
              "status": 200,
              "status_text": ""
            }
          },
          "base_uri": "https://localhost:8080/",
          "height": 74
        },
        "outputId": "cdfa5d35-8885-4fb4-cd09-2a4e77f89c32"
      },
      "source": [
        "from google.colab import files\n",
        "uploaded = files.upload()"
      ],
      "execution_count": 39,
      "outputs": [
        {
          "output_type": "display_data",
          "data": {
            "text/html": [
              "\n",
              "     <input type=\"file\" id=\"files-a8acf1e4-aa69-4c19-a6db-90663dc36a59\" name=\"files[]\" multiple disabled />\n",
              "     <output id=\"result-a8acf1e4-aa69-4c19-a6db-90663dc36a59\">\n",
              "      Upload widget is only available when the cell has been executed in the\n",
              "      current browser session. Please rerun this cell to enable.\n",
              "      </output>\n",
              "      <script src=\"/nbextensions/google.colab/files.js\"></script> "
            ],
            "text/plain": [
              "<IPython.core.display.HTML object>"
            ]
          },
          "metadata": {
            "tags": []
          }
        },
        {
          "output_type": "stream",
          "text": [
            "Saving creditcard.csv to creditcard (1).csv\n"
          ],
          "name": "stdout"
        }
      ]
    },
    {
      "cell_type": "markdown",
      "metadata": {
        "id": "oBuzPwBrzyYs",
        "colab_type": "text"
      },
      "source": [
        "Next we create the dataframe using pandas.read_csv function\n",
        "\n",
        "\n",
        "Dataframe.head() gives us a picture of the first few rows of the dataset"
      ]
    },
    {
      "cell_type": "code",
      "metadata": {
        "id": "zLfIjqyiq5zA",
        "colab_type": "code",
        "colab": {
          "base_uri": "https://localhost:8080/",
          "height": 363
        },
        "outputId": "c5312027-3bd3-46b3-fa3f-64bf4f03a6c0"
      },
      "source": [
        "import io\n",
        "import pandas as pd\n",
        "\n",
        "dataframe = pd.read_csv(io.BytesIO(uploaded['creditcard.csv']))\n",
        "dataframe.head(10)"
      ],
      "execution_count": 40,
      "outputs": [
        {
          "output_type": "execute_result",
          "data": {
            "text/html": [
              "<div>\n",
              "<style scoped>\n",
              "    .dataframe tbody tr th:only-of-type {\n",
              "        vertical-align: middle;\n",
              "    }\n",
              "\n",
              "    .dataframe tbody tr th {\n",
              "        vertical-align: top;\n",
              "    }\n",
              "\n",
              "    .dataframe thead th {\n",
              "        text-align: right;\n",
              "    }\n",
              "</style>\n",
              "<table border=\"1\" class=\"dataframe\">\n",
              "  <thead>\n",
              "    <tr style=\"text-align: right;\">\n",
              "      <th></th>\n",
              "      <th>Time</th>\n",
              "      <th>V1</th>\n",
              "      <th>V2</th>\n",
              "      <th>V3</th>\n",
              "      <th>V4</th>\n",
              "      <th>V5</th>\n",
              "      <th>V6</th>\n",
              "      <th>V7</th>\n",
              "      <th>V8</th>\n",
              "      <th>V9</th>\n",
              "      <th>V10</th>\n",
              "      <th>V11</th>\n",
              "      <th>V12</th>\n",
              "      <th>V13</th>\n",
              "      <th>V14</th>\n",
              "      <th>V15</th>\n",
              "      <th>V16</th>\n",
              "      <th>V17</th>\n",
              "      <th>V18</th>\n",
              "      <th>V19</th>\n",
              "      <th>V20</th>\n",
              "      <th>V21</th>\n",
              "      <th>V22</th>\n",
              "      <th>V23</th>\n",
              "      <th>V24</th>\n",
              "      <th>V25</th>\n",
              "      <th>V26</th>\n",
              "      <th>V27</th>\n",
              "      <th>V28</th>\n",
              "      <th>Amount</th>\n",
              "      <th>Class</th>\n",
              "    </tr>\n",
              "  </thead>\n",
              "  <tbody>\n",
              "    <tr>\n",
              "      <th>0</th>\n",
              "      <td>0.0</td>\n",
              "      <td>-1.359807</td>\n",
              "      <td>-0.072781</td>\n",
              "      <td>2.536347</td>\n",
              "      <td>1.378155</td>\n",
              "      <td>-0.338321</td>\n",
              "      <td>0.462388</td>\n",
              "      <td>0.239599</td>\n",
              "      <td>0.098698</td>\n",
              "      <td>0.363787</td>\n",
              "      <td>0.090794</td>\n",
              "      <td>-0.551600</td>\n",
              "      <td>-0.617801</td>\n",
              "      <td>-0.991390</td>\n",
              "      <td>-0.311169</td>\n",
              "      <td>1.468177</td>\n",
              "      <td>-0.470401</td>\n",
              "      <td>0.207971</td>\n",
              "      <td>0.025791</td>\n",
              "      <td>0.403993</td>\n",
              "      <td>0.251412</td>\n",
              "      <td>-0.018307</td>\n",
              "      <td>0.277838</td>\n",
              "      <td>-0.110474</td>\n",
              "      <td>0.066928</td>\n",
              "      <td>0.128539</td>\n",
              "      <td>-0.189115</td>\n",
              "      <td>0.133558</td>\n",
              "      <td>-0.021053</td>\n",
              "      <td>149.62</td>\n",
              "      <td>0</td>\n",
              "    </tr>\n",
              "    <tr>\n",
              "      <th>1</th>\n",
              "      <td>0.0</td>\n",
              "      <td>1.191857</td>\n",
              "      <td>0.266151</td>\n",
              "      <td>0.166480</td>\n",
              "      <td>0.448154</td>\n",
              "      <td>0.060018</td>\n",
              "      <td>-0.082361</td>\n",
              "      <td>-0.078803</td>\n",
              "      <td>0.085102</td>\n",
              "      <td>-0.255425</td>\n",
              "      <td>-0.166974</td>\n",
              "      <td>1.612727</td>\n",
              "      <td>1.065235</td>\n",
              "      <td>0.489095</td>\n",
              "      <td>-0.143772</td>\n",
              "      <td>0.635558</td>\n",
              "      <td>0.463917</td>\n",
              "      <td>-0.114805</td>\n",
              "      <td>-0.183361</td>\n",
              "      <td>-0.145783</td>\n",
              "      <td>-0.069083</td>\n",
              "      <td>-0.225775</td>\n",
              "      <td>-0.638672</td>\n",
              "      <td>0.101288</td>\n",
              "      <td>-0.339846</td>\n",
              "      <td>0.167170</td>\n",
              "      <td>0.125895</td>\n",
              "      <td>-0.008983</td>\n",
              "      <td>0.014724</td>\n",
              "      <td>2.69</td>\n",
              "      <td>0</td>\n",
              "    </tr>\n",
              "    <tr>\n",
              "      <th>2</th>\n",
              "      <td>1.0</td>\n",
              "      <td>-1.358354</td>\n",
              "      <td>-1.340163</td>\n",
              "      <td>1.773209</td>\n",
              "      <td>0.379780</td>\n",
              "      <td>-0.503198</td>\n",
              "      <td>1.800499</td>\n",
              "      <td>0.791461</td>\n",
              "      <td>0.247676</td>\n",
              "      <td>-1.514654</td>\n",
              "      <td>0.207643</td>\n",
              "      <td>0.624501</td>\n",
              "      <td>0.066084</td>\n",
              "      <td>0.717293</td>\n",
              "      <td>-0.165946</td>\n",
              "      <td>2.345865</td>\n",
              "      <td>-2.890083</td>\n",
              "      <td>1.109969</td>\n",
              "      <td>-0.121359</td>\n",
              "      <td>-2.261857</td>\n",
              "      <td>0.524980</td>\n",
              "      <td>0.247998</td>\n",
              "      <td>0.771679</td>\n",
              "      <td>0.909412</td>\n",
              "      <td>-0.689281</td>\n",
              "      <td>-0.327642</td>\n",
              "      <td>-0.139097</td>\n",
              "      <td>-0.055353</td>\n",
              "      <td>-0.059752</td>\n",
              "      <td>378.66</td>\n",
              "      <td>0</td>\n",
              "    </tr>\n",
              "    <tr>\n",
              "      <th>3</th>\n",
              "      <td>1.0</td>\n",
              "      <td>-0.966272</td>\n",
              "      <td>-0.185226</td>\n",
              "      <td>1.792993</td>\n",
              "      <td>-0.863291</td>\n",
              "      <td>-0.010309</td>\n",
              "      <td>1.247203</td>\n",
              "      <td>0.237609</td>\n",
              "      <td>0.377436</td>\n",
              "      <td>-1.387024</td>\n",
              "      <td>-0.054952</td>\n",
              "      <td>-0.226487</td>\n",
              "      <td>0.178228</td>\n",
              "      <td>0.507757</td>\n",
              "      <td>-0.287924</td>\n",
              "      <td>-0.631418</td>\n",
              "      <td>-1.059647</td>\n",
              "      <td>-0.684093</td>\n",
              "      <td>1.965775</td>\n",
              "      <td>-1.232622</td>\n",
              "      <td>-0.208038</td>\n",
              "      <td>-0.108300</td>\n",
              "      <td>0.005274</td>\n",
              "      <td>-0.190321</td>\n",
              "      <td>-1.175575</td>\n",
              "      <td>0.647376</td>\n",
              "      <td>-0.221929</td>\n",
              "      <td>0.062723</td>\n",
              "      <td>0.061458</td>\n",
              "      <td>123.50</td>\n",
              "      <td>0</td>\n",
              "    </tr>\n",
              "    <tr>\n",
              "      <th>4</th>\n",
              "      <td>2.0</td>\n",
              "      <td>-1.158233</td>\n",
              "      <td>0.877737</td>\n",
              "      <td>1.548718</td>\n",
              "      <td>0.403034</td>\n",
              "      <td>-0.407193</td>\n",
              "      <td>0.095921</td>\n",
              "      <td>0.592941</td>\n",
              "      <td>-0.270533</td>\n",
              "      <td>0.817739</td>\n",
              "      <td>0.753074</td>\n",
              "      <td>-0.822843</td>\n",
              "      <td>0.538196</td>\n",
              "      <td>1.345852</td>\n",
              "      <td>-1.119670</td>\n",
              "      <td>0.175121</td>\n",
              "      <td>-0.451449</td>\n",
              "      <td>-0.237033</td>\n",
              "      <td>-0.038195</td>\n",
              "      <td>0.803487</td>\n",
              "      <td>0.408542</td>\n",
              "      <td>-0.009431</td>\n",
              "      <td>0.798278</td>\n",
              "      <td>-0.137458</td>\n",
              "      <td>0.141267</td>\n",
              "      <td>-0.206010</td>\n",
              "      <td>0.502292</td>\n",
              "      <td>0.219422</td>\n",
              "      <td>0.215153</td>\n",
              "      <td>69.99</td>\n",
              "      <td>0</td>\n",
              "    </tr>\n",
              "    <tr>\n",
              "      <th>5</th>\n",
              "      <td>2.0</td>\n",
              "      <td>-0.425966</td>\n",
              "      <td>0.960523</td>\n",
              "      <td>1.141109</td>\n",
              "      <td>-0.168252</td>\n",
              "      <td>0.420987</td>\n",
              "      <td>-0.029728</td>\n",
              "      <td>0.476201</td>\n",
              "      <td>0.260314</td>\n",
              "      <td>-0.568671</td>\n",
              "      <td>-0.371407</td>\n",
              "      <td>1.341262</td>\n",
              "      <td>0.359894</td>\n",
              "      <td>-0.358091</td>\n",
              "      <td>-0.137134</td>\n",
              "      <td>0.517617</td>\n",
              "      <td>0.401726</td>\n",
              "      <td>-0.058133</td>\n",
              "      <td>0.068653</td>\n",
              "      <td>-0.033194</td>\n",
              "      <td>0.084968</td>\n",
              "      <td>-0.208254</td>\n",
              "      <td>-0.559825</td>\n",
              "      <td>-0.026398</td>\n",
              "      <td>-0.371427</td>\n",
              "      <td>-0.232794</td>\n",
              "      <td>0.105915</td>\n",
              "      <td>0.253844</td>\n",
              "      <td>0.081080</td>\n",
              "      <td>3.67</td>\n",
              "      <td>0</td>\n",
              "    </tr>\n",
              "    <tr>\n",
              "      <th>6</th>\n",
              "      <td>4.0</td>\n",
              "      <td>1.229658</td>\n",
              "      <td>0.141004</td>\n",
              "      <td>0.045371</td>\n",
              "      <td>1.202613</td>\n",
              "      <td>0.191881</td>\n",
              "      <td>0.272708</td>\n",
              "      <td>-0.005159</td>\n",
              "      <td>0.081213</td>\n",
              "      <td>0.464960</td>\n",
              "      <td>-0.099254</td>\n",
              "      <td>-1.416907</td>\n",
              "      <td>-0.153826</td>\n",
              "      <td>-0.751063</td>\n",
              "      <td>0.167372</td>\n",
              "      <td>0.050144</td>\n",
              "      <td>-0.443587</td>\n",
              "      <td>0.002821</td>\n",
              "      <td>-0.611987</td>\n",
              "      <td>-0.045575</td>\n",
              "      <td>-0.219633</td>\n",
              "      <td>-0.167716</td>\n",
              "      <td>-0.270710</td>\n",
              "      <td>-0.154104</td>\n",
              "      <td>-0.780055</td>\n",
              "      <td>0.750137</td>\n",
              "      <td>-0.257237</td>\n",
              "      <td>0.034507</td>\n",
              "      <td>0.005168</td>\n",
              "      <td>4.99</td>\n",
              "      <td>0</td>\n",
              "    </tr>\n",
              "    <tr>\n",
              "      <th>7</th>\n",
              "      <td>7.0</td>\n",
              "      <td>-0.644269</td>\n",
              "      <td>1.417964</td>\n",
              "      <td>1.074380</td>\n",
              "      <td>-0.492199</td>\n",
              "      <td>0.948934</td>\n",
              "      <td>0.428118</td>\n",
              "      <td>1.120631</td>\n",
              "      <td>-3.807864</td>\n",
              "      <td>0.615375</td>\n",
              "      <td>1.249376</td>\n",
              "      <td>-0.619468</td>\n",
              "      <td>0.291474</td>\n",
              "      <td>1.757964</td>\n",
              "      <td>-1.323865</td>\n",
              "      <td>0.686133</td>\n",
              "      <td>-0.076127</td>\n",
              "      <td>-1.222127</td>\n",
              "      <td>-0.358222</td>\n",
              "      <td>0.324505</td>\n",
              "      <td>-0.156742</td>\n",
              "      <td>1.943465</td>\n",
              "      <td>-1.015455</td>\n",
              "      <td>0.057504</td>\n",
              "      <td>-0.649709</td>\n",
              "      <td>-0.415267</td>\n",
              "      <td>-0.051634</td>\n",
              "      <td>-1.206921</td>\n",
              "      <td>-1.085339</td>\n",
              "      <td>40.80</td>\n",
              "      <td>0</td>\n",
              "    </tr>\n",
              "    <tr>\n",
              "      <th>8</th>\n",
              "      <td>7.0</td>\n",
              "      <td>-0.894286</td>\n",
              "      <td>0.286157</td>\n",
              "      <td>-0.113192</td>\n",
              "      <td>-0.271526</td>\n",
              "      <td>2.669599</td>\n",
              "      <td>3.721818</td>\n",
              "      <td>0.370145</td>\n",
              "      <td>0.851084</td>\n",
              "      <td>-0.392048</td>\n",
              "      <td>-0.410430</td>\n",
              "      <td>-0.705117</td>\n",
              "      <td>-0.110452</td>\n",
              "      <td>-0.286254</td>\n",
              "      <td>0.074355</td>\n",
              "      <td>-0.328783</td>\n",
              "      <td>-0.210077</td>\n",
              "      <td>-0.499768</td>\n",
              "      <td>0.118765</td>\n",
              "      <td>0.570328</td>\n",
              "      <td>0.052736</td>\n",
              "      <td>-0.073425</td>\n",
              "      <td>-0.268092</td>\n",
              "      <td>-0.204233</td>\n",
              "      <td>1.011592</td>\n",
              "      <td>0.373205</td>\n",
              "      <td>-0.384157</td>\n",
              "      <td>0.011747</td>\n",
              "      <td>0.142404</td>\n",
              "      <td>93.20</td>\n",
              "      <td>0</td>\n",
              "    </tr>\n",
              "    <tr>\n",
              "      <th>9</th>\n",
              "      <td>9.0</td>\n",
              "      <td>-0.338262</td>\n",
              "      <td>1.119593</td>\n",
              "      <td>1.044367</td>\n",
              "      <td>-0.222187</td>\n",
              "      <td>0.499361</td>\n",
              "      <td>-0.246761</td>\n",
              "      <td>0.651583</td>\n",
              "      <td>0.069539</td>\n",
              "      <td>-0.736727</td>\n",
              "      <td>-0.366846</td>\n",
              "      <td>1.017614</td>\n",
              "      <td>0.836390</td>\n",
              "      <td>1.006844</td>\n",
              "      <td>-0.443523</td>\n",
              "      <td>0.150219</td>\n",
              "      <td>0.739453</td>\n",
              "      <td>-0.540980</td>\n",
              "      <td>0.476677</td>\n",
              "      <td>0.451773</td>\n",
              "      <td>0.203711</td>\n",
              "      <td>-0.246914</td>\n",
              "      <td>-0.633753</td>\n",
              "      <td>-0.120794</td>\n",
              "      <td>-0.385050</td>\n",
              "      <td>-0.069733</td>\n",
              "      <td>0.094199</td>\n",
              "      <td>0.246219</td>\n",
              "      <td>0.083076</td>\n",
              "      <td>3.68</td>\n",
              "      <td>0</td>\n",
              "    </tr>\n",
              "  </tbody>\n",
              "</table>\n",
              "</div>"
            ],
            "text/plain": [
              "   Time        V1        V2        V3  ...       V27       V28  Amount  Class\n",
              "0   0.0 -1.359807 -0.072781  2.536347  ...  0.133558 -0.021053  149.62      0\n",
              "1   0.0  1.191857  0.266151  0.166480  ... -0.008983  0.014724    2.69      0\n",
              "2   1.0 -1.358354 -1.340163  1.773209  ... -0.055353 -0.059752  378.66      0\n",
              "3   1.0 -0.966272 -0.185226  1.792993  ...  0.062723  0.061458  123.50      0\n",
              "4   2.0 -1.158233  0.877737  1.548718  ...  0.219422  0.215153   69.99      0\n",
              "5   2.0 -0.425966  0.960523  1.141109  ...  0.253844  0.081080    3.67      0\n",
              "6   4.0  1.229658  0.141004  0.045371  ...  0.034507  0.005168    4.99      0\n",
              "7   7.0 -0.644269  1.417964  1.074380  ... -1.206921 -1.085339   40.80      0\n",
              "8   7.0 -0.894286  0.286157 -0.113192  ...  0.011747  0.142404   93.20      0\n",
              "9   9.0 -0.338262  1.119593  1.044367  ...  0.246219  0.083076    3.68      0\n",
              "\n",
              "[10 rows x 31 columns]"
            ]
          },
          "metadata": {
            "tags": []
          },
          "execution_count": 40
        }
      ]
    },
    {
      "cell_type": "markdown",
      "metadata": {
        "id": "5bmX3sv_z_S_",
        "colab_type": "text"
      },
      "source": [
        "First 30 columns in this dataset are the input variables while the 31st column is the output i.e. if the transaction was a fraudulent transaction. \n",
        "\n",
        "So, we create 'X' as the array of the input variables while we keep the output label ( 0 or 1 ) in the 'y' array"
      ]
    },
    {
      "cell_type": "code",
      "metadata": {
        "id": "AOuT5dizrKuJ",
        "colab_type": "code",
        "colab": {
          "base_uri": "https://localhost:8080/",
          "height": 50
        },
        "outputId": "cc322f5c-9dcd-47fe-8792-efd49095bea8"
      },
      "source": [
        "X = dataframe.iloc[:,0:30].values\n",
        "y = dataframe.iloc[:,30:31].values\n",
        "print(X.shape)\n",
        "print(y.shape)"
      ],
      "execution_count": 42,
      "outputs": [
        {
          "output_type": "stream",
          "text": [
            "(284807, 30)\n",
            "(284807, 1)\n"
          ],
          "name": "stdout"
        }
      ]
    },
    {
      "cell_type": "markdown",
      "metadata": {
        "id": "hyoPWMR40YZN",
        "colab_type": "text"
      },
      "source": [
        "The input array has several columns with data ranging in their respective scales. To normalize the data we use StandardScaler module to normalize the values."
      ]
    },
    {
      "cell_type": "code",
      "metadata": {
        "id": "Gvn4PBinrcVS",
        "colab_type": "code",
        "colab": {}
      },
      "source": [
        "from sklearn.preprocessing import StandardScaler\n",
        "scaler = StandardScaler()\n",
        "x = scaler.fit_transform(X)"
      ],
      "execution_count": 0,
      "outputs": []
    },
    {
      "cell_type": "markdown",
      "metadata": {
        "id": "Bpm2B9M90qIF",
        "colab_type": "text"
      },
      "source": [
        "After having normalized the input values, now it is time to split the data in training and validation datasets. Here, we have taken 30% as the validation dataset and 70% to the training dataset."
      ]
    },
    {
      "cell_type": "code",
      "metadata": {
        "id": "9utwfJJTrkJ7",
        "colab_type": "code",
        "colab": {}
      },
      "source": [
        "from sklearn.model_selection import train_test_split\n",
        "x_train, x_test, y_train, y_test = train_test_split(x, y, test_size = 0.4)"
      ],
      "execution_count": 0,
      "outputs": []
    },
    {
      "cell_type": "markdown",
      "metadata": {
        "id": "cIBZsGsT02oU",
        "colab_type": "text"
      },
      "source": [
        "Now we are ready to create the neural network model. This is a binary classification type feedforward network. \n",
        "\n",
        "The input layer has 30 variables. We consider two dense layers of 64 neurons each before finally creating the output layer. We have considered 'RelU' activation for the dense layers while 'Sigmoid' for the output layer. This approach is as per the book 'Deep learning with python' book by Francois Chollet."
      ]
    },
    {
      "cell_type": "code",
      "metadata": {
        "id": "DaZtztuKrxOW",
        "colab_type": "code",
        "colab": {}
      },
      "source": [
        "from keras import models\n",
        "from keras import layers\n",
        "from keras import optimizers\n",
        "from keras import losses\n",
        "from keras import metrics\n",
        "\n",
        "model = models.Sequential()\n",
        "model.add(layers.Dense(64, activation = 'relu'))\n",
        "model.add(layers.Dense(64, activation = 'relu'))\n",
        "model.add(layers.Dense(1, activation = 'sigmoid'))\n",
        "\n",
        "model.compile(optimizer=optimizers.RMSprop(lr=0.001),loss=losses.binary_crossentropy,metrics=[metrics.binary_accuracy])"
      ],
      "execution_count": 0,
      "outputs": []
    },
    {
      "cell_type": "markdown",
      "metadata": {
        "id": "V3vRlhOA1hEv",
        "colab_type": "text"
      },
      "source": [
        "Having created and compiled the neural model, now we train the dataset for 50 epochs and a batch size of 500"
      ]
    },
    {
      "cell_type": "code",
      "metadata": {
        "id": "AYxfYP7ZtdEh",
        "colab_type": "code",
        "colab": {
          "base_uri": "https://localhost:8080/",
          "height": 1000
        },
        "outputId": "7bc9801a-8a54-47af-b98b-5e9f78d46eaf"
      },
      "source": [
        "history = model.fit(x_train, y_train, epochs = 50, batch_size = 500, validation_data=(x_test, y_test))"
      ],
      "execution_count": 47,
      "outputs": [
        {
          "output_type": "stream",
          "text": [
            "Train on 170884 samples, validate on 113923 samples\n",
            "Epoch 1/50\n",
            "170884/170884 [==============================] - 1s 6us/step - loss: 0.0249 - binary_accuracy: 0.9969 - val_loss: 0.0041 - val_binary_accuracy: 0.9994\n",
            "Epoch 2/50\n",
            "170884/170884 [==============================] - 1s 5us/step - loss: 0.0039 - binary_accuracy: 0.9994 - val_loss: 0.0030 - val_binary_accuracy: 0.9994\n",
            "Epoch 3/50\n",
            "170884/170884 [==============================] - 1s 5us/step - loss: 0.0033 - binary_accuracy: 0.9994 - val_loss: 0.0031 - val_binary_accuracy: 0.9994\n",
            "Epoch 4/50\n",
            "170884/170884 [==============================] - 1s 6us/step - loss: 0.0031 - binary_accuracy: 0.9994 - val_loss: 0.0028 - val_binary_accuracy: 0.9994\n",
            "Epoch 5/50\n",
            "170884/170884 [==============================] - 1s 5us/step - loss: 0.0029 - binary_accuracy: 0.9995 - val_loss: 0.0032 - val_binary_accuracy: 0.9994\n",
            "Epoch 6/50\n",
            "170884/170884 [==============================] - 1s 5us/step - loss: 0.0028 - binary_accuracy: 0.9995 - val_loss: 0.0028 - val_binary_accuracy: 0.9994\n",
            "Epoch 7/50\n",
            "170884/170884 [==============================] - 1s 5us/step - loss: 0.0027 - binary_accuracy: 0.9995 - val_loss: 0.0028 - val_binary_accuracy: 0.9994\n",
            "Epoch 8/50\n",
            "170884/170884 [==============================] - 1s 5us/step - loss: 0.0026 - binary_accuracy: 0.9995 - val_loss: 0.0026 - val_binary_accuracy: 0.9994\n",
            "Epoch 9/50\n",
            "170884/170884 [==============================] - 1s 6us/step - loss: 0.0025 - binary_accuracy: 0.9996 - val_loss: 0.0030 - val_binary_accuracy: 0.9994\n",
            "Epoch 10/50\n",
            "170884/170884 [==============================] - 1s 5us/step - loss: 0.0025 - binary_accuracy: 0.9995 - val_loss: 0.0028 - val_binary_accuracy: 0.9995\n",
            "Epoch 11/50\n",
            "170884/170884 [==============================] - 1s 5us/step - loss: 0.0024 - binary_accuracy: 0.9996 - val_loss: 0.0029 - val_binary_accuracy: 0.9995\n",
            "Epoch 12/50\n",
            "170884/170884 [==============================] - 1s 5us/step - loss: 0.0024 - binary_accuracy: 0.9995 - val_loss: 0.0027 - val_binary_accuracy: 0.9994\n",
            "Epoch 13/50\n",
            "170884/170884 [==============================] - 1s 6us/step - loss: 0.0022 - binary_accuracy: 0.9996 - val_loss: 0.0032 - val_binary_accuracy: 0.9994\n",
            "Epoch 14/50\n",
            "170884/170884 [==============================] - 1s 6us/step - loss: 0.0022 - binary_accuracy: 0.9996 - val_loss: 0.0028 - val_binary_accuracy: 0.9994\n",
            "Epoch 15/50\n",
            "170884/170884 [==============================] - 1s 5us/step - loss: 0.0021 - binary_accuracy: 0.9996 - val_loss: 0.0032 - val_binary_accuracy: 0.9995\n",
            "Epoch 16/50\n",
            "170884/170884 [==============================] - 1s 6us/step - loss: 0.0022 - binary_accuracy: 0.9996 - val_loss: 0.0028 - val_binary_accuracy: 0.9995\n",
            "Epoch 17/50\n",
            "170884/170884 [==============================] - 1s 6us/step - loss: 0.0020 - binary_accuracy: 0.9996 - val_loss: 0.0031 - val_binary_accuracy: 0.9994\n",
            "Epoch 18/50\n",
            "170884/170884 [==============================] - 1s 6us/step - loss: 0.0021 - binary_accuracy: 0.9996 - val_loss: 0.0029 - val_binary_accuracy: 0.9994\n",
            "Epoch 19/50\n",
            "170884/170884 [==============================] - 1s 5us/step - loss: 0.0020 - binary_accuracy: 0.9996 - val_loss: 0.0029 - val_binary_accuracy: 0.9995\n",
            "Epoch 20/50\n",
            "170884/170884 [==============================] - 1s 6us/step - loss: 0.0019 - binary_accuracy: 0.9996 - val_loss: 0.0035 - val_binary_accuracy: 0.9994\n",
            "Epoch 21/50\n",
            "170884/170884 [==============================] - 1s 5us/step - loss: 0.0020 - binary_accuracy: 0.9996 - val_loss: 0.0029 - val_binary_accuracy: 0.9995\n",
            "Epoch 22/50\n",
            "170884/170884 [==============================] - 1s 6us/step - loss: 0.0018 - binary_accuracy: 0.9996 - val_loss: 0.0032 - val_binary_accuracy: 0.9994\n",
            "Epoch 23/50\n",
            "170884/170884 [==============================] - 1s 6us/step - loss: 0.0018 - binary_accuracy: 0.9996 - val_loss: 0.0033 - val_binary_accuracy: 0.9995\n",
            "Epoch 24/50\n",
            "170884/170884 [==============================] - 1s 5us/step - loss: 0.0018 - binary_accuracy: 0.9996 - val_loss: 0.0030 - val_binary_accuracy: 0.9995\n",
            "Epoch 25/50\n",
            "170884/170884 [==============================] - 1s 5us/step - loss: 0.0018 - binary_accuracy: 0.9996 - val_loss: 0.0030 - val_binary_accuracy: 0.9994\n",
            "Epoch 26/50\n",
            "170884/170884 [==============================] - 1s 5us/step - loss: 0.0017 - binary_accuracy: 0.9996 - val_loss: 0.0031 - val_binary_accuracy: 0.9994\n",
            "Epoch 27/50\n",
            "170884/170884 [==============================] - 1s 6us/step - loss: 0.0016 - binary_accuracy: 0.9996 - val_loss: 0.0031 - val_binary_accuracy: 0.9994\n",
            "Epoch 28/50\n",
            "170884/170884 [==============================] - 1s 6us/step - loss: 0.0017 - binary_accuracy: 0.9996 - val_loss: 0.0031 - val_binary_accuracy: 0.9995\n",
            "Epoch 29/50\n",
            "170884/170884 [==============================] - 1s 6us/step - loss: 0.0017 - binary_accuracy: 0.9996 - val_loss: 0.0031 - val_binary_accuracy: 0.9995\n",
            "Epoch 30/50\n",
            "170884/170884 [==============================] - 1s 6us/step - loss: 0.0016 - binary_accuracy: 0.9997 - val_loss: 0.0037 - val_binary_accuracy: 0.9994\n",
            "Epoch 31/50\n",
            "170884/170884 [==============================] - 1s 6us/step - loss: 0.0016 - binary_accuracy: 0.9997 - val_loss: 0.0033 - val_binary_accuracy: 0.9994\n",
            "Epoch 32/50\n",
            "170884/170884 [==============================] - 1s 6us/step - loss: 0.0015 - binary_accuracy: 0.9996 - val_loss: 0.0036 - val_binary_accuracy: 0.9994\n",
            "Epoch 33/50\n",
            "170884/170884 [==============================] - 1s 5us/step - loss: 0.0016 - binary_accuracy: 0.9996 - val_loss: 0.0035 - val_binary_accuracy: 0.9994\n",
            "Epoch 34/50\n",
            "170884/170884 [==============================] - 1s 5us/step - loss: 0.0015 - binary_accuracy: 0.9996 - val_loss: 0.0033 - val_binary_accuracy: 0.9994\n",
            "Epoch 35/50\n",
            "170884/170884 [==============================] - 1s 5us/step - loss: 0.0014 - binary_accuracy: 0.9997 - val_loss: 0.0034 - val_binary_accuracy: 0.9994\n",
            "Epoch 36/50\n",
            "170884/170884 [==============================] - 1s 5us/step - loss: 0.0015 - binary_accuracy: 0.9996 - val_loss: 0.0034 - val_binary_accuracy: 0.9994\n",
            "Epoch 37/50\n",
            "170884/170884 [==============================] - 1s 5us/step - loss: 0.0014 - binary_accuracy: 0.9997 - val_loss: 0.0034 - val_binary_accuracy: 0.9994\n",
            "Epoch 38/50\n",
            "170884/170884 [==============================] - 1s 5us/step - loss: 0.0015 - binary_accuracy: 0.9996 - val_loss: 0.0036 - val_binary_accuracy: 0.9994\n",
            "Epoch 39/50\n",
            "170884/170884 [==============================] - 1s 5us/step - loss: 0.0014 - binary_accuracy: 0.9997 - val_loss: 0.0035 - val_binary_accuracy: 0.9994\n",
            "Epoch 40/50\n",
            "170884/170884 [==============================] - 1s 6us/step - loss: 0.0014 - binary_accuracy: 0.9997 - val_loss: 0.0036 - val_binary_accuracy: 0.9994\n",
            "Epoch 41/50\n",
            "170884/170884 [==============================] - 1s 5us/step - loss: 0.0013 - binary_accuracy: 0.9997 - val_loss: 0.0039 - val_binary_accuracy: 0.9994\n",
            "Epoch 42/50\n",
            "170884/170884 [==============================] - 1s 6us/step - loss: 0.0013 - binary_accuracy: 0.9997 - val_loss: 0.0041 - val_binary_accuracy: 0.9994\n",
            "Epoch 43/50\n",
            "170884/170884 [==============================] - 1s 5us/step - loss: 0.0014 - binary_accuracy: 0.9997 - val_loss: 0.0038 - val_binary_accuracy: 0.9994\n",
            "Epoch 44/50\n",
            "170884/170884 [==============================] - 1s 5us/step - loss: 0.0013 - binary_accuracy: 0.9997 - val_loss: 0.0039 - val_binary_accuracy: 0.9994\n",
            "Epoch 45/50\n",
            "170884/170884 [==============================] - 1s 6us/step - loss: 0.0014 - binary_accuracy: 0.9997 - val_loss: 0.0040 - val_binary_accuracy: 0.9994\n",
            "Epoch 46/50\n",
            "170884/170884 [==============================] - 1s 5us/step - loss: 0.0013 - binary_accuracy: 0.9997 - val_loss: 0.0043 - val_binary_accuracy: 0.9994\n",
            "Epoch 47/50\n",
            "170884/170884 [==============================] - 1s 5us/step - loss: 0.0013 - binary_accuracy: 0.9997 - val_loss: 0.0039 - val_binary_accuracy: 0.9995\n",
            "Epoch 48/50\n",
            "170884/170884 [==============================] - 1s 6us/step - loss: 0.0012 - binary_accuracy: 0.9997 - val_loss: 0.0039 - val_binary_accuracy: 0.9994\n",
            "Epoch 49/50\n",
            "170884/170884 [==============================] - 1s 5us/step - loss: 0.0012 - binary_accuracy: 0.9997 - val_loss: 0.0042 - val_binary_accuracy: 0.9994\n",
            "Epoch 50/50\n",
            "170884/170884 [==============================] - 1s 6us/step - loss: 0.0012 - binary_accuracy: 0.9997 - val_loss: 0.0040 - val_binary_accuracy: 0.9995\n"
          ],
          "name": "stdout"
        }
      ]
    },
    {
      "cell_type": "markdown",
      "metadata": {
        "id": "9obM9j6U1zKH",
        "colab_type": "text"
      },
      "source": [
        "The output history has a history method which results in the dictionary of the output of the training step"
      ]
    },
    {
      "cell_type": "code",
      "metadata": {
        "id": "0mbRw4dKtLGc",
        "colab_type": "code",
        "colab": {
          "base_uri": "https://localhost:8080/",
          "height": 34
        },
        "outputId": "fcdcf1b4-3d9a-426e-fdb4-fd2c0c497c36"
      },
      "source": [
        "history_dict = history.history\n",
        "history_dict.keys()"
      ],
      "execution_count": 48,
      "outputs": [
        {
          "output_type": "execute_result",
          "data": {
            "text/plain": [
              "dict_keys(['val_loss', 'val_binary_accuracy', 'loss', 'binary_accuracy'])"
            ]
          },
          "metadata": {
            "tags": []
          },
          "execution_count": 48
        }
      ]
    },
    {
      "cell_type": "markdown",
      "metadata": {
        "id": "s2lScFXj18_A",
        "colab_type": "text"
      },
      "source": [
        "Let us look at the training vs validation graphically. We use matplotlib for the purpose.\n",
        "\n",
        "As we can see here, the model converges well after only a few epochs."
      ]
    },
    {
      "cell_type": "code",
      "metadata": {
        "id": "LeYCl-jfvk8P",
        "colab_type": "code",
        "colab": {
          "base_uri": "https://localhost:8080/",
          "height": 295
        },
        "outputId": "fdbbf248-ddcd-485d-d806-35176e19979b"
      },
      "source": [
        "import matplotlib.pyplot as plt\n",
        "\n",
        "history_dict = history.history\n",
        "\n",
        "loss_values = history_dict['loss']\n",
        "val_loss_values = history_dict['val_loss']\n",
        "epochs = range(1, len(history_dict['binary_accuracy']) + 1)\n",
        "\n",
        "plt.plot(epochs, loss_values, 'bo', label='Training loss')\n",
        "plt.plot(epochs, val_loss_values, 'b', label='Validation loss')\n",
        "\n",
        "plt.title('Training and validation loss')\n",
        "plt.xlabel('Epochs')\n",
        "plt.ylabel('Loss')\n",
        "plt.legend()\n",
        "plt.show()"
      ],
      "execution_count": 49,
      "outputs": [
        {
          "output_type": "display_data",
          "data": {
            "image/png": "[encoded data removed]",
            "text/plain": [
              "<Figure size 432x288 with 1 Axes>"
            ]
          },
          "metadata": {
            "tags": [],
            "needs_background": "light"
          }
        }
      ]
    },
    {
      "cell_type": "markdown",
      "metadata": {
        "id": "jAhA34yC3Dlq",
        "colab_type": "text"
      },
      "source": [
        "Similarly, we plot for training versus validation accuracy. "
      ]
    },
    {
      "cell_type": "code",
      "metadata": {
        "id": "QenUUYfX2gPX",
        "colab_type": "code",
        "colab": {
          "base_uri": "https://localhost:8080/",
          "height": 295
        },
        "outputId": "5ffe9678-dbce-4459-c341-4d9e2b111072"
      },
      "source": [
        "import matplotlib.pyplot as plt\n",
        "\n",
        "history_dict = history.history\n",
        "\n",
        "accuracy_values = history_dict['binary_accuracy']\n",
        "val_accuracy_values = history_dict['val_binary_accuracy']\n",
        "epochs = range(1, len(history_dict['binary_accuracy']) + 1)\n",
        "\n",
        "plt.plot(epochs, accuracy_values, 'bo', label='Training accuracy')\n",
        "plt.plot(epochs, val_accuracy_values, 'b', label='Validation accuracy')\n",
        "\n",
        "plt.title('Training and validation accuracy')\n",
        "plt.xlabel('Epochs')\n",
        "plt.ylabel('Accuracy')\n",
        "plt.legend()\n",
        "plt.show()"
      ],
      "execution_count": 50,
      "outputs": [
        {
          "output_type": "display_data",
          "data": {
            "image/png": "[encoded data removed]",
            "text/plain": [
              "<Figure size 432x288 with 1 Axes>"
            ]
          },
          "metadata": {
            "tags": [],
            "needs_background": "light"
          }
        }
      ]
    },
    {
      "cell_type": "markdown",
      "metadata": {
        "id": "35wDaWSv3nzB",
        "colab_type": "text"
      },
      "source": [
        "Evaluation of the results"
      ]
    },
    {
      "cell_type": "code",
      "metadata": {
        "id": "tOH649si3CuB",
        "colab_type": "code",
        "colab": {
          "base_uri": "https://localhost:8080/",
          "height": 84
        },
        "outputId": "0352d5fd-8941-43a9-9992-1f76fc2f7a72"
      },
      "source": [
        "training_results = model.evaluate(x_train, y_train)\n",
        "print(\"Training results: {}\".format(training_results))\n",
        "test_results = model.evaluate(x_test, y_test)\n",
        "print(\"'Test results: {}\".format(test_results))"
      ],
      "execution_count": 52,
      "outputs": [
        {
          "output_type": "stream",
          "text": [
            "170884/170884 [==============================] - 3s 18us/step\n",
            "Training results: [0.0009646479707164126, 0.9997483491897583]\n",
            "113923/113923 [==============================] - 2s 18us/step\n",
            "'Test results: [0.0040399302243646785, 0.9994645714759827]\n"
          ],
          "name": "stdout"
        }
      ]
    },
    {
      "cell_type": "markdown",
      "metadata": {
        "id": "tuEyeZl53kRU",
        "colab_type": "text"
      },
      "source": [
        "Predictions on the test set"
      ]
    },
    {
      "cell_type": "code",
      "metadata": {
        "id": "5j51j8qt3aGs",
        "colab_type": "code",
        "colab": {}
      },
      "source": [
        "y_predictions = model.predict(x_test)"
      ],
      "execution_count": 0,
      "outputs": []
    }
  ]
}