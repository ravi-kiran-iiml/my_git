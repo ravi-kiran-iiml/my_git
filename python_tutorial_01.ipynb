{
  "nbformat": 4,
  "nbformat_minor": 0,
  "metadata": {
    "colab": {
      "name": "python_tutorial_01.ipynb",
      "provenance": [],
      "collapsed_sections": [],
      "authorship_tag": "ABX9TyPok+0kgDrUv+Zl59xD6HtO",
      "include_colab_link": true
    },
    "kernelspec": {
      "name": "python3",
      "display_name": "Python 3"
    }
  },
  "cells": [
    {
      "cell_type": "markdown",
      "metadata": {
        "id": "view-in-github",
        "colab_type": "text"
      },
      "source": [
        "<a href=\"https://colab.research.google.com/github/ravi-kiran-iiml/my_git/blob/master/python_tutorial_01.ipynb\" target=\"_parent\"><img src=\"https://colab.research.google.com/assets/colab-badge.svg\" alt=\"Open In Colab\"/></a>"
      ]
    },
    {
      "cell_type": "code",
      "metadata": {
        "id": "lorEomqdIkGa",
        "colab_type": "code",
        "colab": {
          "base_uri": "https://localhost:8080/",
          "height": 52
        },
        "outputId": "f428af21-baae-4917-8a46-3402348f35ec"
      },
      "source": [
        "# first program\n",
        "\n",
        "print(\"Hello World!\")\n",
        "print(\"Meoww Meoww\")"
      ],
      "execution_count": 1,
      "outputs": [
        {
          "output_type": "stream",
          "text": [
            "Hello World!\n",
            "Meoww Meoww\n"
          ],
          "name": "stdout"
        }
      ]
    },
    {
      "cell_type": "code",
      "metadata": {
        "id": "fh0c-jnyLZYS",
        "colab_type": "code",
        "colab": {
          "base_uri": "https://localhost:8080/",
          "height": 139
        },
        "outputId": "d50e7bf5-ce70-483c-a509-ab9f225f1535"
      },
      "source": [
        "# arithmetic operations\n",
        "\n",
        "# add\n",
        "print(2 + 3)\n",
        "\n",
        "# subtract\n",
        "print(5 - 7)\n",
        "\n",
        "# multiply\n",
        "print(2 * 10)\n",
        "\n",
        "# divide\n",
        "print(10 / 3)\n",
        "\n",
        "# integer divide\n",
        "print(10 // 3)\n",
        "\n",
        "# remainder\n",
        "print(10 % 3)\n",
        "\n",
        "# exponent\n",
        "print(3**10)"
      ],
      "execution_count": 2,
      "outputs": [
        {
          "output_type": "stream",
          "text": [
            "5\n",
            "-2\n",
            "20\n",
            "3.3333333333333335\n",
            "3\n",
            "1\n",
            "59049\n"
          ],
          "name": "stdout"
        }
      ]
    },
    {
      "cell_type": "code",
      "metadata": {
        "id": "nVVLcS0YLw1N",
        "colab_type": "code",
        "colab": {
          "base_uri": "https://localhost:8080/",
          "height": 52
        },
        "outputId": "72313d85-2c63-4cd7-ce14-f7c08c410138"
      },
      "source": [
        "# input method\n",
        "\n",
        "user_input = input(\"Enter your name: \")\n",
        "print(\"User's name is: \" + user_input)"
      ],
      "execution_count": 5,
      "outputs": [
        {
          "output_type": "stream",
          "text": [
            "Enter your name: Suresh\n",
            "User's name is: Suresh\n"
          ],
          "name": "stdout"
        }
      ]
    },
    {
      "cell_type": "code",
      "metadata": {
        "id": "1gi0NRPwMHH8",
        "colab_type": "code",
        "colab": {
          "base_uri": "https://localhost:8080/",
          "height": 35
        },
        "outputId": "449925dc-d6e9-4051-e562-a5dba10c292a"
      },
      "source": [
        "# int method\n",
        "int(11.33)"
      ],
      "execution_count": 6,
      "outputs": [
        {
          "output_type": "execute_result",
          "data": {
            "text/plain": [
              "11"
            ]
          },
          "metadata": {
            "tags": []
          },
          "execution_count": 6
        }
      ]
    },
    {
      "cell_type": "code",
      "metadata": {
        "id": "qKpEjbu7MQsK",
        "colab_type": "code",
        "colab": {}
      },
      "source": [
        "# variable names using underscores\n",
        " var_a = 10\n",
        " _var_a = 20\n",
        " var_a_ = 30 "
      ],
      "execution_count": 0,
      "outputs": []
    },
    {
      "cell_type": "code",
      "metadata": {
        "id": "KK3yHA4-Mcyc",
        "colab_type": "code",
        "colab": {}
      },
      "source": [
        "# comments\n",
        "\n",
        "# This is an inline comment\n",
        "\"\"\"\n",
        "This is a multi\n",
        "line comment\n",
        "\"\"\"\n"
      ],
      "execution_count": 0,
      "outputs": []
    },
    {
      "cell_type": "code",
      "metadata": {
        "id": "Pm3P3_1RMjV2",
        "colab_type": "code",
        "colab": {
          "base_uri": "https://localhost:8080/",
          "height": 87
        },
        "outputId": "1782ceef-e138-410d-95d3-b6de340e629f"
      },
      "source": [
        "# data types\n",
        "\n",
        "print(type(\"string\"))\n",
        "print(type(25))\n",
        "print(type(20.5))\n",
        "print(type(True))"
      ],
      "execution_count": 12,
      "outputs": [
        {
          "output_type": "stream",
          "text": [
            "<class 'str'>\n",
            "<class 'int'>\n",
            "<class 'float'>\n",
            "<class 'bool'>\n"
          ],
          "name": "stdout"
        }
      ]
    },
    {
      "cell_type": "code",
      "metadata": {
        "id": "Mj-mN5VyNIKS",
        "colab_type": "code",
        "colab": {
          "base_uri": "https://localhost:8080/",
          "height": 121
        },
        "outputId": "61199ef3-e0c9-4a8d-8579-6bb56743f408"
      },
      "source": [
        "# comparison operators\n",
        "\n",
        "a = 5\n",
        "b = 7\n",
        "\n",
        "print(a == b)\n",
        "print(a > b)\n",
        "print(a < b)\n",
        "print(a >= b)\n",
        "print(a <= b)\n",
        "print(a != b)"
      ],
      "execution_count": 13,
      "outputs": [
        {
          "output_type": "stream",
          "text": [
            "False\n",
            "False\n",
            "True\n",
            "False\n",
            "True\n",
            "True\n"
          ],
          "name": "stdout"
        }
      ]
    },
    {
      "cell_type": "code",
      "metadata": {
        "id": "4QvshScTNfUv",
        "colab_type": "code",
        "colab": {
          "base_uri": "https://localhost:8080/",
          "height": 69
        },
        "outputId": "51cdac51-cfa0-4e91-c7e2-624fe4b8a5f5"
      },
      "source": [
        "# in operations\n",
        "\n",
        "string = \"code\"\n",
        "\n",
        "print(string in \"Unicode\")\n",
        "print(string in \"UniCode\")\n",
        "print(string not in \"CoDecademy\")"
      ],
      "execution_count": 14,
      "outputs": [
        {
          "output_type": "stream",
          "text": [
            "True\n",
            "False\n",
            "True\n"
          ],
          "name": "stdout"
        }
      ]
    },
    {
      "cell_type": "code",
      "metadata": {
        "id": "-n3NPUeqNzaZ",
        "colab_type": "code",
        "colab": {}
      },
      "source": [
        ""
      ],
      "execution_count": 0,
      "outputs": []
    }
  ]
}